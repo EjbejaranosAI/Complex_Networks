{
 "cells": [
  {
   "cell_type": "code",
   "execution_count": 5,
   "metadata": {},
   "outputs": [],
   "source": [
    "import networkx as nx\n",
    "import numpy as np"
   ]
  },
  {
   "cell_type": "code",
   "execution_count": 6,
   "metadata": {},
   "outputs": [],
   "source": [
    "class BarbasiAlbert: \n",
    "    def __init__(self, num_nodes:int, num_edges:int,random_seed:int, graph:nx.Graph) -> None:\n",
    "        \"\"\"calling the constructor of the graph \"\"\"\n",
    "        self.num_nodes = num_nodes \n",
    "        self.num_edges = num_edges \n",
    "        self.seed = np.random.seed(random_seed)\n",
    "        self.graph = graph\n",
    "        self.source_nodes = len(graph)\n",
    "        self.repeated_nodes = self._get_repeated_nodes()\n",
    "    \n",
    "    def _get_repeated_nodes(self) -> list:\n",
    "        \"\"\"Function which gets the number of repeated nodes in the graph\"\"\"\n",
    "        return [node for node, degree in self.graph.degree() for _ in range(degree)]\n",
    "\n",
    "    def _get_random_node(self):\n",
    "        \"\"\"gets a subset to add a random edge and connection \"\"\"\n",
    "        subs = np.random.choice(self._get_repeated_nodes(), size=self.num_edges)\n",
    "        return subs\n",
    "    \n",
    "    def _generate_graph(self):\n",
    "        \"\"\"Generates the BA graph\"\"\"\n",
    "        ## set the repeated nodes to the function \n",
    "        \n",
    "        ## condition holds true \n",
    "        while self.source_nodes < self.num_nodes:\n",
    "            ## add the corresponding edges to the graph \n",
    "            # Code --> pick random node from the existing ones, of size m \n",
    "            self.graph.add_edges_from(zip([self.source_nodes]*self.num_edges, self._get_random_node()))\n",
    "            ## extend the repeated nodes list \n",
    "            self.repeated_nodes.extend(self._get_random_node())\n",
    "            ## extend the repeated nodes with source node * number_of_edges \n",
    "            self.repeated_nodes.extend([self.source_nodes] * self.num_edges)\n",
    "            ## counter to increase the self.source_node \n",
    "            self.source_nodes += 1\n",
    "        return self.graph \n",
    "    "
   ]
  },
  {
   "cell_type": "code",
   "execution_count": 7,
   "metadata": {},
   "outputs": [
    {
     "ename": "NameError",
     "evalue": "name 'np' is not defined",
     "output_type": "error",
     "traceback": [
      "\u001b[0;31m---------------------------------------------------------------------------\u001b[0m",
      "\u001b[0;31mNameError\u001b[0m                                 Traceback (most recent call last)",
      "\u001b[1;32m/Users/edisonjairbejaranosepulveda/Downloads/2_Models_of_complex_networks/Adapting_BA_from_NetworkX.ipynb Cell 3'\u001b[0m in \u001b[0;36m<cell line: 4>\u001b[0;34m()\u001b[0m\n\u001b[1;32m      <a href='vscode-notebook-cell:/Users/edisonjairbejaranosepulveda/Downloads/2_Models_of_complex_networks/Adapting_BA_from_NetworkX.ipynb#ch0000002?line=1'>2</a>\u001b[0m EDGES \u001b[39m=\u001b[39m \u001b[39m2\u001b[39m\n\u001b[1;32m      <a href='vscode-notebook-cell:/Users/edisonjairbejaranosepulveda/Downloads/2_Models_of_complex_networks/Adapting_BA_from_NetworkX.ipynb#ch0000002?line=2'>3</a>\u001b[0m \u001b[39m## generate a random graph from a numpy matrix with no self loops \u001b[39;00m\n\u001b[0;32m----> <a href='vscode-notebook-cell:/Users/edisonjairbejaranosepulveda/Downloads/2_Models_of_complex_networks/Adapting_BA_from_NetworkX.ipynb#ch0000002?line=3'>4</a>\u001b[0m mat \u001b[39m=\u001b[39m np\u001b[39m.\u001b[39mrandom\u001b[39m.\u001b[39mrandint(\u001b[39m5\u001b[39m, size\u001b[39m=\u001b[39m(\u001b[39m5\u001b[39m,\u001b[39m5\u001b[39m))\n\u001b[1;32m      <a href='vscode-notebook-cell:/Users/edisonjairbejaranosepulveda/Downloads/2_Models_of_complex_networks/Adapting_BA_from_NetworkX.ipynb#ch0000002?line=4'>5</a>\u001b[0m \u001b[39m## remove the self-loops \u001b[39;00m\n\u001b[1;32m      <a href='vscode-notebook-cell:/Users/edisonjairbejaranosepulveda/Downloads/2_Models_of_complex_networks/Adapting_BA_from_NetworkX.ipynb#ch0000002?line=5'>6</a>\u001b[0m np\u001b[39m.\u001b[39mfill_diagonal(mat, \u001b[39m0\u001b[39m)\n",
      "\u001b[0;31mNameError\u001b[0m: name 'np' is not defined"
     ]
    }
   ],
   "source": [
    "NODES = 50\n",
    "EDGES = 2\n",
    "## generate a random graph from a numpy matrix with no self loops \n",
    "mat = np.random.randint(5, size=(5,5))\n",
    "## remove the self-loops \n",
    "np.fill_diagonal(mat, 0)\n",
    "## convert into a graph \n",
    "g = nx.from_numpy_matrix(mat)\n",
    "## display graph \n",
    "nx.draw(g)"
   ]
  },
  {
   "cell_type": "code",
   "execution_count": 3,
   "metadata": {},
   "outputs": [
    {
     "ename": "NameError",
     "evalue": "name 'NODES' is not defined",
     "output_type": "error",
     "traceback": [
      "\u001b[0;31m---------------------------------------------------------------------------\u001b[0m",
      "\u001b[0;31mNameError\u001b[0m                                 Traceback (most recent call last)",
      "\u001b[1;32m/Users/edisonjairbejaranosepulveda/Downloads/2_Models_of_complex_networks/Adapting_BA_from_NetworkX.ipynb Cell 4'\u001b[0m in \u001b[0;36m<cell line: 2>\u001b[0;34m()\u001b[0m\n\u001b[1;32m      <a href='vscode-notebook-cell:/Users/edisonjairbejaranosepulveda/Downloads/2_Models_of_complex_networks/Adapting_BA_from_NetworkX.ipynb#ch0000003?line=0'>1</a>\u001b[0m \u001b[39m## instantiate a Barbasi-Albert Graph \u001b[39;00m\n\u001b[0;32m----> <a href='vscode-notebook-cell:/Users/edisonjairbejaranosepulveda/Downloads/2_Models_of_complex_networks/Adapting_BA_from_NetworkX.ipynb#ch0000003?line=1'>2</a>\u001b[0m G \u001b[39m=\u001b[39m BarbasiAlbert(num_nodes \u001b[39m=\u001b[39m NODES, \n\u001b[1;32m      <a href='vscode-notebook-cell:/Users/edisonjairbejaranosepulveda/Downloads/2_Models_of_complex_networks/Adapting_BA_from_NetworkX.ipynb#ch0000003?line=2'>3</a>\u001b[0m                   num_edges \u001b[39m=\u001b[39m EDGES,\n\u001b[1;32m      <a href='vscode-notebook-cell:/Users/edisonjairbejaranosepulveda/Downloads/2_Models_of_complex_networks/Adapting_BA_from_NetworkX.ipynb#ch0000003?line=3'>4</a>\u001b[0m                   random_seed \u001b[39m=\u001b[39m \u001b[39m42\u001b[39m,\n\u001b[1;32m      <a href='vscode-notebook-cell:/Users/edisonjairbejaranosepulveda/Downloads/2_Models_of_complex_networks/Adapting_BA_from_NetworkX.ipynb#ch0000003?line=4'>5</a>\u001b[0m                   graph\u001b[39m=\u001b[39mg)\u001b[39m.\u001b[39m_generate_graph()\n\u001b[1;32m      <a href='vscode-notebook-cell:/Users/edisonjairbejaranosepulveda/Downloads/2_Models_of_complex_networks/Adapting_BA_from_NetworkX.ipynb#ch0000003?line=5'>6</a>\u001b[0m nx\u001b[39m.\u001b[39mdraw(G)\n",
      "\u001b[0;31mNameError\u001b[0m: name 'NODES' is not defined"
     ]
    }
   ],
   "source": [
    "## instantiate a Barbasi-Albert Graph \n",
    "G = BarbasiAlbert(num_nodes = NODES, \n",
    "                  num_edges = EDGES,\n",
    "                  random_seed = 42,\n",
    "                  graph=g)._generate_graph()\n",
    "nx.draw(G)"
   ]
  },
  {
   "cell_type": "code",
   "execution_count": null,
   "metadata": {},
   "outputs": [],
   "source": []
  }
 ],
 "metadata": {
  "interpreter": {
   "hash": "ac6858c3dbc49267e902ff986705b591b9d7b57befff84fd7d814fe16c4a8e1f"
  },
  "kernelspec": {
   "display_name": "Python 3.8.5 ('ci_covid')",
   "language": "python",
   "name": "python3"
  },
  "language_info": {
   "codemirror_mode": {
    "name": "ipython",
    "version": 3
   },
   "file_extension": ".py",
   "mimetype": "text/x-python",
   "name": "python",
   "nbconvert_exporter": "python",
   "pygments_lexer": "ipython3",
   "version": "3.9.12"
  },
  "orig_nbformat": 4
 },
 "nbformat": 4,
 "nbformat_minor": 2
}

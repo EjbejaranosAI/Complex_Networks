{
 "cells": [
  {
   "cell_type": "markdown",
   "metadata": {},
   "source": [
    "## Testing iGraph for Adjacency Matrix, Degree Matrix & Graph Construction"
   ]
  },
  {
   "cell_type": "markdown",
   "metadata": {},
   "source": [
    "### Imports"
   ]
  },
  {
   "cell_type": "code",
   "execution_count": 70,
   "metadata": {},
   "outputs": [],
   "source": [
    "#import networkx as nx ## is good but somehow doesn't return proper adjacency matrix for the graph ????\n",
    "import igraph as ig\n",
    "import numpy as np \n",
    "## this fun baby \n",
    "#!pip install numba -q\n",
    "from numba import jit "
   ]
  },
  {
   "cell_type": "markdown",
   "metadata": {},
   "source": [
    "### 1. Parameter Definition \n",
    "\n",
    "- Initial number of nodes \n",
    "- Create a random array: \n",
    "    - Size = (NODES x NODES)\n",
    "    - Values = 0 to 1, showing an edge or not\n",
    "- Remove the diagonal (this means no self-loops. for example Node 3 to Node 3)\n",
    "- Convert np.array to np.matrix "
   ]
  },
  {
   "cell_type": "code",
   "execution_count": 71,
   "metadata": {},
   "outputs": [
    {
     "name": "stdout",
     "output_type": "stream",
     "text": [
      "[[0 0 0 1]\n",
      " [0 0 0 1]\n",
      " [0 0 0 0]\n",
      " [1 0 1 0]]\n"
     ]
    }
   ],
   "source": [
    "## 1. --- Initial number of nodes \n",
    "INITIAL_NODES = 4\n",
    "## 2. --- To make things simpler, make it into a tuple\n",
    "INITIAL_SIZE = (INITIAL_NODES, INITIAL_NODES)\n",
    "## 3. ---  random adjacency arrays of shape: nodes x nodes\n",
    "rand_adjarr = np.random.randint(low = 0,  \n",
    "                              high = 2,\n",
    "                              size = INITIAL_SIZE)\n",
    "## 4. --- Remove the diagonal -- NO SELF-LOOPS\n",
    "np.fill_diagonal(rand_adjarr, 0)\n",
    "\n",
    "## 5. --- Convert to numpy matrix --> so we are working with matrix-matrix, and not array-matrix. Just in case! \n",
    "rand_adjm = np.matrix(rand_adjarr)\n",
    "\n",
    "## 6. --- Take a look at the matrix \n",
    "print(rand_adjm)"
   ]
  },
  {
   "cell_type": "markdown",
   "metadata": {},
   "source": [
    "### 2. Methods to create graph from adjacency matrix \n",
    "\n",
    "- Method 1: \n",
    "    - Adjacency Matrix to bool (True/False) and then to a list\n",
    "\n",
    "- Method 2: \n",
    "    - Pass Adjacency Matrix directly to iGraph \n"
   ]
  },
  {
   "cell_type": "code",
   "execution_count": 47,
   "metadata": {},
   "outputs": [
    {
     "name": "stdout",
     "output_type": "stream",
     "text": [
      "Method1 -> [1, 2, 2, 1]\n",
      "Method2 -> [1, 2, 2, 1]\n",
      "Are they the same?? -> True\n"
     ]
    }
   ],
   "source": [
    "## 1. --- Method 1: Adjm -> bool -> list \n",
    "g1 = ig.Graph.Adjacency(rand_adjm.astype(bool).tolist())\n",
    "## 2. --- Get the degreees \n",
    "g1_d = g1.degree()\n",
    "## 3. --- Method 2: Adjm -> graph \n",
    "g2 = ig.Graph.Adjacency(rand_adjm)\n",
    "## 4. --- Get the degrees \n",
    "g2_d = g2.degree()\n",
    "## 5. --- Look at them \n",
    "print(f\"Method1 -> {g1_d}\")\n",
    "print(f\"Method2 -> {g2_d}\")\n",
    "print(f\"Are they the same?? -> {g1_d == g2_d}\")"
   ]
  },
  {
   "cell_type": "markdown",
   "metadata": {},
   "source": [
    "### 3. Get the Degree Matrix from the Adjacency Matrix \n",
    "\n",
    "- Method 1: Colsum + Rowsum  "
   ]
  },
  {
   "cell_type": "code",
   "execution_count": 48,
   "metadata": {},
   "outputs": [
    {
     "name": "stdout",
     "output_type": "stream",
     "text": [
      "Degrees from numpy operations -> [1, 2, 2, 1]\n",
      "Degrees from Method 1         -> [1, 2, 2, 1]\n",
      "Degrees from Method 2         -> [1, 2, 2, 1]\n",
      "Method 1. Are they the same?  -> True\n",
      "Method 2. Are they the same?  -> True\n"
     ]
    }
   ],
   "source": [
    "## 1. --- Rowsum, the sum of all the rows in a matrix, along axis 0.\n",
    "rowsum = np.sum(rand_adjm, axis=0)\n",
    "## 2. --- Colsum, sum of all the columns in a matrix along axis 1. \n",
    "colsum = np.sum(rand_adjm, axis=1).T # Transpose because it is a column vector and need a row vector\n",
    "## 3. --- Sum them.  & convert to list so we dont have the matrix([x,x,x,x]) \n",
    "degrees = (rowsum + colsum).tolist()[0] ## get the 0th element because it is nested [[1,2,3,4]] --> [1,2,3,4]\n",
    "# 4. --- Look at it \n",
    "print(f\"Degrees from numpy operations -> {degrees}\")\n",
    "print(f\"Degrees from Method 1         -> {g1_d}\")\n",
    "print(f\"Degrees from Method 2         -> {g2_d}\")\n",
    "## 4. --- Compare it to the two methods before \n",
    "print(f\"Method 1. Are they the same?  -> {g1_d == degrees}\")\n",
    "print(f\"Method 2. Are they the same?  -> {g2_d == degrees}\")\n"
   ]
  },
  {
   "cell_type": "code",
   "execution_count": 49,
   "metadata": {},
   "outputs": [
    {
     "data": {
      "text/plain": [
       "matrix([[ True,  True,  True,  True],\n",
       "        [ True,  True,  True,  True],\n",
       "        [ True,  True,  True,  True],\n",
       "        [ True,  True,  True,  True]])"
      ]
     },
     "execution_count": 49,
     "metadata": {},
     "output_type": "execute_result"
    }
   ],
   "source": [
    "## 1. -- Final Check! \n",
    "## THEY ARE THE SAME IM SO HAPPY OMG! :D :D :D\n",
    "rand_adjm == np.matrix(g1.get_adjacency().data) ## Our Adjacency Matrix Vs. Adjacency Matrix from iGraph!! "
   ]
  },
  {
   "cell_type": "markdown",
   "metadata": {},
   "source": [
    "### 4. Make a function and improve performance"
   ]
  },
  {
   "cell_type": "code",
   "execution_count": 50,
   "metadata": {},
   "outputs": [],
   "source": [
    "## can we jit it??!?! \n",
    "## YES WE CAN \n",
    "\"\"\"\n",
    "Elapsed (with compilation)  = 0.006689786911010742\n",
    "Elapsed (after compilation) = 0.0001480579376220703 \n",
    "4518x faster !!!!!\n",
    "Como funciona esta mierda? \n",
    "1. Le agregas el \"decorador\" @jit --> esto es un Just In Time compiler, compila el Python a C \n",
    "2. se le agrega el nopython=True, asi corre el codigo compilado en C y no el python \n",
    "3. aumentamos velocidad con Parallel=True, para multiprocessing \n",
    "4. nogil=True, Libera el Global Interpreter Lock (que limita el acceso a los coros del procesador)\n",
    "--- AHORA----\n",
    "La primera vez que corres la funcion, va  ser lenta, pq se compila \n",
    "Despues es Speedy Fucking Gonzales.\n",
    "\"\"\"\n",
    "@jit(nopython=True,parallel=True,nogil=True) ## fucking fast man!\n",
    "def get_degree_matrix(adjacency_matrix:np.matrix) -> np.matrix:\n",
    "    \"\"\"Returns degree matrix from adjacency matrix\"\"\"\n",
    "    ## create an empty matrix to return the values \n",
    "    empty_like = np.zeros_like(adjacency_matrix)\n",
    "    ## calculate the rowsum \n",
    "    rowsum = np.sum(adjacency_matrix, axis=0)\n",
    "    ## calculate the colsum & transpose \n",
    "    colsum = np.sum(adjacency_matrix, axis=1).T\n",
    "    ## sum them \n",
    "    degrees = rowsum + colsum \n",
    "    ## fill the empty matrix \n",
    "    np.fill_diagonal(empty_like, degrees)\n",
    "    return empty_like"
   ]
  },
  {
   "cell_type": "code",
   "execution_count": 58,
   "metadata": {},
   "outputs": [
    {
     "data": {
      "text/plain": [
       "array([[1, 0, 0, 0],\n",
       "       [0, 2, 0, 0],\n",
       "       [0, 0, 2, 0],\n",
       "       [0, 0, 0, 1]])"
      ]
     },
     "execution_count": 58,
     "metadata": {},
     "output_type": "execute_result"
    }
   ],
   "source": [
    "degrees = get_degree_matrix(rand_adjarr)\n",
    "degrees"
   ]
  },
  {
   "cell_type": "markdown",
   "metadata": {},
   "source": [
    "### Getting the new nodes to add\n",
    "\n",
    "0. Get all degrees\n",
    "1. Get the sum of all the degrees \n",
    "2. Calculate P(x) for each degree (degrees / ∑d)\n",
    "3. Generate a random number uniform number from (0, 1)\n",
    "4. Multiply the random number by the sum of degrees (Normalization)\n",
    "5. get the bins \n",
    "6. which node to add \n",
    "7. attach the node and repeat steps 1-6"
   ]
  },
  {
   "cell_type": "code",
   "execution_count": 59,
   "metadata": {},
   "outputs": [
    {
     "name": "stdout",
     "output_type": "stream",
     "text": [
      "[1 2 2 1]\n",
      "6\n",
      "[0.16666667 0.33333333 0.33333333 0.16666667]\n",
      "2.247240713084175 --\n",
      "[0 1 3 5 6]\n",
      "2\n"
     ]
    }
   ],
   "source": [
    "seed = np.random.seed(42)\n",
    "## 0. -- Get all degrees -> remember we get a matrix, so we only get the diagonal\n",
    "degrees = np.diag(get_degree_matrix(rand_adjm))\n",
    "## 1. -- Sum of all degrees\n",
    "sum_degrees = np.sum(degrees)\n",
    "## 2. -- Probabilitie for each degree\n",
    "degree_proba = degrees / sum_degrees\n",
    "## 3. -- random uniform from 0 to sum(degree)\n",
    "rand_val = np.random.uniform(0, 1) * sum_degrees\n",
    "## 4. -- Get the bins\n",
    "deg_bins = degrees.cumsum()\n",
    "## insert a 0 at the beginning \n",
    "deg_bins = np.concatenate((deg_bins[:0], [0], deg_bins[0:]))\n",
    "## 5. -- Identify which node to add it to \n",
    "add_node = np.digitize(rand_val, deg_bins)\n",
    "## 6. -- Attach node (extending the matrix)\n",
    "\n",
    "print(degrees)\n",
    "print(sum_degrees)\n",
    "print(degree_proba)\n",
    "print(rand_val,'--')\n",
    "print(deg_bins)\n",
    "print(add_node)"
   ]
  },
  {
   "cell_type": "code",
   "execution_count": 60,
   "metadata": {},
   "outputs": [
    {
     "data": {
      "text/plain": [
       "array([[0., 1., 0., 0., 0.],\n",
       "       [0., 0., 0., 0., 1.],\n",
       "       [0., 1., 0., 0., 0.],\n",
       "       [0., 0., 1., 0., 0.],\n",
       "       [0., 1., 0., 0., 0.]])"
      ]
     },
     "execution_count": 60,
     "metadata": {},
     "output_type": "execute_result"
    }
   ],
   "source": [
    "## lets say we wanted to build a graph that had 50 nodes \n",
    "FINAL_NODES = 20\n",
    "## we'd need to create an empty graph \n",
    "final_empty = np.zeros(shape=(FINAL_NODES,FINAL_NODES))\n",
    "## we put the current matrix into it \n",
    "## get the shape of the original one \n",
    "a, b = rand_adjm.shape\n",
    "final_empty[:a,:b] = rand_adjm\n",
    "#print(final_empty)\n",
    "## the second node is index 1, not 2\n",
    "## so index_node = add_node -1 \n",
    "index_node = add_node - 1 \n",
    "## locate the new node and add a connection \n",
    "## we keep the value of the original one\n",
    "target = INITIAL_NODES\n",
    "## thi is one is added\n",
    "new_to_add = target + 1\n",
    "## row x col\n",
    "final_empty[target,index_node] = 1\n",
    "final_empty[index_node, target] = 1\n",
    "## sample one \n",
    "sample = final_empty[:new_to_add,:new_to_add]\n",
    "sample"
   ]
  },
  {
   "cell_type": "code",
   "execution_count": 68,
   "metadata": {},
   "outputs": [
    {
     "data": {
      "image/svg+xml": "<?xml version=\"1.0\" encoding=\"UTF-8\"?>\n<svg xmlns=\"http://www.w3.org/2000/svg\" xmlns:xlink=\"http://www.w3.org/1999/xlink\" width=\"600pt\" height=\"600pt\" viewBox=\"0 0 600 600\" version=\"1.1\">\n<g id=\"surface182\">\n<rect x=\"0\" y=\"0\" width=\"600\" height=\"600\" style=\"fill:rgb(100%,100%,100%);fill-opacity:1;stroke:none;\"/>\n<path style=\"fill:none;stroke-width:1;stroke-linecap:butt;stroke-linejoin:miter;stroke:rgb(26.666667%,26.666667%,26.666667%);stroke-opacity:1;stroke-miterlimit:10;\" d=\"M 20 580 L 183.414062 416.511719 \"/>\n<path style=\" stroke:none;fill-rule:nonzero;fill:rgb(26.666667%,26.666667%,26.666667%);fill-opacity:1;\" d=\"M 193.5 406.421875 L 186.691406 419.789062 L 180.136719 413.234375 L 193.5 406.421875 \"/>\n<path style=\"fill:none;stroke-width:1;stroke-linecap:butt;stroke-linejoin:miter;stroke:rgb(26.666667%,26.666667%,26.666667%);stroke-opacity:1;stroke-miterlimit:10;\" d=\"M 399.402344 200.496094 L 217.726562 382.1875 \"/>\n<path style=\" stroke:none;fill-rule:nonzero;fill:rgb(26.666667%,26.666667%,26.666667%);fill-opacity:1;\" d=\"M 207.640625 392.277344 L 214.449219 378.910156 L 221.003906 385.464844 L 207.640625 392.277344 \"/>\n<path style=\"fill:none;stroke-width:1;stroke-linecap:butt;stroke-linejoin:miter;stroke:rgb(26.666667%,26.666667%,26.666667%);stroke-opacity:1;stroke-miterlimit:10;\" d=\"M 580 20 L 416.566406 183.34375 \"/>\n<path style=\" stroke:none;fill-rule:nonzero;fill:rgb(26.666667%,26.666667%,26.666667%);fill-opacity:1;\" d=\"M 406.476562 193.425781 L 413.289062 180.0625 L 419.84375 186.621094 L 406.476562 193.425781 \"/>\n<path style=\"fill-rule:nonzero;fill:rgb(100%,0%,0%);fill-opacity:1;stroke-width:1;stroke-linecap:butt;stroke-linejoin:miter;stroke:rgb(0%,0%,0%);stroke-opacity:1;stroke-miterlimit:10;\" d=\"M 30 580 C 30 585.523438 25.523438 590 20 590 C 14.476562 590 10 585.523438 10 580 C 10 574.476562 14.476562 570 20 570 C 25.523438 570 30 574.476562 30 580 \"/>\n<path style=\"fill-rule:nonzero;fill:rgb(100%,0%,0%);fill-opacity:1;stroke-width:1;stroke-linecap:butt;stroke-linejoin:miter;stroke:rgb(0%,0%,0%);stroke-opacity:1;stroke-miterlimit:10;\" d=\"M 210.566406 399.347656 C 210.566406 404.871094 206.089844 409.347656 200.566406 409.347656 C 195.046875 409.347656 190.566406 404.871094 190.566406 399.347656 C 190.566406 393.824219 195.046875 389.347656 200.566406 389.347656 C 206.089844 389.347656 210.566406 393.824219 210.566406 399.347656 \"/>\n<path style=\"fill-rule:nonzero;fill:rgb(100%,0%,0%);fill-opacity:1;stroke-width:1;stroke-linecap:butt;stroke-linejoin:miter;stroke:rgb(0%,0%,0%);stroke-opacity:1;stroke-miterlimit:10;\" d=\"M 409.402344 200.496094 C 409.402344 206.019531 404.925781 210.496094 399.402344 210.496094 C 393.878906 210.496094 389.402344 206.019531 389.402344 200.496094 C 389.402344 194.972656 393.878906 190.496094 399.402344 190.496094 C 404.925781 190.496094 409.402344 194.972656 409.402344 200.496094 \"/>\n<path style=\"fill-rule:nonzero;fill:rgb(100%,0%,0%);fill-opacity:1;stroke-width:1;stroke-linecap:butt;stroke-linejoin:miter;stroke:rgb(0%,0%,0%);stroke-opacity:1;stroke-miterlimit:10;\" d=\"M 590 20 C 590 25.523438 585.523438 30 580 30 C 574.476562 30 570 25.523438 570 20 C 570 14.476562 574.476562 10 580 10 C 585.523438 10 590 14.476562 590 20 \"/>\n</g>\n</svg>\n",
      "text/plain": [
       "<igraph.drawing.Plot at 0x7f772dea6220>"
      ]
     },
     "execution_count": 68,
     "metadata": {
      "image/svg+xml": {
       "isolated": true
      }
     },
     "output_type": "execute_result"
    }
   ],
   "source": [
    "ig.plot(g1)"
   ]
  },
  {
   "cell_type": "code",
   "execution_count": 77,
   "metadata": {},
   "outputs": [
    {
     "data": {
      "image/svg+xml": "<?xml version=\"1.0\" encoding=\"UTF-8\"?>\n<svg xmlns=\"http://www.w3.org/2000/svg\" xmlns:xlink=\"http://www.w3.org/1999/xlink\" width=\"600pt\" height=\"600pt\" viewBox=\"0 0 600 600\" version=\"1.1\">\n<g id=\"surface44\">\n<rect x=\"0\" y=\"0\" width=\"600\" height=\"600\" style=\"fill:rgb(100%,100%,100%);fill-opacity:1;stroke:none;\"/>\n<path style=\"fill:none;stroke-width:1;stroke-linecap:butt;stroke-linejoin:miter;stroke:rgb(26.666667%,26.666667%,26.666667%);stroke-opacity:1;stroke-miterlimit:10;\" d=\"M 20 20 L 200.542969 247.253906 \"/>\n<path style=\" stroke:none;fill-rule:nonzero;fill:rgb(26.666667%,26.666667%,26.666667%);fill-opacity:1;\" d=\"M 209.417969 258.421875 L 196.914062 250.136719 L 204.171875 244.371094 L 209.417969 258.421875 \"/>\n<path style=\"fill:none;stroke-width:1;stroke-linecap:butt;stroke-linejoin:miter;stroke:rgb(26.666667%,26.666667%,26.666667%);stroke-opacity:1;stroke-miterlimit:10;\" d=\"M 392.699219 394.875 C 316.425781 422.25 312.992188 489.347656 285.675781 557.273438 \"/>\n<path style=\" stroke:none;fill-rule:nonzero;fill:rgb(26.666667%,26.666667%,26.666667%);fill-opacity:1;\" d=\"M 280.355469 570.507812 L 281.375 555.542969 L 289.976562 559 L 280.355469 570.507812 \"/>\n<path style=\"fill:none;stroke-width:1;stroke-linecap:butt;stroke-linejoin:miter;stroke:rgb(26.666667%,26.666667%,26.666667%);stroke-opacity:1;stroke-miterlimit:10;\" d=\"M 392.699219 394.875 C 374.414062 312.917969 322.003906 255.578125 239.582031 263.851562 \"/>\n<path style=\" stroke:none;fill-rule:nonzero;fill:rgb(26.666667%,26.666667%,26.666667%);fill-opacity:1;\" d=\"M 225.386719 265.273438 L 239.117188 259.238281 L 240.042969 268.460938 L 225.386719 265.273438 \"/>\n<path style=\"fill:none;stroke-width:1;stroke-linecap:butt;stroke-linejoin:miter;stroke:rgb(26.666667%,26.666667%,26.666667%);stroke-opacity:1;stroke-miterlimit:10;\" d=\"M 392.699219 394.875 C 443.335938 442.066406 494.820312 439.625 557.878906 412.5625 \"/>\n<path style=\" stroke:none;fill-rule:nonzero;fill:rgb(26.666667%,26.666667%,26.666667%);fill-opacity:1;\" d=\"M 570.992188 406.933594 L 559.707031 416.820312 L 556.054688 408.300781 L 570.992188 406.933594 \"/>\n<path style=\"fill:none;stroke-width:1;stroke-linecap:butt;stroke-linejoin:miter;stroke:rgb(26.666667%,26.666667%,26.666667%);stroke-opacity:1;stroke-miterlimit:10;\" d=\"M 276.539062 580 C 363.441406 557.34375 454.054688 450.867188 410.765625 411.363281 \"/>\n<path style=\" stroke:none;fill-rule:nonzero;fill:rgb(26.666667%,26.666667%,26.666667%);fill-opacity:1;\" d=\"M 400.230469 401.746094 L 413.890625 407.9375 L 407.640625 414.785156 L 400.230469 401.746094 \"/>\n<path style=\"fill:none;stroke-width:1;stroke-linecap:butt;stroke-linejoin:miter;stroke:rgb(26.666667%,26.666667%,26.666667%);stroke-opacity:1;stroke-miterlimit:10;\" d=\"M 276.539062 580 L 220.261719 290.074219 \"/>\n<path style=\" stroke:none;fill-rule:nonzero;fill:rgb(26.666667%,26.666667%,26.666667%);fill-opacity:1;\" d=\"M 217.542969 276.070312 L 224.8125 289.191406 L 215.710938 290.957031 L 217.542969 276.070312 \"/>\n<path style=\"fill:none;stroke-width:1;stroke-linecap:butt;stroke-linejoin:miter;stroke:rgb(26.666667%,26.666667%,26.666667%);stroke-opacity:1;stroke-miterlimit:10;\" d=\"M 215.636719 266.253906 C 234.050781 348.078125 286.105469 403.65625 368.820312 396.839844 \"/>\n<path style=\" stroke:none;fill-rule:nonzero;fill:rgb(26.666667%,26.666667%,26.666667%);fill-opacity:1;\" d=\"M 383.035156 395.671875 L 369.199219 401.460938 L 368.4375 392.222656 L 383.035156 395.671875 \"/>\n<path style=\"fill:none;stroke-width:1;stroke-linecap:butt;stroke-linejoin:miter;stroke:rgb(26.666667%,26.666667%,26.666667%);stroke-opacity:1;stroke-miterlimit:10;\" d=\"M 580 403.070312 C 529.574219 354.316406 472.230469 344.675781 412.972656 382.078125 \"/>\n<path style=\" stroke:none;fill-rule:nonzero;fill:rgb(26.666667%,26.666667%,26.666667%);fill-opacity:1;\" d=\"M 400.910156 389.691406 L 410.5 378.15625 L 415.449219 385.996094 L 400.910156 389.691406 \"/>\n<path style=\"fill-rule:nonzero;fill:rgb(100%,0%,0%);fill-opacity:1;stroke-width:1;stroke-linecap:butt;stroke-linejoin:miter;stroke:rgb(0%,0%,0%);stroke-opacity:1;stroke-miterlimit:10;\" d=\"M 30 20 C 30 25.523438 25.523438 30 20 30 C 14.476562 30 10 25.523438 10 20 C 10 14.476562 14.476562 10 20 10 C 25.523438 10 30 14.476562 30 20 \"/>\n<path style=\"fill-rule:nonzero;fill:rgb(100%,0%,0%);fill-opacity:1;stroke-width:1;stroke-linecap:butt;stroke-linejoin:miter;stroke:rgb(0%,0%,0%);stroke-opacity:1;stroke-miterlimit:10;\" d=\"M 402.699219 394.875 C 402.699219 400.398438 398.222656 404.875 392.699219 404.875 C 387.175781 404.875 382.699219 400.398438 382.699219 394.875 C 382.699219 389.351562 387.175781 384.875 392.699219 384.875 C 398.222656 384.875 402.699219 389.351562 402.699219 394.875 \"/>\n<path style=\"fill-rule:nonzero;fill:rgb(100%,0%,0%);fill-opacity:1;stroke-width:1;stroke-linecap:butt;stroke-linejoin:miter;stroke:rgb(0%,0%,0%);stroke-opacity:1;stroke-miterlimit:10;\" d=\"M 286.539062 580 C 286.539062 585.523438 282.058594 590 276.539062 590 C 271.015625 590 266.539062 585.523438 266.539062 580 C 266.539062 574.476562 271.015625 570 276.539062 570 C 282.058594 570 286.539062 574.476562 286.539062 580 \"/>\n<path style=\"fill-rule:nonzero;fill:rgb(100%,0%,0%);fill-opacity:1;stroke-width:1;stroke-linecap:butt;stroke-linejoin:miter;stroke:rgb(0%,0%,0%);stroke-opacity:1;stroke-miterlimit:10;\" d=\"M 225.636719 266.253906 C 225.636719 271.777344 221.160156 276.253906 215.636719 276.253906 C 210.113281 276.253906 205.636719 271.777344 205.636719 266.253906 C 205.636719 260.730469 210.113281 256.253906 215.636719 256.253906 C 221.160156 256.253906 225.636719 260.730469 225.636719 266.253906 \"/>\n<path style=\"fill-rule:nonzero;fill:rgb(100%,0%,0%);fill-opacity:1;stroke-width:1;stroke-linecap:butt;stroke-linejoin:miter;stroke:rgb(0%,0%,0%);stroke-opacity:1;stroke-miterlimit:10;\" d=\"M 590 403.070312 C 590 408.589844 585.523438 413.070312 580 413.070312 C 574.476562 413.070312 570 408.589844 570 403.070312 C 570 397.546875 574.476562 393.070312 580 393.070312 C 585.523438 393.070312 590 397.546875 590 403.070312 \"/>\n</g>\n</svg>\n",
      "text/plain": [
       "<igraph.drawing.Plot at 0x7fbe25257a30>"
      ]
     },
     "execution_count": 77,
     "metadata": {
      "image/svg+xml": {
       "isolated": true
      }
     },
     "output_type": "execute_result"
    }
   ],
   "source": [
    "gg = ig.Graph.Adjacency(sample)\n",
    "ig.plot(gg)"
   ]
  },
  {
   "cell_type": "code",
   "execution_count": null,
   "metadata": {},
   "outputs": [],
   "source": []
  }
 ],
 "metadata": {
  "interpreter": {
   "hash": "ac6858c3dbc49267e902ff986705b591b9d7b57befff84fd7d814fe16c4a8e1f"
  },
  "kernelspec": {
   "display_name": "Python 3.8.5 ('ci_covid')",
   "language": "python",
   "name": "python3"
  },
  "language_info": {
   "codemirror_mode": {
    "name": "ipython",
    "version": 3
   },
   "file_extension": ".py",
   "mimetype": "text/x-python",
   "name": "python",
   "nbconvert_exporter": "python",
   "pygments_lexer": "ipython3",
   "version": "3.8.5"
  },
  "orig_nbformat": 4
 },
 "nbformat": 4,
 "nbformat_minor": 2
}

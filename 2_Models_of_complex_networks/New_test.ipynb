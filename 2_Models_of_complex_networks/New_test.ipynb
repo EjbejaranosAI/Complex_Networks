{
 "cells": [
  {
   "cell_type": "markdown",
   "metadata": {},
   "source": [
    "## Testing iGraph for Adjacency Matrix, Degree Matrix & Graph Construction"
   ]
  },
  {
   "cell_type": "markdown",
   "metadata": {},
   "source": [
    "### Imports"
   ]
  },
  {
   "cell_type": "code",
   "execution_count": 57,
   "metadata": {},
   "outputs": [],
   "source": [
    "#import networkx as nx ## is good but somehow doesn't return proper adjacency matrix for the graph ????\n",
    "import igraph as ig\n",
    "import numpy as np \n",
    "## this fun baby \n",
    "from numba import jit "
   ]
  },
  {
   "cell_type": "markdown",
   "metadata": {},
   "source": [
    "### 1. Parameter Definition \n",
    "\n",
    "- Initial number of nodes \n",
    "- Create a random array: \n",
    "    - Size = (NODES x NODES)\n",
    "    - Values = 0 to 1, showing an edge or not\n",
    "- Remove the diagonal (this means no self-loops. for example Node 3 to Node 3)\n",
    "- Convert np.array to np.matrix "
   ]
  },
  {
   "cell_type": "code",
   "execution_count": 2,
   "metadata": {},
   "outputs": [
    {
     "name": "stdout",
     "output_type": "stream",
     "text": [
      "[[0 1 1 0]\n",
      " [0 0 0 0]\n",
      " [1 0 0 1]\n",
      " [0 0 1 0]]\n"
     ]
    }
   ],
   "source": [
    "## 1. --- Initial number of nodes \n",
    "INITIAL_NODES = 4\n",
    "## 2. --- To make things simpler, make it into a tuple\n",
    "INITIAL_SIZE = (INITIAL_NODES, INITIAL_NODES)\n",
    "## 3. ---  random adjacency arrays of shape: nodes x nodes\n",
    "rand_adjarr = np.random.randint(low = 0,  \n",
    "                              high = 2,\n",
    "                              size = INITIAL_SIZE)\n",
    "## 4. --- Remove the diagonal -- NO SELF-LOOPS\n",
    "np.fill_diagonal(rand_adjarr, 0)\n",
    "\n",
    "## 5. --- Convert to numpy matrix --> so we are working with matrix-matrix, and not array-matrix. Just in case! \n",
    "rand_adjm = np.matrix(rand_adjarr)\n",
    "\n",
    "## 6. --- Take a look at the matrix \n",
    "print(rand_adjm)"
   ]
  },
  {
   "cell_type": "markdown",
   "metadata": {},
   "source": [
    "### 2. Methods to create graph from adjacency matrix \n",
    "\n",
    "- Method 1: \n",
    "    - Adjacency Matrix to bool (True/False) and then to a list\n",
    "\n",
    "- Method 2: \n",
    "    - Pass Adjacency Matrix directly to iGraph \n"
   ]
  },
  {
   "cell_type": "code",
   "execution_count": 3,
   "metadata": {},
   "outputs": [
    {
     "name": "stdout",
     "output_type": "stream",
     "text": [
      "Method1 -> [3, 1, 4, 2]\n",
      "Method2 -> [3, 1, 4, 2]\n",
      "Are they the same?? -> True\n"
     ]
    }
   ],
   "source": [
    "## 1. --- Method 1: Adjm -> bool -> list \n",
    "g1 = ig.Graph.Adjacency(rand_adjm.astype(bool).tolist())\n",
    "## 2. --- Get the degreees \n",
    "g1_d = g1.degree()\n",
    "## 3. --- Method 2: Adjm -> graph \n",
    "g2 = ig.Graph.Adjacency(rand_adjm)\n",
    "## 4. --- Get the degrees \n",
    "g2_d = g2.degree()\n",
    "## 5. --- Look at them \n",
    "print(f\"Method1 -> {g1_d}\")\n",
    "print(f\"Method2 -> {g2_d}\")\n",
    "print(f\"Are they the same?? -> {g1_d == g2_d}\")"
   ]
  },
  {
   "cell_type": "markdown",
   "metadata": {},
   "source": [
    "### 3. Get the Degree Matrix from the Adjacency Matrix \n",
    "\n",
    "- Method 1: Colsum + Rowsum  "
   ]
  },
  {
   "cell_type": "code",
   "execution_count": 9,
   "metadata": {},
   "outputs": [
    {
     "name": "stdout",
     "output_type": "stream",
     "text": [
      "Degrees from numpy operations -> [3, 1, 4, 2]\n",
      "Degrees from Method 1         -> [3, 1, 4, 2]\n",
      "Degrees from Method 2         -> [3, 1, 4, 2]\n",
      "Method 1. Are they the same?  -> True\n",
      "Method 2. Are they the same?  -> True\n"
     ]
    }
   ],
   "source": [
    "## 1. --- Rowsum, the sum of all the rows in a matrix, along axis 0.\n",
    "rowsum = np.sum(rand_adjm, axis=0)\n",
    "## 2. --- Colsum, sum of all the columns in a matrix along axis 1. \n",
    "colsum = np.sum(rand_adjm, axis=1).T # Transpose because it is a column vector and need a row vector\n",
    "## 3. --- Sum them.  & convert to list so we dont have the matrix([x,x,x,x]) \n",
    "degrees = (rowsum + colsum).tolist()[0] ## get the 0th element because it is nested [[1,2,3,4]] --> [1,2,3,4]\n",
    "# 4. --- Look at it \n",
    "print(f\"Degrees from numpy operations -> {degrees}\")\n",
    "print(f\"Degrees from Method 1         -> {g1_d}\")\n",
    "print(f\"Degrees from Method 2         -> {g2_d}\")\n",
    "## 4. --- Compare it to the two methods before \n",
    "print(f\"Method 1. Are they the same?  -> {g1_d == degrees}\")\n",
    "print(f\"Method 2. Are they the same?  -> {g2_d == degrees}\")\n"
   ]
  },
  {
   "cell_type": "code",
   "execution_count": 18,
   "metadata": {},
   "outputs": [
    {
     "data": {
      "text/plain": [
       "matrix([[ True,  True,  True,  True],\n",
       "        [ True,  True,  True,  True],\n",
       "        [ True,  True,  True,  True],\n",
       "        [ True,  True,  True,  True]])"
      ]
     },
     "execution_count": 18,
     "metadata": {},
     "output_type": "execute_result"
    }
   ],
   "source": [
    "## 1. -- Final Check! \n",
    "## THEY ARE THE SAME IM SO HAPPY OMG! :D :D :D\n",
    "rand_adjm == np.matrix(g1.get_adjacency().data) ## Our Adjacency Matrix Vs. Adjacency Matrix from iGraph!! "
   ]
  },
  {
   "cell_type": "markdown",
   "metadata": {},
   "source": [
    "### 4. Make a function and improve performance"
   ]
  },
  {
   "cell_type": "code",
   "execution_count": 58,
   "metadata": {},
   "outputs": [],
   "source": [
    "## can we jit it??!?! \n",
    "## YES WE CAN \n",
    "\"\"\"\n",
    "Elapsed (with compilation)  = 0.006689786911010742\n",
    "Elapsed (after compilation) = 0.0001480579376220703 \n",
    "4518x faster !!!!!\n",
    "Como funciona esta mierda? \n",
    "1. Le agregas el \"decorador\" @jit --> esto es un Just In Time compiler, compila el Python a C \n",
    "2. se le agrega el nopython=True, asi corre el codigo compilado en C y no el python \n",
    "3. aumentamos velocidad con Parallel=True, para multiprocessing \n",
    "4. nogil=True, Libera el Global Interpreter Lock (que limita el acceso a los coros del procesador)\n",
    "--- AHORA----\n",
    "La primera vez que corres la funcion, va  ser lenta, pq se compila \n",
    "Despues es Speedy Fucking Gonzales.\n",
    "\"\"\"\n",
    "@jit(nopython=True,parallel=True,nogil=True) ## fucking fast man!\n",
    "def get_degree_matrix(adjacency_matrix:np.matrix) -> np.matrix:\n",
    "    \"\"\"Returns degree matrix from adjacency matrix\"\"\"\n",
    "    ## create an empty matrix to return the values \n",
    "    empty_like = np.zeros_like(adjacency_matrix)\n",
    "    ## calculate the rowsum \n",
    "    rowsum = np.sum(adjacency_matrix, axis=0)\n",
    "    ## calculate the colsum & transpose \n",
    "    colsum = np.sum(adjacency_matrix, axis=1).T\n",
    "    ## sum them \n",
    "    degrees = rowsum + colsum \n",
    "    ## fill the empty matrix \n",
    "    np.fill_diagonal(empty_like, degrees)\n",
    "    return empty_like"
   ]
  },
  {
   "cell_type": "code",
   "execution_count": 64,
   "metadata": {},
   "outputs": [
    {
     "data": {
      "text/plain": [
       "array([[3, 0, 0, 0],\n",
       "       [0, 1, 0, 0],\n",
       "       [0, 0, 4, 0],\n",
       "       [0, 0, 0, 2]])"
      ]
     },
     "execution_count": 64,
     "metadata": {},
     "output_type": "execute_result"
    }
   ],
   "source": [
    "degrees = get_degree_matrix(rand_adjarr)\n",
    "degrees"
   ]
  },
  {
   "cell_type": "markdown",
   "metadata": {},
   "source": [
    "### Getting the new nodes to add\n",
    "\n",
    "0. Get all degrees\n",
    "1. Get the sum of all the degrees \n",
    "2. Calculate P(x) for each degree (degrees / ∑d)\n",
    "3. Generate a random number uniform number from (0, 1)\n",
    "4. Multiply the random number by the sum of degrees (Normalization)\n",
    "5. get the bins \n",
    "6. which node to add \n",
    "7. attach the node and repeat steps 1-6"
   ]
  },
  {
   "cell_type": "code",
   "execution_count": 174,
   "metadata": {},
   "outputs": [
    {
     "name": "stdout",
     "output_type": "stream",
     "text": [
      "[3 1 4 2]\n",
      "10\n",
      "[0.3 0.1 0.4 0.2]\n",
      "0.3745401188473625\n",
      "3.745401188473625\n",
      "[ 0  3  4  8 10]\n",
      "2\n"
     ]
    }
   ],
   "source": [
    "seed = np.random.seed(42)\n",
    "## 0. -- Get all degrees -> remember we get a matrix, so we only get the diagonal\n",
    "degrees = np.diag(get_degree_matrix(rand_adjm))\n",
    "## 1. -- Sum of all degrees\n",
    "sum_degrees = np.sum(degrees)\n",
    "## 2. -- Probabilitie for each degree\n",
    "degree_proba = degrees / sum_degrees\n",
    "## 3. -- random uniform from 0 to sum(degree)\n",
    "rand_val = np.random.uniform(0, 1)\n",
    "## 4. -- intermediate value (sum(degrees) * P(x))\n",
    "tmp_val = sum_degrees * rand_val \n",
    "## 5. -- Get the bins\n",
    "deg_bins = degrees.cumsum()\n",
    "## insert a 0 at the beginning \n",
    "deg_bins = np.concatenate((deg_bins[:0], [0], deg_bins[0:]))\n",
    "## 6. -- Identify which node to add it to \n",
    "add_node = np.digitize(tmp_val, deg_bins)\n",
    "## 7. -- Attach node (extending the matrix)\n",
    "## eh\n",
    "\n",
    "print(degrees)\n",
    "print(sum_degrees)\n",
    "print(degree_proba)\n",
    "print(rand_val)\n",
    "print(tmp_val)\n",
    "print(deg_bins)\n",
    "print(add_node)"
   ]
  },
  {
   "cell_type": "code",
   "execution_count": null,
   "metadata": {},
   "outputs": [],
   "source": []
  }
 ],
 "metadata": {
  "interpreter": {
   "hash": "ac6858c3dbc49267e902ff986705b591b9d7b57befff84fd7d814fe16c4a8e1f"
  },
  "kernelspec": {
   "display_name": "Python 3.8.5 ('ci_covid')",
   "language": "python",
   "name": "python3"
  },
  "language_info": {
   "codemirror_mode": {
    "name": "ipython",
    "version": 3
   },
   "file_extension": ".py",
   "mimetype": "text/x-python",
   "name": "python",
   "nbconvert_exporter": "python",
   "pygments_lexer": "ipython3",
   "version": "3.8.5"
  },
  "orig_nbformat": 4
 },
 "nbformat": 4,
 "nbformat_minor": 2
}

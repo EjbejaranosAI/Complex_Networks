{
 "cells": [
  {
   "cell_type": "markdown",
   "metadata": {},
   "source": [
    "## Testing iGraph for Adjacency Matrix, Degree Matrix & Graph Construction"
   ]
  },
  {
   "cell_type": "markdown",
   "metadata": {},
   "source": [
    "### Imports"
   ]
  },
  {
   "cell_type": "code",
   "execution_count": 1,
   "metadata": {},
   "outputs": [],
   "source": [
    "#import networkx as nx ## is good but somehow doesn't return proper adjacency matrix for the graph ????\n",
    "import igraph as ig\n",
    "import numpy as np \n",
    "## this fun baby \n",
    "from numba import jit "
   ]
  },
  {
   "cell_type": "markdown",
   "metadata": {},
   "source": [
    "### 1. Parameter Definition \n",
    "\n",
    "- Initial number of nodes \n",
    "- Create a random array: \n",
    "    - Size = (NODES x NODES)\n",
    "    - Values = 0 to 1, showing an edge or not\n",
    "- Remove the diagonal (this means no self-loops. for example Node 3 to Node 3)\n",
    "- Convert np.array to np.matrix "
   ]
  },
  {
   "cell_type": "code",
   "execution_count": 2,
   "metadata": {},
   "outputs": [
    {
     "name": "stdout",
     "output_type": "stream",
     "text": [
      "[[0 0 0 1]\n",
      " [0 0 1 1]\n",
      " [0 1 0 1]\n",
      " [0 1 0 0]]\n"
     ]
    }
   ],
   "source": [
    "## 1. --- Initial number of nodes \n",
    "INITIAL_NODES = 4\n",
    "## 2. --- To make things simpler, make it into a tuple\n",
    "INITIAL_SIZE = (INITIAL_NODES, INITIAL_NODES)\n",
    "## 3. ---  random adjacency arrays of shape: nodes x nodes\n",
    "rand_adjarr = np.random.randint(low = 0,  \n",
    "                              high = 2,\n",
    "                              size = INITIAL_SIZE)\n",
    "## 4. --- Remove the diagonal -- NO SELF-LOOPS\n",
    "np.fill_diagonal(rand_adjarr, 0)\n",
    "\n",
    "## 5. --- Convert to numpy matrix --> so we are working with matrix-matrix, and not array-matrix. Just in case! \n",
    "rand_adjm = np.matrix(rand_adjarr)\n",
    "\n",
    "## 6. --- Take a look at the matrix \n",
    "print(rand_adjm)"
   ]
  },
  {
   "cell_type": "markdown",
   "metadata": {},
   "source": [
    "### 2. Methods to create graph from adjacency matrix \n",
    "\n",
    "- Method 1: \n",
    "    - Adjacency Matrix to bool (True/False) and then to a list\n",
    "\n",
    "- Method 2: \n",
    "    - Pass Adjacency Matrix directly to iGraph \n"
   ]
  },
  {
   "cell_type": "code",
   "execution_count": 3,
   "metadata": {},
   "outputs": [
    {
     "name": "stdout",
     "output_type": "stream",
     "text": [
      "Method1 -> [1, 4, 3, 4]\n",
      "Method2 -> [1, 4, 3, 4]\n",
      "Are they the same?? -> True\n"
     ]
    }
   ],
   "source": [
    "## 1. --- Method 1: Adjm -> bool -> list \n",
    "g1 = ig.Graph.Adjacency(rand_adjm.astype(bool).tolist())\n",
    "## 2. --- Get the degreees \n",
    "g1_d = g1.degree()\n",
    "## 3. --- Method 2: Adjm -> graph \n",
    "g2 = ig.Graph.Adjacency(rand_adjm)\n",
    "## 4. --- Get the degrees \n",
    "g2_d = g2.degree()\n",
    "## 5. --- Look at them \n",
    "print(f\"Method1 -> {g1_d}\")\n",
    "print(f\"Method2 -> {g2_d}\")\n",
    "print(f\"Are they the same?? -> {g1_d == g2_d}\")"
   ]
  },
  {
   "cell_type": "markdown",
   "metadata": {},
   "source": [
    "### 3. Get the Degree Matrix from the Adjacency Matrix \n",
    "\n",
    "- Method 1: Colsum + Rowsum  "
   ]
  },
  {
   "cell_type": "code",
   "execution_count": 4,
   "metadata": {},
   "outputs": [
    {
     "name": "stdout",
     "output_type": "stream",
     "text": [
      "Degrees from numpy operations -> [1, 4, 3, 4]\n",
      "Degrees from Method 1         -> [1, 4, 3, 4]\n",
      "Degrees from Method 2         -> [1, 4, 3, 4]\n",
      "Method 1. Are they the same?  -> True\n",
      "Method 2. Are they the same?  -> True\n"
     ]
    }
   ],
   "source": [
    "## 1. --- Rowsum, the sum of all the rows in a matrix, along axis 0.\n",
    "rowsum = np.sum(rand_adjm, axis=0)\n",
    "## 2. --- Colsum, sum of all the columns in a matrix along axis 1. \n",
    "colsum = np.sum(rand_adjm, axis=1).T # Transpose because it is a column vector and need a row vector\n",
    "## 3. --- Sum them.  & convert to list so we dont have the matrix([x,x,x,x]) \n",
    "degrees = (rowsum + colsum).tolist()[0] ## get the 0th element because it is nested [[1,2,3,4]] --> [1,2,3,4]\n",
    "# 4. --- Look at it \n",
    "print(f\"Degrees from numpy operations -> {degrees}\")\n",
    "print(f\"Degrees from Method 1         -> {g1_d}\")\n",
    "print(f\"Degrees from Method 2         -> {g2_d}\")\n",
    "## 4. --- Compare it to the two methods before \n",
    "print(f\"Method 1. Are they the same?  -> {g1_d == degrees}\")\n",
    "print(f\"Method 2. Are they the same?  -> {g2_d == degrees}\")\n"
   ]
  },
  {
   "cell_type": "code",
   "execution_count": 5,
   "metadata": {},
   "outputs": [
    {
     "data": {
      "text/plain": [
       "matrix([[ True,  True,  True,  True],\n",
       "        [ True,  True,  True,  True],\n",
       "        [ True,  True,  True,  True],\n",
       "        [ True,  True,  True,  True]])"
      ]
     },
     "execution_count": 5,
     "metadata": {},
     "output_type": "execute_result"
    }
   ],
   "source": [
    "## 1. -- Final Check! \n",
    "## THEY ARE THE SAME IM SO HAPPY OMG! :D :D :D\n",
    "rand_adjm == np.matrix(g1.get_adjacency().data) ## Our Adjacency Matrix Vs. Adjacency Matrix from iGraph!! "
   ]
  },
  {
   "cell_type": "markdown",
   "metadata": {},
   "source": [
    "### 4. Make a function and improve performance"
   ]
  },
  {
   "cell_type": "code",
   "execution_count": 6,
   "metadata": {},
   "outputs": [],
   "source": [
    "## can we jit it??!?! \n",
    "## YES WE CAN \n",
    "\"\"\"\n",
    "Elapsed (with compilation)  = 0.006689786911010742\n",
    "Elapsed (after compilation) = 0.0001480579376220703 \n",
    "4518x faster !!!!!\n",
    "Como funciona esta mierda? \n",
    "1. Le agregas el \"decorador\" @jit --> esto es un Just In Time compiler, compila el Python a C \n",
    "2. se le agrega el nopython=True, asi corre el codigo compilado en C y no el python \n",
    "3. aumentamos velocidad con Parallel=True, para multiprocessing \n",
    "4. nogil=True, Libera el Global Interpreter Lock (que limita el acceso a los coros del procesador)\n",
    "--- AHORA----\n",
    "La primera vez que corres la funcion, va  ser lenta, pq se compila \n",
    "Despues es Speedy Fucking Gonzales.\n",
    "\"\"\"\n",
    "@jit(nopython=True,parallel=True,nogil=True) ## fucking fast man!\n",
    "def get_degree_matrix(adjacency_matrix:np.matrix) -> np.matrix:\n",
    "    \"\"\"Returns degree matrix from adjacency matrix\"\"\"\n",
    "    ## create an empty matrix to return the values \n",
    "    empty_like = np.zeros_like(adjacency_matrix)\n",
    "    ## calculate the rowsum \n",
    "    rowsum = np.sum(adjacency_matrix, axis=0)\n",
    "    ## calculate the colsum & transpose \n",
    "    colsum = np.sum(adjacency_matrix, axis=1).T\n",
    "    ## sum them \n",
    "    degrees = rowsum + colsum \n",
    "    ## fill the empty matrix \n",
    "    np.fill_diagonal(empty_like, degrees)\n",
    "    return empty_like"
   ]
  },
  {
   "cell_type": "code",
   "execution_count": 9,
   "metadata": {},
   "outputs": [
    {
     "data": {
      "text/plain": [
       "array([[1, 0, 0, 0],\n",
       "       [0, 4, 0, 0],\n",
       "       [0, 0, 3, 0],\n",
       "       [0, 0, 0, 4]])"
      ]
     },
     "execution_count": 9,
     "metadata": {},
     "output_type": "execute_result"
    }
   ],
   "source": [
    "degrees = get_degree_matrix(rand_adjarr)\n",
    "degrees"
   ]
  },
  {
   "cell_type": "markdown",
   "metadata": {},
   "source": [
    "### Getting the new nodes to add\n",
    "\n",
    "0. Get all degrees\n",
    "1. Get the sum of all the degrees \n",
    "2. Calculate P(x) for each degree (degrees / ∑d)\n",
    "3. Generate a random number uniform number from (0, 1)\n",
    "4. Multiply the random number by the sum of degrees (Normalization)\n",
    "5. get the bins \n",
    "6. which node to add \n",
    "7. attach the node and repeat steps 1-6"
   ]
  },
  {
   "cell_type": "code",
   "execution_count": 20,
   "metadata": {},
   "outputs": [
    {
     "name": "stdout",
     "output_type": "stream",
     "text": [
      "[1 4 3 4]\n",
      "12\n",
      "[0.08333333 0.33333333 0.25       0.33333333]\n",
      "4.49448142616835 --\n",
      "[ 0  1  5  8 12]\n",
      "2\n"
     ]
    }
   ],
   "source": [
    "seed = np.random.seed(42)\n",
    "## 0. -- Get all degrees -> remember we get a matrix, so we only get the diagonal\n",
    "degrees = np.diag(get_degree_matrix(rand_adjm))\n",
    "## 1. -- Sum of all degrees\n",
    "sum_degrees = np.sum(degrees)\n",
    "## 2. -- Probabilitie for each degree\n",
    "degree_proba = degrees / sum_degrees\n",
    "## 3. -- random uniform from 0 to sum(degree)\n",
    "rand_val = np.random.uniform(0, 1) * sum_degrees\n",
    "## 4. -- Get the bins\n",
    "deg_bins = degrees.cumsum()\n",
    "## insert a 0 at the beginning \n",
    "deg_bins = np.concatenate((deg_bins[:0], [0], deg_bins[0:]))\n",
    "## 5. -- Identify which node to add it to \n",
    "add_node = np.digitize(rand_val, deg_bins)\n",
    "## 6. -- Attach node (extending the matrix)\n",
    "\n",
    "print(degrees)\n",
    "print(sum_degrees)\n",
    "print(degree_proba)\n",
    "print(rand_val,'--')\n",
    "print(deg_bins)\n",
    "print(add_node)"
   ]
  },
  {
   "cell_type": "code",
   "execution_count": 71,
   "metadata": {},
   "outputs": [
    {
     "data": {
      "text/plain": [
       "array([[0., 0., 0., 1., 0.],\n",
       "       [0., 0., 1., 1., 1.],\n",
       "       [0., 1., 0., 1., 0.],\n",
       "       [0., 1., 0., 0., 0.],\n",
       "       [0., 1., 0., 0., 0.]])"
      ]
     },
     "execution_count": 71,
     "metadata": {},
     "output_type": "execute_result"
    }
   ],
   "source": [
    "## lets say we wanted to build a graph that had 50 nodes \n",
    "FINAL_NODES = 20\n",
    "## we'd need to create an empty graph \n",
    "final_empty = np.zeros(shape=(FINAL_NODES,FINAL_NODES))\n",
    "## we put the current matrix into it \n",
    "## get the shape of the original one \n",
    "a, b = rand_adjm.shape\n",
    "final_empty[:a,:b] = rand_adjm\n",
    "#print(final_empty)\n",
    "## now we'd need to add the new node (INITIAL_NODE + 1) to add_node\n",
    "## the second node is index 1, not 2\n",
    "## so index_node = add_node -1 \n",
    "index_node = add_node - 1 \n",
    "## locate the new node and add a connection \n",
    "target = INITIAL_NODES\n",
    "new_to_add = target + 1\n",
    "## row x col\n",
    "final_empty[target,index_node] = 1\n",
    "final_empty[index_node, target] = 1\n",
    "## sample one \n",
    "sample = final_empty[:new_to_add,:new_to_add]\n",
    "sample"
   ]
  },
  {
   "cell_type": "code",
   "execution_count": 74,
   "metadata": {},
   "outputs": [
    {
     "data": {
      "image/svg+xml": "<?xml version=\"1.0\" encoding=\"UTF-8\"?>\n<svg xmlns=\"http://www.w3.org/2000/svg\" xmlns:xlink=\"http://www.w3.org/1999/xlink\" width=\"600pt\" height=\"600pt\" viewBox=\"0 0 600 600\" version=\"1.1\">\n<g id=\"surface26\">\n<rect x=\"0\" y=\"0\" width=\"600\" height=\"600\" style=\"fill:rgb(100%,100%,100%);fill-opacity:1;stroke:none;\"/>\n<path style=\"fill:none;stroke-width:1;stroke-linecap:butt;stroke-linejoin:miter;stroke:rgb(26.666667%,26.666667%,26.666667%);stroke-opacity:1;stroke-miterlimit:10;\" d=\"M 20 580 L 290.816406 376.601562 \"/>\n<path style=\" stroke:none;fill-rule:nonzero;fill:rgb(26.666667%,26.666667%,26.666667%);fill-opacity:1;\" d=\"M 302.222656 368.03125 L 293.601562 380.304688 L 288.03125 372.894531 L 302.222656 368.03125 \"/>\n<path style=\"fill:none;stroke-width:1;stroke-linecap:butt;stroke-linejoin:miter;stroke:rgb(26.666667%,26.666667%,26.666667%);stroke-opacity:1;stroke-miterlimit:10;\" d=\"M 477.875 20 C 401.980469 175.625 412.113281 402.78125 556.257812 428.085938 \"/>\n<path style=\" stroke:none;fill-rule:nonzero;fill:rgb(26.666667%,26.666667%,26.666667%);fill-opacity:1;\" d=\"M 570.308594 430.554688 L 555.457031 432.652344 L 557.058594 423.519531 L 570.308594 430.554688 \"/>\n<path style=\"fill:none;stroke-width:1;stroke-linecap:butt;stroke-linejoin:miter;stroke:rgb(26.666667%,26.666667%,26.666667%);stroke-opacity:1;stroke-miterlimit:10;\" d=\"M 477.875 20 C 334.519531 82.34375 204.394531 267.621094 292.40625 346.136719 \"/>\n<path style=\" stroke:none;fill-rule:nonzero;fill:rgb(26.666667%,26.666667%,26.666667%);fill-opacity:1;\" d=\"M 303.050781 355.632812 L 289.320312 349.597656 L 295.492188 342.679688 L 303.050781 355.632812 \"/>\n<path style=\"fill:none;stroke-width:1;stroke-linecap:butt;stroke-linejoin:miter;stroke:rgb(26.666667%,26.666667%,26.666667%);stroke-opacity:1;stroke-miterlimit:10;\" d=\"M 580 432.253906 C 650.472656 279.390625 614.042969 155.902344 495.183594 37.273438 \"/>\n<path style=\" stroke:none;fill-rule:nonzero;fill:rgb(26.666667%,26.666667%,26.666667%);fill-opacity:1;\" d=\"M 485.085938 27.195312 L 498.457031 33.992188 L 491.910156 40.554688 L 485.085938 27.195312 \"/>\n<path style=\"fill:none;stroke-width:1;stroke-linecap:butt;stroke-linejoin:miter;stroke:rgb(26.666667%,26.666667%,26.666667%);stroke-opacity:1;stroke-miterlimit:10;\" d=\"M 580 432.253906 L 333.703125 368.140625 \"/>\n<path style=\" stroke:none;fill-rule:nonzero;fill:rgb(26.666667%,26.666667%,26.666667%);fill-opacity:1;\" d=\"M 319.898438 364.546875 L 334.871094 363.65625 L 332.535156 372.625 L 319.898438 364.546875 \"/>\n<path style=\"fill:none;stroke-width:1;stroke-linecap:butt;stroke-linejoin:miter;stroke:rgb(26.666667%,26.666667%,26.666667%);stroke-opacity:1;stroke-miterlimit:10;\" d=\"M 310.21875 362.027344 C 444.726562 297.238281 459.089844 186.628906 475.175781 43.941406 \"/>\n<path style=\" stroke:none;fill-rule:nonzero;fill:rgb(26.666667%,26.666667%,26.666667%);fill-opacity:1;\" d=\"M 476.773438 29.765625 L 479.78125 44.460938 L 470.570312 43.421875 L 476.773438 29.765625 \"/>\n<path style=\"fill-rule:nonzero;fill:rgb(100%,0%,0%);fill-opacity:1;stroke-width:1;stroke-linecap:butt;stroke-linejoin:miter;stroke:rgb(0%,0%,0%);stroke-opacity:1;stroke-miterlimit:10;\" d=\"M 30 580 C 30 585.523438 25.523438 590 20 590 C 14.476562 590 10 585.523438 10 580 C 10 574.476562 14.476562 570 20 570 C 25.523438 570 30 574.476562 30 580 \"/>\n<path style=\"fill-rule:nonzero;fill:rgb(100%,0%,0%);fill-opacity:1;stroke-width:1;stroke-linecap:butt;stroke-linejoin:miter;stroke:rgb(0%,0%,0%);stroke-opacity:1;stroke-miterlimit:10;\" d=\"M 487.875 20 C 487.875 25.523438 483.398438 30 477.875 30 C 472.351562 30 467.875 25.523438 467.875 20 C 467.875 14.476562 472.351562 10 477.875 10 C 483.398438 10 487.875 14.476562 487.875 20 \"/>\n<path style=\"fill-rule:nonzero;fill:rgb(100%,0%,0%);fill-opacity:1;stroke-width:1;stroke-linecap:butt;stroke-linejoin:miter;stroke:rgb(0%,0%,0%);stroke-opacity:1;stroke-miterlimit:10;\" d=\"M 590 432.253906 C 590 437.777344 585.523438 442.253906 580 442.253906 C 574.476562 442.253906 570 437.777344 570 432.253906 C 570 426.730469 574.476562 422.253906 580 422.253906 C 585.523438 422.253906 590 426.730469 590 432.253906 \"/>\n<path style=\"fill-rule:nonzero;fill:rgb(100%,0%,0%);fill-opacity:1;stroke-width:1;stroke-linecap:butt;stroke-linejoin:miter;stroke:rgb(0%,0%,0%);stroke-opacity:1;stroke-miterlimit:10;\" d=\"M 320.21875 362.027344 C 320.21875 367.550781 315.742188 372.027344 310.21875 372.027344 C 304.695312 372.027344 300.21875 367.550781 300.21875 362.027344 C 300.21875 356.503906 304.695312 352.027344 310.21875 352.027344 C 315.742188 352.027344 320.21875 356.503906 320.21875 362.027344 \"/>\n</g>\n</svg>\n",
      "text/plain": [
       "<igraph.drawing.Plot at 0x7fbe24701940>"
      ]
     },
     "execution_count": 74,
     "metadata": {
      "image/svg+xml": {
       "isolated": true
      }
     },
     "output_type": "execute_result"
    }
   ],
   "source": [
    "ig.plot(g1)"
   ]
  },
  {
   "cell_type": "code",
   "execution_count": 73,
   "metadata": {},
   "outputs": [
    {
     "data": {
      "image/svg+xml": "<?xml version=\"1.0\" encoding=\"UTF-8\"?>\n<svg xmlns=\"http://www.w3.org/2000/svg\" xmlns:xlink=\"http://www.w3.org/1999/xlink\" width=\"600pt\" height=\"600pt\" viewBox=\"0 0 600 600\" version=\"1.1\">\n<g id=\"surface20\">\n<rect x=\"0\" y=\"0\" width=\"600\" height=\"600\" style=\"fill:rgb(100%,100%,100%);fill-opacity:1;stroke:none;\"/>\n<path style=\"fill:none;stroke-width:1;stroke-linecap:butt;stroke-linejoin:miter;stroke:rgb(26.666667%,26.666667%,26.666667%);stroke-opacity:1;stroke-miterlimit:10;\" d=\"M 20 20 L 211.507812 211.277344 \"/>\n<path style=\" stroke:none;fill-rule:nonzero;fill:rgb(26.666667%,26.666667%,26.666667%);fill-opacity:1;\" d=\"M 221.601562 221.359375 L 208.230469 214.554688 L 214.78125 207.996094 L 221.601562 221.359375 \"/>\n<path style=\"fill:none;stroke-width:1;stroke-linecap:butt;stroke-linejoin:miter;stroke:rgb(26.666667%,26.666667%,26.666667%);stroke-opacity:1;stroke-miterlimit:10;\" d=\"M 406.628906 303.050781 C 311.421875 364.136719 268.9375 453.410156 311.792969 557.433594 \"/>\n<path style=\" stroke:none;fill-rule:nonzero;fill:rgb(26.666667%,26.666667%,26.666667%);fill-opacity:1;\" d=\"M 317.226562 570.625 L 307.507812 559.199219 L 316.078125 555.667969 L 317.226562 570.625 \"/>\n<path style=\"fill:none;stroke-width:1;stroke-linecap:butt;stroke-linejoin:miter;stroke:rgb(26.666667%,26.666667%,26.666667%);stroke-opacity:1;stroke-miterlimit:10;\" d=\"M 406.628906 303.050781 C 375.070312 237.679688 322.433594 206.449219 251.90625 222.980469 \"/>\n<path style=\" stroke:none;fill-rule:nonzero;fill:rgb(26.666667%,26.666667%,26.666667%);fill-opacity:1;\" d=\"M 238.015625 226.234375 L 250.847656 218.46875 L 252.964844 227.492188 L 238.015625 226.234375 \"/>\n<path style=\"fill:none;stroke-width:1;stroke-linecap:butt;stroke-linejoin:miter;stroke:rgb(26.666667%,26.666667%,26.666667%);stroke-opacity:1;stroke-miterlimit:10;\" d=\"M 406.628906 303.050781 C 473.136719 320.113281 507.128906 271.753906 558.890625 240.039062 \"/>\n<path style=\" stroke:none;fill-rule:nonzero;fill:rgb(26.666667%,26.666667%,26.666667%);fill-opacity:1;\" d=\"M 571.054688 232.585938 L 561.3125 243.988281 L 556.46875 236.085938 L 571.054688 232.585938 \"/>\n<path style=\"fill:none;stroke-width:1;stroke-linecap:butt;stroke-linejoin:miter;stroke:rgb(26.666667%,26.666667%,26.666667%);stroke-opacity:1;stroke-miterlimit:10;\" d=\"M 321.089844 580 C 420.808594 519.148438 497.8125 385.378906 424.921875 319.566406 \"/>\n<path style=\" stroke:none;fill-rule:nonzero;fill:rgb(26.666667%,26.666667%,26.666667%);fill-opacity:1;\" d=\"M 414.332031 310.007812 L 428.027344 316.125 L 421.816406 323.007812 L 414.332031 310.007812 \"/>\n<path style=\"fill:none;stroke-width:1;stroke-linecap:butt;stroke-linejoin:miter;stroke:rgb(26.666667%,26.666667%,26.666667%);stroke-opacity:1;stroke-miterlimit:10;\" d=\"M 321.089844 580 L 234.84375 251.894531 \"/>\n<path style=\" stroke:none;fill-rule:nonzero;fill:rgb(26.666667%,26.666667%,26.666667%);fill-opacity:1;\" d=\"M 231.21875 238.097656 L 239.328125 250.714844 L 230.363281 253.070312 L 231.21875 238.097656 \"/>\n<path style=\"fill:none;stroke-width:1;stroke-linecap:butt;stroke-linejoin:miter;stroke:rgb(26.666667%,26.666667%,26.666667%);stroke-opacity:1;stroke-miterlimit:10;\" d=\"M 228.675781 228.425781 C 259.941406 293.636719 312.296875 324.878906 382.609375 308.609375 \"/>\n<path style=\" stroke:none;fill-rule:nonzero;fill:rgb(26.666667%,26.666667%,26.666667%);fill-opacity:1;\" d=\"M 396.507812 305.394531 L 383.652344 313.125 L 381.5625 304.09375 L 396.507812 305.394531 \"/>\n<path style=\"fill:none;stroke-width:1;stroke-linecap:butt;stroke-linejoin:miter;stroke:rgb(26.666667%,26.666667%,26.666667%);stroke-opacity:1;stroke-miterlimit:10;\" d=\"M 580 227.105469 C 504.585938 199.085938 378.789062 253.015625 394.863281 281.90625 \"/>\n<path style=\" stroke:none;fill-rule:nonzero;fill:rgb(26.666667%,26.666667%,26.666667%);fill-opacity:1;\" d=\"M 401.800781 294.371094 L 390.8125 284.160156 L 398.914062 279.652344 L 401.800781 294.371094 \"/>\n<path style=\"fill-rule:nonzero;fill:rgb(100%,0%,0%);fill-opacity:1;stroke-width:1;stroke-linecap:butt;stroke-linejoin:miter;stroke:rgb(0%,0%,0%);stroke-opacity:1;stroke-miterlimit:10;\" d=\"M 30 20 C 30 25.523438 25.523438 30 20 30 C 14.476562 30 10 25.523438 10 20 C 10 14.476562 14.476562 10 20 10 C 25.523438 10 30 14.476562 30 20 \"/>\n<path style=\"fill-rule:nonzero;fill:rgb(100%,0%,0%);fill-opacity:1;stroke-width:1;stroke-linecap:butt;stroke-linejoin:miter;stroke:rgb(0%,0%,0%);stroke-opacity:1;stroke-miterlimit:10;\" d=\"M 416.628906 303.050781 C 416.628906 308.574219 412.152344 313.050781 406.628906 313.050781 C 401.105469 313.050781 396.628906 308.574219 396.628906 303.050781 C 396.628906 297.527344 401.105469 293.050781 406.628906 293.050781 C 412.152344 293.050781 416.628906 297.527344 416.628906 303.050781 \"/>\n<path style=\"fill-rule:nonzero;fill:rgb(100%,0%,0%);fill-opacity:1;stroke-width:1;stroke-linecap:butt;stroke-linejoin:miter;stroke:rgb(0%,0%,0%);stroke-opacity:1;stroke-miterlimit:10;\" d=\"M 331.089844 580 C 331.089844 585.523438 326.613281 590 321.089844 590 C 315.566406 590 311.089844 585.523438 311.089844 580 C 311.089844 574.476562 315.566406 570 321.089844 570 C 326.613281 570 331.089844 574.476562 331.089844 580 \"/>\n<path style=\"fill-rule:nonzero;fill:rgb(100%,0%,0%);fill-opacity:1;stroke-width:1;stroke-linecap:butt;stroke-linejoin:miter;stroke:rgb(0%,0%,0%);stroke-opacity:1;stroke-miterlimit:10;\" d=\"M 238.675781 228.425781 C 238.675781 233.949219 234.199219 238.425781 228.675781 238.425781 C 223.152344 238.425781 218.675781 233.949219 218.675781 228.425781 C 218.675781 222.902344 223.152344 218.425781 228.675781 218.425781 C 234.199219 218.425781 238.675781 222.902344 238.675781 228.425781 \"/>\n<path style=\"fill-rule:nonzero;fill:rgb(100%,0%,0%);fill-opacity:1;stroke-width:1;stroke-linecap:butt;stroke-linejoin:miter;stroke:rgb(0%,0%,0%);stroke-opacity:1;stroke-miterlimit:10;\" d=\"M 590 227.105469 C 590 232.625 585.523438 237.105469 580 237.105469 C 574.476562 237.105469 570 232.625 570 227.105469 C 570 221.582031 574.476562 217.105469 580 217.105469 C 585.523438 217.105469 590 221.582031 590 227.105469 \"/>\n</g>\n</svg>\n",
      "text/plain": [
       "<igraph.drawing.Plot at 0x7fbe25257370>"
      ]
     },
     "execution_count": 73,
     "metadata": {
      "image/svg+xml": {
       "isolated": true
      }
     },
     "output_type": "execute_result"
    }
   ],
   "source": [
    "gg = ig.Graph.Adjacency(sample)\n",
    "ig.plot(gg)"
   ]
  },
  {
   "cell_type": "code",
   "execution_count": null,
   "metadata": {},
   "outputs": [],
   "source": []
  }
 ],
 "metadata": {
  "interpreter": {
   "hash": "ac6858c3dbc49267e902ff986705b591b9d7b57befff84fd7d814fe16c4a8e1f"
  },
  "kernelspec": {
   "display_name": "Python 3.8.5 ('ci_covid')",
   "language": "python",
   "name": "python3"
  },
  "language_info": {
   "codemirror_mode": {
    "name": "ipython",
    "version": 3
   },
   "file_extension": ".py",
   "mimetype": "text/x-python",
   "name": "python",
   "nbconvert_exporter": "python",
   "pygments_lexer": "ipython3",
   "version": "3.8.5"
  },
  "orig_nbformat": 4
 },
 "nbformat": 4,
 "nbformat_minor": 2
}

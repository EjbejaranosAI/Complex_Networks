{
 "cells": [
  {
   "cell_type": "markdown",
   "metadata": {},
   "source": [
    "# A2. Models of complex networks\n",
    "\n",
    "### Implementation of models of complex networks.\n",
    "Implement generators of complex networks for, at least, two of the following models of complex networks (sorted by increasing difficulty), which must include at least one of the two last ones (BA or CM):\n",
    "\n",
    "- Erdös-Rényi (ER) networks, either G(N,K) or G(N,p)\n",
    "\n",
    "- Watts-Strogatz (WS) small-world model\n",
    "\n",
    "- Barabási & Albert (BA) preferential attachment model\n",
    "\n",
    "- Configuration Model (CM)"
   ]
  },
  {
   "cell_type": "code",
   "execution_count": null,
   "metadata": {},
   "outputs": [],
   "source": [
    "%pip install igraph -q"
   ]
  },
  {
   "cell_type": "code",
   "execution_count": 2,
   "metadata": {},
   "outputs": [],
   "source": [
    "#Libraries\n",
    "import igraph\n",
    "import matplotlib.pyplot as plt\n",
    "from collections import defaultdict\n",
    "import numpy as np \n",
    "from typing import List\n",
    "import numpy as np\n",
    "import networkx as nx\n",
    "import itertools"
   ]
  },
  {
   "cell_type": "code",
   "execution_count": 3,
   "metadata": {},
   "outputs": [],
   "source": [
    "## PArams\n",
    "from pylab import rcParams\n",
    "rcParams['figure.figsize'] = 12,8"
   ]
  },
  {
   "cell_type": "markdown",
   "metadata": {},
   "source": [
    "## 1. Erdös-Rényi (ER) networks, either G(N,K) or G(N,p)\n",
    "ER: different values of \"K\" for G(N,K), or of \"p\" for G(N,p), such that e.g. k=3, 6, 10"
   ]
  },
  {
   "cell_type": "code",
   "execution_count": 224,
   "metadata": {},
   "outputs": [],
   "source": [
    "## make a class for a Erdos-Renyi graph \n",
    "class ErdosRenyi:\n",
    "    \"\"\"\n",
    "    PARAMS: \n",
    "    -------\n",
    "    number_of_nodes : the total number of nodes in the graph \n",
    "    \n",
    "    degrees : degrees (k), maximum degree per node \n",
    "    \n",
    "    probabilities : the probability that will be assigned to each new node \n",
    "    \n",
    "    RETRUNS:\n",
    "    --------\n",
    "    \n",
    "    ER_graph : A randomly generated Erdös-Rényi Graph with the defined parameters above. \n",
    "    \"\"\"\n",
    "    def __init__(self, number_of_nodes:int, degrees:int, probabilities:float) -> dict:\n",
    "        self.number_of_nodes = number_of_nodes\n",
    "        self.degrees = degrees\n",
    "        self.probabilities = probabilities\n",
    "        self.max_avg_degree = 20\n",
    "        self.ER_graph = self.generate_ER_graph()\n",
    "    ## define the generate_ER_graph function\n",
    "    def generate_ER_graph(self):\n",
    "        ## instantiate an empty graph \n",
    "        g = nx.Graph()\n",
    "        ## list of number of nodes \n",
    "        n_nodes = [i for i in range(self.number_of_nodes)]\n",
    "        ## add the nodes to the graph \n",
    "        g.add_nodes_from(n_nodes)\n",
    "        ## iterate through the nodes of the graph \n",
    "        for node, edges in itertools.combinations(g, 2):\n",
    "            ## generate a random number between 0 and 1\n",
    "            rand_num = np.random.uniform(0,1)\n",
    "            ## if the random number is less than the probability, add an edge\n",
    "            if rand_num < self.probabilities:\n",
    "                ## get the current degree of the source node \n",
    "                src_degree = g.degree(node)\n",
    "                ## get the degree of the destination node\n",
    "                trgt_degree = g.degree(edges)\n",
    "                ## if the src_degree and the trgt degree are less than self.degrees, add an edge\n",
    "                if src_degree < self.degrees and trgt_degree < self.degrees:\n",
    "                    ## if average degree of the network is less than 20 add an edge\n",
    "                    avg_degree = np.mean([x for x in dict(nx.degree(g)).values()])\n",
    "                    if avg_degree <= self.max_avg_degree:\n",
    "                        g.add_edge(node, edges)\n",
    "                        avg_degree = np.mean([x for x in dict(nx.degree(g)).values()])\n",
    "        return g\n",
    "    \n",
    "    "
   ]
  },
  {
   "cell_type": "code",
   "execution_count": 320,
   "metadata": {},
   "outputs": [],
   "source": [
    "node = 10000\n",
    "probs = 0.5\n",
    "k = 3\n",
    "g = ErdosRenyi(node, k, probs).generate_ER_graph()\n",
    "#nx.draw(g, with_labels=True)\n",
    "degs = dict(nx.degree(g))\n",
    "#_ = [print(f\"Node: {i} has degree: {k}\") for i,k in degs.items()]\n",
    "nx.draw(g, pos=nx.spring_layout(g))\n",
    "plt.title(f\"Erdos-Renyi Graph with {node} nodes (k={k},p={probs})\")\n",
    "#plt.hist(degs.values(), bins=range(0, max(degs.values())+1));plt.show()\n",
    "plt.savefig(f\"./graph_imgs/ER_graph_{node}_{k}_{round(probs*100)}.png\")\n",
    "plt.show()\n",
    "output = nx.to_numpy_matrix(g)\n",
    "np.save(f\"./graphs/ER/{node}/ER_graph_{node}_{k}_{round(probs*100)}.npy\", output)"
   ]
  },
  {
   "cell_type": "code",
   "execution_count": null,
   "metadata": {},
   "outputs": [],
   "source": [
    "## generate the plots and the matrix files to deliver \n",
    "nodes = 100\n",
    "proba = 0.2\n",
    "k = 3 ## fix this \n",
    "for node in [50, 100, 1000, 10000]:\n",
    "    for probs in [0.1, 0.25, 0.5, 0.75, 0.9]:\n",
    "        ## build it \n",
    "        g = ErdosRenyi(node, k, probs).generate_ER_graph()\n",
    "        #nx.draw(g, with_labels=True)\n",
    "        degs = dict(nx.degree(g))\n",
    "        #_ = [print(f\"Node: {i} has degree: {k}\") for i,k in degs.items()]\n",
    "        nx.draw(g, pos=nx.spring_layout(g))\n",
    "        plt.title(f\"Erdos-Renyi Graph with {node} nodes (k={k},p={probs})\")\n",
    "        #plt.hist(degs.values(), bins=range(0, max(degs.values())+1));plt.show()\n",
    "        plt.savefig(f\"./graph_imgs/ER_graph_{node}_{k}_{round(probs*100)}.png\")\n",
    "        plt.show()\n",
    "        output = nx.to_numpy_matrix(g)\n",
    "        np.save(f\"./graphs/ER/{node}/ER_graph_{node}_{k}_{round(probs*100)}.npy\", output)\n",
    "        "
   ]
  },
  {
   "cell_type": "code",
   "execution_count": null,
   "metadata": {},
   "outputs": [
    {
     "name": "stdout",
     "output_type": "stream",
     "text": [
      "Theoretical number of edges: 49.5\n",
      "Actual number of edges: 44\n",
      "Difference: -5.5\n",
      "Theoretical average degree: 0.99\n",
      "Actual average degree: 0.88\n",
      "Difference: -0.11\n"
     ]
    },
    {
     "data": {
      "text/plain": [
       "0.05976685942758052"
      ]
     },
     "execution_count": 291,
     "metadata": {},
     "output_type": "execute_result"
    }
   ],
   "source": [
    "from scipy.special import comb\n",
    "## theoretical number of edges \n",
    "## G(np) is nC2 * p \n",
    "theo_edges = comb(nodes, 2) * proba\n",
    "actual_edges = g.number_of_edges()\n",
    "## display theo_edges and actual_edges and their difference \n",
    "print(f\"Theoretical number of edges: {theo_edges}\")\n",
    "print(f\"Actual number of edges: {actual_edges}\")\n",
    "print(f\"Difference: {actual_edges - theo_edges}\")\n",
    "## properties of the graph\n",
    "\n",
    "## theoretical & experimental average degree \n",
    "theo_avg_degree = 2*theo_edges / nodes\n",
    "actual_avg_degree = 2*actual_edges / nodes\n",
    "print(f\"Theoretical average degree: {theo_avg_degree}\")\n",
    "print(f\"Actual average degree: {actual_avg_degree}\")\n",
    "print(f\"Difference: {actual_avg_degree - theo_avg_degree:.2f}\")\n",
    "\n",
    "## theoretical and experimental degree distribution\n",
    "f = lambda k: comb(nodes-1, k)*proba**k*(1-proba)**(nodes-1-k)\n",
    "theo_dist = list(map(f, range(1,k+1)))\n",
    "plt.plot(theo_dist)\n",
    "## actual distribution \n"
   ]
  },
  {
   "cell_type": "code",
   "execution_count": 292,
   "metadata": {},
   "outputs": [
    {
     "data": {
      "image/png": "[encoded data removed]",
      "text/plain": [
       "<Figure size 864x576 with 1 Axes>"
      ]
     },
     "metadata": {},
     "output_type": "display_data"
    }
   ],
   "source": [
    "## NODES\n",
    "N = 50\n",
    "NODES = list(range(N))\n",
    "## EDGES\n",
    "EDGES = list(itertools.combinations(NODES, 2))\n",
    "## NUMBER OF EDGES PER NODE \n",
    "NUM_EDGES = 6\n",
    "## MAXIMUM DEGREE EDGES IN THE NETWORK \n",
    "MAX_DEGREE = 20 \n",
    "## define a graph \n",
    "GRAPH = defaultdict(list)\n",
    "## probability of new edge \n",
    "EDGE_PROBABILITY = 0.1\n",
    "\n",
    "### --- working --- ###\n",
    "## add the nodes to the dictionary \n",
    "#GRAPH = {node:[] for node in NODES}\n",
    "## iterate through the edges \n",
    "for edge in EDGES:\n",
    "    ## get the current degree of the node \n",
    "    curr_degree = len(GRAPH[edge[0]])\n",
    "    ## get the average degree of the network\n",
    "    avg_degree = np.mean([len(x) for x in GRAPH.values()])\n",
    "    ## the current degree has to be less than NUM_EDGES and the average degree has to be less than MAX_DEGREE\n",
    "    ## then if a random number is greater than EDGE_PROBABILITY, add an edge\n",
    "    if curr_degree != NUM_EDGES and avg_degree <= MAX_DEGREE:\n",
    "        if np.random.uniform(0,1) > EDGE_PROBABILITY:\n",
    "            GRAPH[edge[0]].append(edge[1])\n",
    "            GRAPH[edge[1]].append(edge[0])\n",
    "## get a list of edges \n",
    "edges = [(node, edge) for node in GRAPH.keys() for edge in GRAPH[node]]\n",
    "## convert it to an nx graph with edges passed to it \n",
    "gnx = nx.Graph(edges)\n",
    "## plot it \n",
    "nx.draw(gnx,pos=nx.spring_layout(gnx))"
   ]
  },
  {
   "cell_type": "markdown",
   "metadata": {},
   "source": [
    "## 3. Barabási & Albert (BA) preferential attachment model\n",
    "BA: different values of \"m\" (number of edges that each new nodes forms with the existing nodes), e.g. m=1, 2, 5"
   ]
  },
  {
   "cell_type": "code",
   "execution_count": null,
   "metadata": {},
   "outputs": [],
   "source": [
    "nodes = 20\n",
    "p = 0.2\n",
    "k = np.random.uniform(size=(nodes,nodes))\n",
    "kk = (k > p).astype(int)\n",
    "G = nx.from_numpy_matrix(kk)"
   ]
  },
  {
   "cell_type": "code",
   "execution_count": null,
   "metadata": {},
   "outputs": [],
   "source": [
    "import matplotlib.colors as mcolors\n",
    "## this shit works\n",
    "def centrality(graph, centr_type, title):\n",
    "    \"\"\"This function creates a represntation for a given centrality type and for a given graph.\n",
    "    graph : networkx graph object\n",
    "    centr_type : type of centrality on a given graph, for example : nx.degree_centrality(graph)\n",
    "    title : string for the title of the representation.\n",
    "    \"\"\"\n",
    "\n",
    "    plt.figure(dpi=150)\n",
    "    pos = nx.spring_layout(graph)\n",
    "    nodes = nx.draw_networkx_nodes(\n",
    "        graph,\n",
    "        pos,\n",
    "        node_size=250,\n",
    "        cmap=plt.cm.plasma,\n",
    "        node_color=list(centr_type.values()\n",
    "                        ),  # color nodes according to their centrality values\n",
    "        nodelist=list(centr_type.keys()))\n",
    "    nodes.set_norm(mcolors.SymLogNorm(linthresh=0.01, linscale=1, base=10))\n",
    "\n",
    "    labels = nx.draw_networkx_labels(graph, pos)\n",
    "    edges = nx.draw_networkx_edges(graph, pos)\n",
    "\n",
    "    plt.title(title)\n",
    "    plt.colorbar(nodes)\n",
    "    plt.axis('off')"
   ]
  },
  {
   "cell_type": "code",
   "execution_count": null,
   "metadata": {},
   "outputs": [],
   "source": [
    "rcParams['figure.figsize'] = 20,12\n",
    "degrees = nx.degree_centrality(G)\n",
    "eigen_centr = nx.eigenvector_centrality(G)\n",
    "betweenees = nx.betweenness_centrality(G)\n",
    "centrality(G, degrees, \"Some title\")"
   ]
  },
  {
   "cell_type": "code",
   "execution_count": null,
   "metadata": {},
   "outputs": [],
   "source": [
    "\"\"\"\n",
    "1. Generamos un grafo con N nodos \n",
    "2. Elegimos nodo a cual agregar nuevo nodo (degree y probabilidad)\n",
    "3. agregamos nodo \n",
    "repetir 2-3 hasta llegar al tamanio querido \n",
    "----------------------------------------------------------\n",
    "INPUT: \n",
    "    - m (degree per node)\n",
    "    - Numero de nodos final\n",
    "OUTPUT:\n",
    "    - Network con numero de nodos y degree deseado \n",
    "----------------------------------------------------------\n",
    "Ejemplo: \n",
    "m = 3 (m>1)\n",
    "para cada nodo, repetimos paso 2, 3 veces, para tener 3 conexiones. \n",
    "y se actualiza todo para cada nuevo edge / conexion que se hace. \n",
    "\"\"\"\n",
    "\n",
    "\n",
    "def BA_lbert(nodes):\n",
    "    adjacency_matrix = np.random.randint(10, size=(nodes,nodes))\n",
    "    np.fill_diagonal(adjacency_matrix, 0)\n",
    "    network = nx.from_numpy_matrix(adjacency_matrix)\n",
    "    #network = network.remove_edges_from(nx.selfloop_edges(network))\n",
    "    nx.draw(network,with_labels=True)\n",
    "    plt.title(\"Barabási-Albert\")\n",
    "    plt.show()\n",
    "    \n",
    "    \n",
    "    return network, adjacency_matrix\n",
    "\n",
    "\n",
    "def degrees_sum(graph:nx.graph.Graph) -> None:\n",
    "    \"\"\"returns the list of degrees and the sum of degrees\"\"\"\n",
    "    ## degrees \n",
    "    degrees = np.array([x for x in dict(graph.degree()).values()])\n",
    "    ## sum of degrees \n",
    "    sum_degrees = sum(degrees)\n",
    "    return degrees, sum_degrees\n",
    "\n",
    "def generate_degree_bin(degrees:np.array) -> np.array:\n",
    "    \"\"\"returns the binning of the degrees\"\"\"\n",
    "    return np.cumsum(degrees)\n",
    "\n",
    "def degree_sum_uniform(sum_of_degrees:int) -> float:\n",
    "    \"\"\"generates a random uniform value multiplied by the sum of degrees\"\"\"\n",
    "    ## generate a random value \n",
    "    rand_val = np.random.uniform(0,1)\n",
    "    ## return the sum of degrees * rand_val\n",
    "    return sum_of_degrees * rand_val\n",
    "\n",
    "def get_bin_index(random_value:float, bin_values:np.array) -> tuple:\n",
    "    \"\"\"Returns the start and end index of the bin the value corresponds\"\"\"\n",
    "    ## iterate over the list with the index \n",
    "    for idx, i in enumerate(bin_values):\n",
    "        ## condition \n",
    "        if random_value <= i:\n",
    "            ## if the value of the index is less than 0 return 0\n",
    "            start = idx-1 if (idx-1) >=0 else 0\n",
    "            return (start, idx)\n",
    "\n",
    "## update node to add \n",
    "def update_node_to_add(dic1,matrix):\n",
    "    # Compute the degree with the matrix\n",
    "    for i in range(0,len(matrix)):\n",
    "        degree_for_node = matrix[i,:]\n",
    "        dic1 = sum((degree_for_node > 0).astype(int))\n",
    "        print(dic1)\n",
    "\n",
    "    dic1 = degrees\n",
    "\n",
    "    return dic1\n",
    "\n",
    "\n",
    "\n",
    "    \n",
    "\n"
   ]
  },
  {
   "cell_type": "code",
   "execution_count": null,
   "metadata": {},
   "outputs": [],
   "source": [
    "    \n",
    "#PLotear inicial\n",
    "k,adjacency_M = BA_lbert(4)\n",
    "#Calcular degrees y sacar dictionary\n",
    "\n",
    "degrees, sum_degree = degrees_sum(adjacency_M) # degrees and their sum \n",
    "degree_bin = generate_degree_bin(degrees) ## bins of the degrees \n",
    "degree_random = degree_sum_uniform(sum_degree) ## random value * sum of degrees\n",
    "val_bin = get_bin_index(degree_random, degree_bin)"
   ]
  },
  {
   "cell_type": "code",
   "execution_count": null,
   "metadata": {},
   "outputs": [],
   "source": [
    "#Experiment to print the graph with directed and undirectd way\n",
    "\n",
    "nodes = 6\n",
    "adjacency_matrix = np.random.randint(low=0,high=2, size=(nodes,nodes))\n",
    "np.fill_diagonal(adjacency_matrix, 0)\n",
    "test = np.triu(adjacency_matrix)\n",
    "graph = nx.from_numpy_array(test)\n",
    "graph1 = nx.from_numpy_array(adjacency_matrix)\n",
    "#print(dict(graph.degree()).values())\n",
    "#np.fill_diagonal(adjacency_matrix, 0)\n",
    "#assert sum(adjacency_matrix.diagonal()) == 0\n",
    "nx.draw(graph,with_labels=True)\n",
    "plt.title(\"Only diagonal\")\n",
    "plt.show()\n",
    "nx.draw(graph1,with_labels=True)\n",
    "plt.title(\"Adjacency Matrix\")\n",
    "plt.show()\n",
    "def get_degree(x):\n",
    "    a = dict(x.degree()).values()\n",
    "    counter = [x for x in a]\n",
    "    return counter\n",
    "\n",
    "d1 = get_degree(graph)\n",
    "print(sum(d1)/len(d1))\n",
    "d2 = get_degree(graph1)\n",
    "print(sum(d2)/len(d2))\n"
   ]
  },
  {
   "cell_type": "code",
   "execution_count": null,
   "metadata": {},
   "outputs": [],
   "source": [
    "b = np.random.randint(3,size=(3,3))\n",
    "a[:b.shape[0],:b.shape[1]] = b\n",
    "print(b)\n",
    "print(a)"
   ]
  },
  {
   "cell_type": "code",
   "execution_count": null,
   "metadata": {},
   "outputs": [],
   "source": [
    "adjacency_matrix\n",
    "np.triu(adjacency_matrix)"
   ]
  },
  {
   "cell_type": "code",
   "execution_count": null,
   "metadata": {},
   "outputs": [],
   "source": [
    "dict(G.degree()).values()"
   ]
  },
  {
   "cell_type": "code",
   "execution_count": null,
   "metadata": {},
   "outputs": [],
   "source": [
    "type(G)"
   ]
  },
  {
   "cell_type": "code",
   "execution_count": null,
   "metadata": {},
   "outputs": [],
   "source": [
    "##\n",
    "#dict = {}       # Degree dictionary\n",
    "\n",
    "def degrees_sum(graph:nx.graph.Graph) -> None:\n",
    "    \"\"\"returns the list of degrees and the sum of degrees\"\"\"\n",
    "    ## degrees \n",
    "    degrees = np.array([x for x in dict(graph.degree()).values()])\n",
    "    ## sum of degrees \n",
    "    sum_degrees = sum(degrees)\n",
    "    return degrees, sum_degrees\n",
    "\n",
    "def generate_degree_bin(degrees:np.array) -> np.array:\n",
    "    \"\"\"returns the binning of the degrees\"\"\"\n",
    "    return np.cumsum(degrees)\n",
    "\n",
    "def degree_sum_uniform(sum_of_degrees:int) -> float:\n",
    "    \"\"\"generates a random uniform value multiplied by the sum of degrees\"\"\"\n",
    "    ## generate a random value \n",
    "    rand_val = np.random.uniform(0,1)\n",
    "    ## return the sum of degrees * rand_val\n",
    "    return sum_of_degrees * rand_val\n",
    "\n",
    "def get_bin_index(random_value:float, bin_values:np.array) -> tuple:\n",
    "    \"\"\"Returns the start and end index of the bin the value corresponds\"\"\"\n",
    "    ## iterate over the list with the index \n",
    "    for idx, i in enumerate(bin_values):\n",
    "        ## condition \n",
    "        if random_value <= i:\n",
    "            ## if the value of the index is less than 0 return 0\n",
    "            start = idx-1 if (idx-1) >=0 else 0\n",
    "            return (start, idx)\n",
    "\n",
    "## update node to add \n",
    "def update_node_to_add(dict,bin_index):\n",
    "    \n",
    "    pass\n",
    "\n",
    "\n",
    "\n",
    "\n"
   ]
  },
  {
   "cell_type": "code",
   "execution_count": null,
   "metadata": {},
   "outputs": [],
   "source": [
    "degrees, sum_degree = degrees_sum(G) # degrees and their sum \n",
    "degree_bin = generate_degree_bin(degrees) ## bins of the degrees \n",
    "degree_random = degree_sum_uniform(sum_degree) ## random value * sum of degrees\n",
    "val_bin = get_bin_index(degree_random, degree_bin)"
   ]
  },
  {
   "cell_type": "code",
   "execution_count": null,
   "metadata": {},
   "outputs": [],
   "source": [
    "degrees, sum_degree"
   ]
  },
  {
   "cell_type": "code",
   "execution_count": null,
   "metadata": {},
   "outputs": [],
   "source": [
    "degree_bin, degree_random"
   ]
  },
  {
   "cell_type": "code",
   "execution_count": null,
   "metadata": {},
   "outputs": [],
   "source": [
    "val_bin"
   ]
  },
  {
   "cell_type": "code",
   "execution_count": null,
   "metadata": {},
   "outputs": [],
   "source": [
    "\n",
    "d = {\"1\":1,\"2\": 5,\"3\": 4,\"4\": 5}\n",
    "\n",
    "nuevo = update_node_to_add(d,adjacency_matrix)\n"
   ]
  },
  {
   "cell_type": "code",
   "execution_count": null,
   "metadata": {},
   "outputs": [],
   "source": [
    "print(nuevo)"
   ]
  },
  {
   "cell_type": "code",
   "execution_count": null,
   "metadata": {},
   "outputs": [],
   "source": []
  },
  {
   "cell_type": "code",
   "execution_count": null,
   "metadata": {},
   "outputs": [],
   "source": []
  },
  {
   "cell_type": "code",
   "execution_count": null,
   "metadata": {},
   "outputs": [],
   "source": []
  },
  {
   "cell_type": "code",
   "execution_count": null,
   "metadata": {},
   "outputs": [],
   "source": []
  },
  {
   "cell_type": "code",
   "execution_count": null,
   "metadata": {},
   "outputs": [],
   "source": []
  }
 ],
 "metadata": {
  "interpreter": {
   "hash": "4074c6767ec73ea69747b656614144d24721785b8df68decaa3fba3b2e9c6c00"
  },
  "kernelspec": {
   "display_name": "Python 3.9.7 ('base')",
   "language": "python",
   "name": "python3"
  },
  "language_info": {
   "codemirror_mode": {
    "name": "ipython",
    "version": 3
   },
   "file_extension": ".py",
   "mimetype": "text/x-python",
   "name": "python",
   "nbconvert_exporter": "python",
   "pygments_lexer": "ipython3",
   "version": "3.8.5"
  },
  "orig_nbformat": 4
 },
 "nbformat": 4,
 "nbformat_minor": 2
}

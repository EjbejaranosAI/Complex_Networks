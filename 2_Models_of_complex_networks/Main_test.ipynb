{
 "cells": [
  {
   "cell_type": "markdown",
   "metadata": {},
   "source": [
    "# A2. Models of complex networks\n",
    "\n",
    "### Implementation of models of complex networks.\n",
    "Implement generators of complex networks for, at least, two of the following models of complex networks (sorted by increasing difficulty), which must include at least one of the two last ones (BA or CM):\n",
    "\n",
    "- Erdös-Rényi (ER) networks, either G(N,K) or G(N,p)\n",
    "\n",
    "- Watts-Strogatz (WS) small-world model\n",
    "\n",
    "- Barabási & Albert (BA) preferential attachment model\n",
    "\n",
    "- Configuration Model (CM)"
   ]
  },
  {
   "cell_type": "code",
   "execution_count": 4,
   "metadata": {},
   "outputs": [
    {
     "name": "stdout",
     "output_type": "stream",
     "text": [
      "Note: you may need to restart the kernel to use updated packages.\n"
     ]
    }
   ],
   "source": [
    "%pip install igraph -q"
   ]
  },
  {
   "cell_type": "code",
   "execution_count": 1,
   "metadata": {},
   "outputs": [],
   "source": [
    "#Libraries\n",
    "import igraph\n",
    "import matplotlib.pyplot as plt"
   ]
  },
  {
   "cell_type": "code",
   "execution_count": 3,
   "metadata": {},
   "outputs": [],
   "source": [
    "#Variables\n",
    "N = 50 \n",
    "#N = 100\n",
    "#N = 1000\n",
    "P = 0.003\n",
    "K =  3"
   ]
  },
  {
   "cell_type": "markdown",
   "metadata": {},
   "source": [
    "## 1. Erdös-Rényi (ER) networks, either G(N,K) or G(N,p)\n",
    "ER: different values of \"K\" for G(N,K), or of \"p\" for G(N,p), such that e.g. <k>=3, 6, 10"
   ]
  },
  {
   "cell_type": "code",
   "execution_count": 4,
   "metadata": {},
   "outputs": [
    {
     "name": "stdout",
     "output_type": "stream",
     "text": [
      "<function ER at 0x7f578b0620d0>\n"
     ]
    }
   ],
   "source": [
    "def ER(number_samples):\n",
    "    ER_graph = []\n",
    "    ER_graph = (number_samples*(number_samples-1))/2\n",
    "    return ER_graph\n",
    "ER(N)\n",
    "print(ER)"
   ]
  },
  {
   "cell_type": "markdown",
   "metadata": {},
   "source": [
    "## 2. Watts-Strogatz (WS) small-world model\n",
    "WS: different values of <k> and \"p\", including p=0, e.g. p=0.0, 0.1, 0.2, 0.5, 0.9, 1.0, and <k>=2, 4, 6"
   ]
  },
  {
   "cell_type": "code",
   "execution_count": null,
   "metadata": {},
   "outputs": [],
   "source": []
  },
  {
   "cell_type": "markdown",
   "metadata": {},
   "source": [
    "## 3. Barabási & Albert (BA) preferential attachment model\n",
    "BA: different values of \"m\" (number of edges that each new nodes forms with the existing nodes), e.g. m=1, 2, 5"
   ]
  },
  {
   "cell_type": "code",
   "execution_count": null,
   "metadata": {},
   "outputs": [],
   "source": []
  },
  {
   "cell_type": "markdown",
   "metadata": {},
   "source": [
    "## 4. Configuration Model (CM)\n",
    "\n",
    "CM: different degree distributions: Poisson (ER), e.g. <k>=2, 4; power-law (SF) with different exponents, e.g. gamma=2.2, 2.7, 3.5\n",
    "\n"
   ]
  },
  {
   "cell_type": "code",
   "execution_count": null,
   "metadata": {},
   "outputs": [],
   "source": [
    "## 2."
   ]
  }
 ],
 "metadata": {
  "interpreter": {
   "hash": "4074c6767ec73ea69747b656614144d24721785b8df68decaa3fba3b2e9c6c00"
  },
  "kernelspec": {
   "display_name": "Python 3.9.7 ('base')",
   "language": "python",
   "name": "python3"
  },
  "language_info": {
   "codemirror_mode": {
    "name": "ipython",
    "version": 3
   },
   "file_extension": ".py",
   "mimetype": "text/x-python",
   "name": "python",
   "nbconvert_exporter": "python",
   "pygments_lexer": "ipython3",
   "version": "3.9.7"
  },
  "orig_nbformat": 4
 },
 "nbformat": 4,
 "nbformat_minor": 2
}

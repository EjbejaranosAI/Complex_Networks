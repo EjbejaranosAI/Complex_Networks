{
 "cells": [
  {
   "cell_type": "markdown",
   "metadata": {},
   "source": [
    "# A2. Models of complex networks\n",
    "\n",
    "### Implementation of models of complex networks.\n",
    "Implement generators of complex networks for, at least, two of the following models of complex networks (sorted by increasing difficulty), which must include at least one of the two last ones (BA or CM):\n",
    "\n",
    "- Erdös-Rényi (ER) networks, either G(N,K) or G(N,p)\n",
    "\n",
    "- Watts-Strogatz (WS) small-world model\n",
    "\n",
    "- Barabási & Albert (BA) preferential attachment model\n",
    "\n",
    "- Configuration Model (CM)"
   ]
  },
  {
   "cell_type": "code",
   "execution_count": 4,
   "metadata": {},
   "outputs": [
    {
     "name": "stdout",
     "output_type": "stream",
     "text": [
      "Note: you may need to restart the kernel to use updated packages.\n"
     ]
    }
   ],
   "source": [
    "%pip install igraph -q"
   ]
  },
  {
   "cell_type": "code",
   "execution_count": 25,
   "metadata": {},
   "outputs": [],
   "source": [
    "#Libraries\n",
    "import igraph\n",
    "import matplotlib.pyplot as plt\n",
    "import time \n",
    "from collections import defaultdict\n",
    "import numpy as np \n",
    "from typing import List\n",
    "import seaborn as sns \n"
   ]
  },
  {
   "cell_type": "code",
   "execution_count": 2,
   "metadata": {},
   "outputs": [],
   "source": [
    "#Variables\n",
    "N = 50 \n",
    "#N = 100\n",
    "#N = 1000\n",
    "P = 0.003\n",
    "K =  3"
   ]
  },
  {
   "cell_type": "markdown",
   "metadata": {},
   "source": [
    "## 1. Erdös-Rényi (ER) networks, either G(N,K) or G(N,p)\n",
    "ER: different values of \"K\" for G(N,K), or of \"p\" for G(N,p), such that e.g. k=3, 6, 10"
   ]
  },
  {
   "cell_type": "code",
   "execution_count": 44,
   "metadata": {},
   "outputs": [],
   "source": [
    "\n",
    "#Erdos-Rènyi (ER) networks G(N,p)\n",
    "class ErdosRenyiGraph: \n",
    "    \"\"\"\n",
    "    Function which implements a random Erdös-Rényi (ER) Graph with the given parameters\n",
    "    \n",
    "    PARAMS: \n",
    "    -------\n",
    "    number_of_nodes : the total number of nodes in the graph \n",
    "    \n",
    "    number_of_edges : total number of edges??\n",
    "    \n",
    "    degrees : degrees (k)\n",
    "    \n",
    "    probabilities : the probability that will be assigned to each new node \n",
    "    \n",
    "    RETRUNS:\n",
    "    --------\n",
    "    \n",
    "    ER_graph : A randomly generated Erdös-Rényi Graph with the defined parameters above. \n",
    "    \n",
    "    \"\"\"\n",
    "\n",
    "    ## class for the randomly generated graphs like ER\n",
    "    def __init__(self, number_of_nodes:int = 5, probabilities:float = 0.2):\n",
    "        self.nodes = number_of_nodes\n",
    "        self.probas = probabilities\n",
    "        self.graph = self._start_network()\n",
    "        self.edges = self._get_edges()\n",
    "        self.igraph = igraph.Graph(edges=self.edges)\n",
    "        self.degrees = self._calculate_degrees()\n",
    "\n",
    "    \n",
    "    def _plot_graph(self):\n",
    "        return igraph.plot(self.igraph) \n",
    "    \n",
    "    def _get_edges(self):\n",
    "        return [(node, edge) for node in self.graph.keys() for edge in self.graph[node]]\n",
    "\n",
    "    def _start_network(self):\n",
    "        g = defaultdict(list)\n",
    "        ## iterate through the number of nodes \n",
    "        for nodes in range(0,self.nodes):\n",
    "            ## iterate through the possible connections (Node to Node)\n",
    "            for edges in range(0,self.nodes):\n",
    "                ## define whether a link exists\n",
    "                if nodes < edges: \n",
    "                    link_exist = np.random.uniform(0,1) > self.probas\n",
    "                    ## if it exists we append a connection to node_i \n",
    "                    if link_exist: \n",
    "                        g[nodes].append(edges)\n",
    "        return g\n",
    "\n",
    "    def _build_graph(self):\n",
    "        ## start the network \n",
    "        self._start_network()\n",
    "        print(f\"Build the graph with {self.nodes} and {len(self.edges)} edges with a probability of {self.probas} and assigned the iGraph variable\")\n",
    "\n",
    "    ## calculate descriptors \n",
    "    # Degrees, Power Law Distribution\n",
    "    def _calculate_degrees(self):\n",
    "        return list(map(len,self.graph.values()))\n",
    "\n",
    "    # theoretical graph\n",
    "    def _plot_theoretical(self, graph):\n",
    "        pass \n",
    "    # experimental graph \n",
    "    def _plot_experimental(self, graph):\n",
    "        pass"
   ]
  },
  {
   "cell_type": "code",
   "execution_count": 65,
   "metadata": {},
   "outputs": [
    {
     "name": "stdout",
     "output_type": "stream",
     "text": [
      "[1, 4, 9, 16]\n",
      "[7, 8, 9, 99, 999]\n"
     ]
    }
   ],
   "source": [
    "def squareed(x):\n",
    "    return x **2\n",
    "\n",
    "## apply a function quickly \n",
    "f = lambda x: x**2\n",
    "l = [1,2,3,4]\n",
    "k = list(map(f,l))\n",
    "print(k)\n",
    "\n",
    "\n",
    "## Filter a list of values or array quickly\n",
    "f = lambda x: x > 5\n",
    "l = [7,8,9,99,999,1,1,1,1,2]\n",
    "k = list(filter(f, l))\n",
    "print(k)"
   ]
  },
  {
   "cell_type": "code",
   "execution_count": 45,
   "metadata": {},
   "outputs": [
    {
     "name": "stdout",
     "output_type": "stream",
     "text": [
      "Build the graph with 20 and 105 edges with a probability of 0.37 and assigned the iGraph variable\n"
     ]
    },
    {
     "data": {
      "image/svg+xml": "<?xml version=\"1.0\" encoding=\"UTF-8\"?>\n<svg xmlns=\"http://www.w3.org/2000/svg\" xmlns:xlink=\"http://www.w3.org/1999/xlink\" width=\"600pt\" height=\"600pt\" viewBox=\"0 0 600 600\" version=\"1.1\">\n<g id=\"surface86\">\n<rect x=\"0\" y=\"0\" width=\"600\" height=\"600\" style=\"fill:rgb(100%,100%,100%);fill-opacity:1;stroke:none;\"/>\n<path style=\"fill:none;stroke-width:1;stroke-linecap:butt;stroke-linejoin:miter;stroke:rgb(26.666667%,26.666667%,26.666667%);stroke-opacity:1;stroke-miterlimit:10;\" d=\"M 388.214844 174.144531 L 276.199219 88.621094 \"/>\n<path style=\"fill:none;stroke-width:1;stroke-linecap:butt;stroke-linejoin:miter;stroke:rgb(26.666667%,26.666667%,26.666667%);stroke-opacity:1;stroke-miterlimit:10;\" d=\"M 388.214844 174.144531 L 202.246094 221.773438 \"/>\n<path style=\"fill:none;stroke-width:1;stroke-linecap:butt;stroke-linejoin:miter;stroke:rgb(26.666667%,26.666667%,26.666667%);stroke-opacity:1;stroke-miterlimit:10;\" d=\"M 388.214844 174.144531 L 438.800781 283.453125 \"/>\n<path style=\"fill:none;stroke-width:1;stroke-linecap:butt;stroke-linejoin:miter;stroke:rgb(26.666667%,26.666667%,26.666667%);stroke-opacity:1;stroke-miterlimit:10;\" d=\"M 388.214844 174.144531 L 488.863281 370.371094 \"/>\n<path style=\"fill:none;stroke-width:1;stroke-linecap:butt;stroke-linejoin:miter;stroke:rgb(26.666667%,26.666667%,26.666667%);stroke-opacity:1;stroke-miterlimit:10;\" d=\"M 388.214844 174.144531 L 376.941406 573.054688 \"/>\n<path style=\"fill:none;stroke-width:1;stroke-linecap:butt;stroke-linejoin:miter;stroke:rgb(26.666667%,26.666667%,26.666667%);stroke-opacity:1;stroke-miterlimit:10;\" d=\"M 388.214844 174.144531 L 487.882812 494.3125 \"/>\n<path style=\"fill:none;stroke-width:1;stroke-linecap:butt;stroke-linejoin:miter;stroke:rgb(26.666667%,26.666667%,26.666667%);stroke-opacity:1;stroke-miterlimit:10;\" d=\"M 388.214844 174.144531 L 284.03125 580 \"/>\n<path style=\"fill:none;stroke-width:1;stroke-linecap:butt;stroke-linejoin:miter;stroke:rgb(26.666667%,26.666667%,26.666667%);stroke-opacity:1;stroke-miterlimit:10;\" d=\"M 388.214844 174.144531 L 67.558594 149 \"/>\n<path style=\"fill:none;stroke-width:1;stroke-linecap:butt;stroke-linejoin:miter;stroke:rgb(26.666667%,26.666667%,26.666667%);stroke-opacity:1;stroke-miterlimit:10;\" d=\"M 388.214844 174.144531 L 173.707031 20 \"/>\n<path style=\"fill:none;stroke-width:1;stroke-linecap:butt;stroke-linejoin:miter;stroke:rgb(26.666667%,26.666667%,26.666667%);stroke-opacity:1;stroke-miterlimit:10;\" d=\"M 388.214844 174.144531 L 123.871094 305.253906 \"/>\n<path style=\"fill:none;stroke-width:1;stroke-linecap:butt;stroke-linejoin:miter;stroke:rgb(26.666667%,26.666667%,26.666667%);stroke-opacity:1;stroke-miterlimit:10;\" d=\"M 276.199219 88.621094 L 202.246094 221.773438 \"/>\n<path style=\"fill:none;stroke-width:1;stroke-linecap:butt;stroke-linejoin:miter;stroke:rgb(26.666667%,26.666667%,26.666667%);stroke-opacity:1;stroke-miterlimit:10;\" d=\"M 276.199219 88.621094 L 85.667969 540.078125 \"/>\n<path style=\"fill:none;stroke-width:1;stroke-linecap:butt;stroke-linejoin:miter;stroke:rgb(26.666667%,26.666667%,26.666667%);stroke-opacity:1;stroke-miterlimit:10;\" d=\"M 276.199219 88.621094 L 488.863281 370.371094 \"/>\n<path style=\"fill:none;stroke-width:1;stroke-linecap:butt;stroke-linejoin:miter;stroke:rgb(26.666667%,26.666667%,26.666667%);stroke-opacity:1;stroke-miterlimit:10;\" d=\"M 276.199219 88.621094 L 487.882812 494.3125 \"/>\n<path style=\"fill:none;stroke-width:1;stroke-linecap:butt;stroke-linejoin:miter;stroke:rgb(26.666667%,26.666667%,26.666667%);stroke-opacity:1;stroke-miterlimit:10;\" d=\"M 276.199219 88.621094 L 285.28125 374.585938 \"/>\n<path style=\"fill:none;stroke-width:1;stroke-linecap:butt;stroke-linejoin:miter;stroke:rgb(26.666667%,26.666667%,26.666667%);stroke-opacity:1;stroke-miterlimit:10;\" d=\"M 276.199219 88.621094 L 67.558594 149 \"/>\n<path style=\"fill:none;stroke-width:1;stroke-linecap:butt;stroke-linejoin:miter;stroke:rgb(26.666667%,26.666667%,26.666667%);stroke-opacity:1;stroke-miterlimit:10;\" d=\"M 276.199219 88.621094 L 375.996094 74.679688 \"/>\n<path style=\"fill:none;stroke-width:1;stroke-linecap:butt;stroke-linejoin:miter;stroke:rgb(26.666667%,26.666667%,26.666667%);stroke-opacity:1;stroke-miterlimit:10;\" d=\"M 276.199219 88.621094 L 287.648438 287.0625 \"/>\n<path style=\"fill:none;stroke-width:1;stroke-linecap:butt;stroke-linejoin:miter;stroke:rgb(26.666667%,26.666667%,26.666667%);stroke-opacity:1;stroke-miterlimit:10;\" d=\"M 276.199219 88.621094 L 173.707031 20 \"/>\n<path style=\"fill:none;stroke-width:1;stroke-linecap:butt;stroke-linejoin:miter;stroke:rgb(26.666667%,26.666667%,26.666667%);stroke-opacity:1;stroke-miterlimit:10;\" d=\"M 202.246094 221.773438 L 438.800781 283.453125 \"/>\n<path style=\"fill:none;stroke-width:1;stroke-linecap:butt;stroke-linejoin:miter;stroke:rgb(26.666667%,26.666667%,26.666667%);stroke-opacity:1;stroke-miterlimit:10;\" d=\"M 202.246094 221.773438 L 580 265.285156 \"/>\n<path style=\"fill:none;stroke-width:1;stroke-linecap:butt;stroke-linejoin:miter;stroke:rgb(26.666667%,26.666667%,26.666667%);stroke-opacity:1;stroke-miterlimit:10;\" d=\"M 202.246094 221.773438 L 85.667969 540.078125 \"/>\n<path style=\"fill:none;stroke-width:1;stroke-linecap:butt;stroke-linejoin:miter;stroke:rgb(26.666667%,26.666667%,26.666667%);stroke-opacity:1;stroke-miterlimit:10;\" d=\"M 202.246094 221.773438 L 376.941406 573.054688 \"/>\n<path style=\"fill:none;stroke-width:1;stroke-linecap:butt;stroke-linejoin:miter;stroke:rgb(26.666667%,26.666667%,26.666667%);stroke-opacity:1;stroke-miterlimit:10;\" d=\"M 202.246094 221.773438 L 285.28125 374.585938 \"/>\n<path style=\"fill:none;stroke-width:1;stroke-linecap:butt;stroke-linejoin:miter;stroke:rgb(26.666667%,26.666667%,26.666667%);stroke-opacity:1;stroke-miterlimit:10;\" d=\"M 202.246094 221.773438 L 67.558594 149 \"/>\n<path style=\"fill:none;stroke-width:1;stroke-linecap:butt;stroke-linejoin:miter;stroke:rgb(26.666667%,26.666667%,26.666667%);stroke-opacity:1;stroke-miterlimit:10;\" d=\"M 202.246094 221.773438 L 193.078125 567.5625 \"/>\n<path style=\"fill:none;stroke-width:1;stroke-linecap:butt;stroke-linejoin:miter;stroke:rgb(26.666667%,26.666667%,26.666667%);stroke-opacity:1;stroke-miterlimit:10;\" d=\"M 202.246094 221.773438 L 375.996094 74.679688 \"/>\n<path style=\"fill:none;stroke-width:1;stroke-linecap:butt;stroke-linejoin:miter;stroke:rgb(26.666667%,26.666667%,26.666667%);stroke-opacity:1;stroke-miterlimit:10;\" d=\"M 202.246094 221.773438 L 287.648438 287.0625 \"/>\n<path style=\"fill:none;stroke-width:1;stroke-linecap:butt;stroke-linejoin:miter;stroke:rgb(26.666667%,26.666667%,26.666667%);stroke-opacity:1;stroke-miterlimit:10;\" d=\"M 202.246094 221.773438 L 173.707031 20 \"/>\n<path style=\"fill:none;stroke-width:1;stroke-linecap:butt;stroke-linejoin:miter;stroke:rgb(26.666667%,26.666667%,26.666667%);stroke-opacity:1;stroke-miterlimit:10;\" d=\"M 202.246094 221.773438 L 123.871094 305.253906 \"/>\n<path style=\"fill:none;stroke-width:1;stroke-linecap:butt;stroke-linejoin:miter;stroke:rgb(26.666667%,26.666667%,26.666667%);stroke-opacity:1;stroke-miterlimit:10;\" d=\"M 202.246094 221.773438 L 20 379.714844 \"/>\n<path style=\"fill:none;stroke-width:1;stroke-linecap:butt;stroke-linejoin:miter;stroke:rgb(26.666667%,26.666667%,26.666667%);stroke-opacity:1;stroke-miterlimit:10;\" d=\"M 438.800781 283.453125 L 580 265.285156 \"/>\n<path style=\"fill:none;stroke-width:1;stroke-linecap:butt;stroke-linejoin:miter;stroke:rgb(26.666667%,26.666667%,26.666667%);stroke-opacity:1;stroke-miterlimit:10;\" d=\"M 438.800781 283.453125 L 487.882812 494.3125 \"/>\n<path style=\"fill:none;stroke-width:1;stroke-linecap:butt;stroke-linejoin:miter;stroke:rgb(26.666667%,26.666667%,26.666667%);stroke-opacity:1;stroke-miterlimit:10;\" d=\"M 438.800781 283.453125 L 284.03125 580 \"/>\n<path style=\"fill:none;stroke-width:1;stroke-linecap:butt;stroke-linejoin:miter;stroke:rgb(26.666667%,26.666667%,26.666667%);stroke-opacity:1;stroke-miterlimit:10;\" d=\"M 438.800781 283.453125 L 374.550781 428.730469 \"/>\n<path style=\"fill:none;stroke-width:1;stroke-linecap:butt;stroke-linejoin:miter;stroke:rgb(26.666667%,26.666667%,26.666667%);stroke-opacity:1;stroke-miterlimit:10;\" d=\"M 438.800781 283.453125 L 287.648438 287.0625 \"/>\n<path style=\"fill:none;stroke-width:1;stroke-linecap:butt;stroke-linejoin:miter;stroke:rgb(26.666667%,26.666667%,26.666667%);stroke-opacity:1;stroke-miterlimit:10;\" d=\"M 438.800781 283.453125 L 123.871094 305.253906 \"/>\n<path style=\"fill:none;stroke-width:1;stroke-linecap:butt;stroke-linejoin:miter;stroke:rgb(26.666667%,26.666667%,26.666667%);stroke-opacity:1;stroke-miterlimit:10;\" d=\"M 438.800781 283.453125 L 20 379.714844 \"/>\n<path style=\"fill:none;stroke-width:1;stroke-linecap:butt;stroke-linejoin:miter;stroke:rgb(26.666667%,26.666667%,26.666667%);stroke-opacity:1;stroke-miterlimit:10;\" d=\"M 580 265.285156 L 488.863281 370.371094 \"/>\n<path style=\"fill:none;stroke-width:1;stroke-linecap:butt;stroke-linejoin:miter;stroke:rgb(26.666667%,26.666667%,26.666667%);stroke-opacity:1;stroke-miterlimit:10;\" d=\"M 580 265.285156 L 376.941406 573.054688 \"/>\n<path style=\"fill:none;stroke-width:1;stroke-linecap:butt;stroke-linejoin:miter;stroke:rgb(26.666667%,26.666667%,26.666667%);stroke-opacity:1;stroke-miterlimit:10;\" d=\"M 580 265.285156 L 487.882812 494.3125 \"/>\n<path style=\"fill:none;stroke-width:1;stroke-linecap:butt;stroke-linejoin:miter;stroke:rgb(26.666667%,26.666667%,26.666667%);stroke-opacity:1;stroke-miterlimit:10;\" d=\"M 580 265.285156 L 285.28125 374.585938 \"/>\n<path style=\"fill:none;stroke-width:1;stroke-linecap:butt;stroke-linejoin:miter;stroke:rgb(26.666667%,26.666667%,26.666667%);stroke-opacity:1;stroke-miterlimit:10;\" d=\"M 580 265.285156 L 374.550781 428.730469 \"/>\n<path style=\"fill:none;stroke-width:1;stroke-linecap:butt;stroke-linejoin:miter;stroke:rgb(26.666667%,26.666667%,26.666667%);stroke-opacity:1;stroke-miterlimit:10;\" d=\"M 580 265.285156 L 375.996094 74.679688 \"/>\n<path style=\"fill:none;stroke-width:1;stroke-linecap:butt;stroke-linejoin:miter;stroke:rgb(26.666667%,26.666667%,26.666667%);stroke-opacity:1;stroke-miterlimit:10;\" d=\"M 190.441406 395.390625 L 85.667969 540.078125 \"/>\n<path style=\"fill:none;stroke-width:1;stroke-linecap:butt;stroke-linejoin:miter;stroke:rgb(26.666667%,26.666667%,26.666667%);stroke-opacity:1;stroke-miterlimit:10;\" d=\"M 190.441406 395.390625 L 488.863281 370.371094 \"/>\n<path style=\"fill:none;stroke-width:1;stroke-linecap:butt;stroke-linejoin:miter;stroke:rgb(26.666667%,26.666667%,26.666667%);stroke-opacity:1;stroke-miterlimit:10;\" d=\"M 190.441406 395.390625 L 376.941406 573.054688 \"/>\n<path style=\"fill:none;stroke-width:1;stroke-linecap:butt;stroke-linejoin:miter;stroke:rgb(26.666667%,26.666667%,26.666667%);stroke-opacity:1;stroke-miterlimit:10;\" d=\"M 190.441406 395.390625 L 487.882812 494.3125 \"/>\n<path style=\"fill:none;stroke-width:1;stroke-linecap:butt;stroke-linejoin:miter;stroke:rgb(26.666667%,26.666667%,26.666667%);stroke-opacity:1;stroke-miterlimit:10;\" d=\"M 190.441406 395.390625 L 284.03125 580 \"/>\n<path style=\"fill:none;stroke-width:1;stroke-linecap:butt;stroke-linejoin:miter;stroke:rgb(26.666667%,26.666667%,26.666667%);stroke-opacity:1;stroke-miterlimit:10;\" d=\"M 190.441406 395.390625 L 67.558594 149 \"/>\n<path style=\"fill:none;stroke-width:1;stroke-linecap:butt;stroke-linejoin:miter;stroke:rgb(26.666667%,26.666667%,26.666667%);stroke-opacity:1;stroke-miterlimit:10;\" d=\"M 190.441406 395.390625 L 193.078125 567.5625 \"/>\n<path style=\"fill:none;stroke-width:1;stroke-linecap:butt;stroke-linejoin:miter;stroke:rgb(26.666667%,26.666667%,26.666667%);stroke-opacity:1;stroke-miterlimit:10;\" d=\"M 190.441406 395.390625 L 374.550781 428.730469 \"/>\n<path style=\"fill:none;stroke-width:1;stroke-linecap:butt;stroke-linejoin:miter;stroke:rgb(26.666667%,26.666667%,26.666667%);stroke-opacity:1;stroke-miterlimit:10;\" d=\"M 190.441406 395.390625 L 375.996094 74.679688 \"/>\n<path style=\"fill:none;stroke-width:1;stroke-linecap:butt;stroke-linejoin:miter;stroke:rgb(26.666667%,26.666667%,26.666667%);stroke-opacity:1;stroke-miterlimit:10;\" d=\"M 190.441406 395.390625 L 287.648438 287.0625 \"/>\n<path style=\"fill:none;stroke-width:1;stroke-linecap:butt;stroke-linejoin:miter;stroke:rgb(26.666667%,26.666667%,26.666667%);stroke-opacity:1;stroke-miterlimit:10;\" d=\"M 190.441406 395.390625 L 173.707031 20 \"/>\n<path style=\"fill:none;stroke-width:1;stroke-linecap:butt;stroke-linejoin:miter;stroke:rgb(26.666667%,26.666667%,26.666667%);stroke-opacity:1;stroke-miterlimit:10;\" d=\"M 85.667969 540.078125 L 376.941406 573.054688 \"/>\n<path style=\"fill:none;stroke-width:1;stroke-linecap:butt;stroke-linejoin:miter;stroke:rgb(26.666667%,26.666667%,26.666667%);stroke-opacity:1;stroke-miterlimit:10;\" d=\"M 85.667969 540.078125 L 285.28125 374.585938 \"/>\n<path style=\"fill:none;stroke-width:1;stroke-linecap:butt;stroke-linejoin:miter;stroke:rgb(26.666667%,26.666667%,26.666667%);stroke-opacity:1;stroke-miterlimit:10;\" d=\"M 85.667969 540.078125 L 284.03125 580 \"/>\n<path style=\"fill:none;stroke-width:1;stroke-linecap:butt;stroke-linejoin:miter;stroke:rgb(26.666667%,26.666667%,26.666667%);stroke-opacity:1;stroke-miterlimit:10;\" d=\"M 85.667969 540.078125 L 193.078125 567.5625 \"/>\n<path style=\"fill:none;stroke-width:1;stroke-linecap:butt;stroke-linejoin:miter;stroke:rgb(26.666667%,26.666667%,26.666667%);stroke-opacity:1;stroke-miterlimit:10;\" d=\"M 85.667969 540.078125 L 374.550781 428.730469 \"/>\n<path style=\"fill:none;stroke-width:1;stroke-linecap:butt;stroke-linejoin:miter;stroke:rgb(26.666667%,26.666667%,26.666667%);stroke-opacity:1;stroke-miterlimit:10;\" d=\"M 85.667969 540.078125 L 20 379.714844 \"/>\n<path style=\"fill:none;stroke-width:1;stroke-linecap:butt;stroke-linejoin:miter;stroke:rgb(26.666667%,26.666667%,26.666667%);stroke-opacity:1;stroke-miterlimit:10;\" d=\"M 488.863281 370.371094 L 376.941406 573.054688 \"/>\n<path style=\"fill:none;stroke-width:1;stroke-linecap:butt;stroke-linejoin:miter;stroke:rgb(26.666667%,26.666667%,26.666667%);stroke-opacity:1;stroke-miterlimit:10;\" d=\"M 488.863281 370.371094 L 487.882812 494.3125 \"/>\n<path style=\"fill:none;stroke-width:1;stroke-linecap:butt;stroke-linejoin:miter;stroke:rgb(26.666667%,26.666667%,26.666667%);stroke-opacity:1;stroke-miterlimit:10;\" d=\"M 488.863281 370.371094 L 285.28125 374.585938 \"/>\n<path style=\"fill:none;stroke-width:1;stroke-linecap:butt;stroke-linejoin:miter;stroke:rgb(26.666667%,26.666667%,26.666667%);stroke-opacity:1;stroke-miterlimit:10;\" d=\"M 488.863281 370.371094 L 284.03125 580 \"/>\n<path style=\"fill:none;stroke-width:1;stroke-linecap:butt;stroke-linejoin:miter;stroke:rgb(26.666667%,26.666667%,26.666667%);stroke-opacity:1;stroke-miterlimit:10;\" d=\"M 488.863281 370.371094 L 193.078125 567.5625 \"/>\n<path style=\"fill:none;stroke-width:1;stroke-linecap:butt;stroke-linejoin:miter;stroke:rgb(26.666667%,26.666667%,26.666667%);stroke-opacity:1;stroke-miterlimit:10;\" d=\"M 488.863281 370.371094 L 374.550781 428.730469 \"/>\n<path style=\"fill:none;stroke-width:1;stroke-linecap:butt;stroke-linejoin:miter;stroke:rgb(26.666667%,26.666667%,26.666667%);stroke-opacity:1;stroke-miterlimit:10;\" d=\"M 488.863281 370.371094 L 375.996094 74.679688 \"/>\n<path style=\"fill:none;stroke-width:1;stroke-linecap:butt;stroke-linejoin:miter;stroke:rgb(26.666667%,26.666667%,26.666667%);stroke-opacity:1;stroke-miterlimit:10;\" d=\"M 488.863281 370.371094 L 287.648438 287.0625 \"/>\n<path style=\"fill:none;stroke-width:1;stroke-linecap:butt;stroke-linejoin:miter;stroke:rgb(26.666667%,26.666667%,26.666667%);stroke-opacity:1;stroke-miterlimit:10;\" d=\"M 376.941406 573.054688 L 487.882812 494.3125 \"/>\n<path style=\"fill:none;stroke-width:1;stroke-linecap:butt;stroke-linejoin:miter;stroke:rgb(26.666667%,26.666667%,26.666667%);stroke-opacity:1;stroke-miterlimit:10;\" d=\"M 376.941406 573.054688 L 285.28125 374.585938 \"/>\n<path style=\"fill:none;stroke-width:1;stroke-linecap:butt;stroke-linejoin:miter;stroke:rgb(26.666667%,26.666667%,26.666667%);stroke-opacity:1;stroke-miterlimit:10;\" d=\"M 376.941406 573.054688 L 284.03125 580 \"/>\n<path style=\"fill:none;stroke-width:1;stroke-linecap:butt;stroke-linejoin:miter;stroke:rgb(26.666667%,26.666667%,26.666667%);stroke-opacity:1;stroke-miterlimit:10;\" d=\"M 376.941406 573.054688 L 193.078125 567.5625 \"/>\n<path style=\"fill:none;stroke-width:1;stroke-linecap:butt;stroke-linejoin:miter;stroke:rgb(26.666667%,26.666667%,26.666667%);stroke-opacity:1;stroke-miterlimit:10;\" d=\"M 376.941406 573.054688 L 374.550781 428.730469 \"/>\n<path style=\"fill:none;stroke-width:1;stroke-linecap:butt;stroke-linejoin:miter;stroke:rgb(26.666667%,26.666667%,26.666667%);stroke-opacity:1;stroke-miterlimit:10;\" d=\"M 376.941406 573.054688 L 123.871094 305.253906 \"/>\n<path style=\"fill:none;stroke-width:1;stroke-linecap:butt;stroke-linejoin:miter;stroke:rgb(26.666667%,26.666667%,26.666667%);stroke-opacity:1;stroke-miterlimit:10;\" d=\"M 487.882812 494.3125 L 285.28125 374.585938 \"/>\n<path style=\"fill:none;stroke-width:1;stroke-linecap:butt;stroke-linejoin:miter;stroke:rgb(26.666667%,26.666667%,26.666667%);stroke-opacity:1;stroke-miterlimit:10;\" d=\"M 487.882812 494.3125 L 284.03125 580 \"/>\n<path style=\"fill:none;stroke-width:1;stroke-linecap:butt;stroke-linejoin:miter;stroke:rgb(26.666667%,26.666667%,26.666667%);stroke-opacity:1;stroke-miterlimit:10;\" d=\"M 487.882812 494.3125 L 193.078125 567.5625 \"/>\n<path style=\"fill:none;stroke-width:1;stroke-linecap:butt;stroke-linejoin:miter;stroke:rgb(26.666667%,26.666667%,26.666667%);stroke-opacity:1;stroke-miterlimit:10;\" d=\"M 487.882812 494.3125 L 374.550781 428.730469 \"/>\n<path style=\"fill:none;stroke-width:1;stroke-linecap:butt;stroke-linejoin:miter;stroke:rgb(26.666667%,26.666667%,26.666667%);stroke-opacity:1;stroke-miterlimit:10;\" d=\"M 487.882812 494.3125 L 287.648438 287.0625 \"/>\n<path style=\"fill:none;stroke-width:1;stroke-linecap:butt;stroke-linejoin:miter;stroke:rgb(26.666667%,26.666667%,26.666667%);stroke-opacity:1;stroke-miterlimit:10;\" d=\"M 285.28125 374.585938 L 284.03125 580 \"/>\n<path style=\"fill:none;stroke-width:1;stroke-linecap:butt;stroke-linejoin:miter;stroke:rgb(26.666667%,26.666667%,26.666667%);stroke-opacity:1;stroke-miterlimit:10;\" d=\"M 285.28125 374.585938 L 67.558594 149 \"/>\n<path style=\"fill:none;stroke-width:1;stroke-linecap:butt;stroke-linejoin:miter;stroke:rgb(26.666667%,26.666667%,26.666667%);stroke-opacity:1;stroke-miterlimit:10;\" d=\"M 285.28125 374.585938 L 375.996094 74.679688 \"/>\n<path style=\"fill:none;stroke-width:1;stroke-linecap:butt;stroke-linejoin:miter;stroke:rgb(26.666667%,26.666667%,26.666667%);stroke-opacity:1;stroke-miterlimit:10;\" d=\"M 285.28125 374.585938 L 123.871094 305.253906 \"/>\n<path style=\"fill:none;stroke-width:1;stroke-linecap:butt;stroke-linejoin:miter;stroke:rgb(26.666667%,26.666667%,26.666667%);stroke-opacity:1;stroke-miterlimit:10;\" d=\"M 285.28125 374.585938 L 20 379.714844 \"/>\n<path style=\"fill:none;stroke-width:1;stroke-linecap:butt;stroke-linejoin:miter;stroke:rgb(26.666667%,26.666667%,26.666667%);stroke-opacity:1;stroke-miterlimit:10;\" d=\"M 284.03125 580 L 193.078125 567.5625 \"/>\n<path style=\"fill:none;stroke-width:1;stroke-linecap:butt;stroke-linejoin:miter;stroke:rgb(26.666667%,26.666667%,26.666667%);stroke-opacity:1;stroke-miterlimit:10;\" d=\"M 284.03125 580 L 374.550781 428.730469 \"/>\n<path style=\"fill:none;stroke-width:1;stroke-linecap:butt;stroke-linejoin:miter;stroke:rgb(26.666667%,26.666667%,26.666667%);stroke-opacity:1;stroke-miterlimit:10;\" d=\"M 284.03125 580 L 287.648438 287.0625 \"/>\n<path style=\"fill:none;stroke-width:1;stroke-linecap:butt;stroke-linejoin:miter;stroke:rgb(26.666667%,26.666667%,26.666667%);stroke-opacity:1;stroke-miterlimit:10;\" d=\"M 284.03125 580 L 123.871094 305.253906 \"/>\n<path style=\"fill:none;stroke-width:1;stroke-linecap:butt;stroke-linejoin:miter;stroke:rgb(26.666667%,26.666667%,26.666667%);stroke-opacity:1;stroke-miterlimit:10;\" d=\"M 284.03125 580 L 20 379.714844 \"/>\n<path style=\"fill:none;stroke-width:1;stroke-linecap:butt;stroke-linejoin:miter;stroke:rgb(26.666667%,26.666667%,26.666667%);stroke-opacity:1;stroke-miterlimit:10;\" d=\"M 67.558594 149 L 193.078125 567.5625 \"/>\n<path style=\"fill:none;stroke-width:1;stroke-linecap:butt;stroke-linejoin:miter;stroke:rgb(26.666667%,26.666667%,26.666667%);stroke-opacity:1;stroke-miterlimit:10;\" d=\"M 67.558594 149 L 375.996094 74.679688 \"/>\n<path style=\"fill:none;stroke-width:1;stroke-linecap:butt;stroke-linejoin:miter;stroke:rgb(26.666667%,26.666667%,26.666667%);stroke-opacity:1;stroke-miterlimit:10;\" d=\"M 67.558594 149 L 20 379.714844 \"/>\n<path style=\"fill:none;stroke-width:1;stroke-linecap:butt;stroke-linejoin:miter;stroke:rgb(26.666667%,26.666667%,26.666667%);stroke-opacity:1;stroke-miterlimit:10;\" d=\"M 193.078125 567.5625 L 374.550781 428.730469 \"/>\n<path style=\"fill:none;stroke-width:1;stroke-linecap:butt;stroke-linejoin:miter;stroke:rgb(26.666667%,26.666667%,26.666667%);stroke-opacity:1;stroke-miterlimit:10;\" d=\"M 193.078125 567.5625 L 287.648438 287.0625 \"/>\n<path style=\"fill:none;stroke-width:1;stroke-linecap:butt;stroke-linejoin:miter;stroke:rgb(26.666667%,26.666667%,26.666667%);stroke-opacity:1;stroke-miterlimit:10;\" d=\"M 193.078125 567.5625 L 123.871094 305.253906 \"/>\n<path style=\"fill:none;stroke-width:1;stroke-linecap:butt;stroke-linejoin:miter;stroke:rgb(26.666667%,26.666667%,26.666667%);stroke-opacity:1;stroke-miterlimit:10;\" d=\"M 374.550781 428.730469 L 375.996094 74.679688 \"/>\n<path style=\"fill:none;stroke-width:1;stroke-linecap:butt;stroke-linejoin:miter;stroke:rgb(26.666667%,26.666667%,26.666667%);stroke-opacity:1;stroke-miterlimit:10;\" d=\"M 374.550781 428.730469 L 287.648438 287.0625 \"/>\n<path style=\"fill:none;stroke-width:1;stroke-linecap:butt;stroke-linejoin:miter;stroke:rgb(26.666667%,26.666667%,26.666667%);stroke-opacity:1;stroke-miterlimit:10;\" d=\"M 374.550781 428.730469 L 173.707031 20 \"/>\n<path style=\"fill:none;stroke-width:1;stroke-linecap:butt;stroke-linejoin:miter;stroke:rgb(26.666667%,26.666667%,26.666667%);stroke-opacity:1;stroke-miterlimit:10;\" d=\"M 375.996094 74.679688 L 173.707031 20 \"/>\n<path style=\"fill:none;stroke-width:1;stroke-linecap:butt;stroke-linejoin:miter;stroke:rgb(26.666667%,26.666667%,26.666667%);stroke-opacity:1;stroke-miterlimit:10;\" d=\"M 375.996094 74.679688 L 123.871094 305.253906 \"/>\n<path style=\"fill:none;stroke-width:1;stroke-linecap:butt;stroke-linejoin:miter;stroke:rgb(26.666667%,26.666667%,26.666667%);stroke-opacity:1;stroke-miterlimit:10;\" d=\"M 287.648438 287.0625 L 173.707031 20 \"/>\n<path style=\"fill:none;stroke-width:1;stroke-linecap:butt;stroke-linejoin:miter;stroke:rgb(26.666667%,26.666667%,26.666667%);stroke-opacity:1;stroke-miterlimit:10;\" d=\"M 287.648438 287.0625 L 123.871094 305.253906 \"/>\n<path style=\"fill:none;stroke-width:1;stroke-linecap:butt;stroke-linejoin:miter;stroke:rgb(26.666667%,26.666667%,26.666667%);stroke-opacity:1;stroke-miterlimit:10;\" d=\"M 287.648438 287.0625 L 20 379.714844 \"/>\n<path style=\"fill:none;stroke-width:1;stroke-linecap:butt;stroke-linejoin:miter;stroke:rgb(26.666667%,26.666667%,26.666667%);stroke-opacity:1;stroke-miterlimit:10;\" d=\"M 173.707031 20 L 123.871094 305.253906 \"/>\n<path style=\"fill-rule:nonzero;fill:rgb(100%,0%,0%);fill-opacity:1;stroke-width:1;stroke-linecap:butt;stroke-linejoin:miter;stroke:rgb(0%,0%,0%);stroke-opacity:1;stroke-miterlimit:10;\" d=\"M 398.214844 174.144531 C 398.214844 179.667969 393.738281 184.144531 388.214844 184.144531 C 382.691406 184.144531 378.214844 179.667969 378.214844 174.144531 C 378.214844 168.621094 382.691406 164.144531 388.214844 164.144531 C 393.738281 164.144531 398.214844 168.621094 398.214844 174.144531 \"/>\n<path style=\"fill-rule:nonzero;fill:rgb(100%,0%,0%);fill-opacity:1;stroke-width:1;stroke-linecap:butt;stroke-linejoin:miter;stroke:rgb(0%,0%,0%);stroke-opacity:1;stroke-miterlimit:10;\" d=\"M 286.199219 88.621094 C 286.199219 94.144531 281.722656 98.621094 276.199219 98.621094 C 270.675781 98.621094 266.199219 94.144531 266.199219 88.621094 C 266.199219 83.097656 270.675781 78.621094 276.199219 78.621094 C 281.722656 78.621094 286.199219 83.097656 286.199219 88.621094 \"/>\n<path style=\"fill-rule:nonzero;fill:rgb(100%,0%,0%);fill-opacity:1;stroke-width:1;stroke-linecap:butt;stroke-linejoin:miter;stroke:rgb(0%,0%,0%);stroke-opacity:1;stroke-miterlimit:10;\" d=\"M 212.246094 221.773438 C 212.246094 227.296875 207.769531 231.773438 202.246094 231.773438 C 196.722656 231.773438 192.246094 227.296875 192.246094 221.773438 C 192.246094 216.253906 196.722656 211.773438 202.246094 211.773438 C 207.769531 211.773438 212.246094 216.253906 212.246094 221.773438 \"/>\n<path style=\"fill-rule:nonzero;fill:rgb(100%,0%,0%);fill-opacity:1;stroke-width:1;stroke-linecap:butt;stroke-linejoin:miter;stroke:rgb(0%,0%,0%);stroke-opacity:1;stroke-miterlimit:10;\" d=\"M 448.800781 283.453125 C 448.800781 288.976562 444.324219 293.453125 438.800781 293.453125 C 433.277344 293.453125 428.800781 288.976562 428.800781 283.453125 C 428.800781 277.929688 433.277344 273.453125 438.800781 273.453125 C 444.324219 273.453125 448.800781 277.929688 448.800781 283.453125 \"/>\n<path style=\"fill-rule:nonzero;fill:rgb(100%,0%,0%);fill-opacity:1;stroke-width:1;stroke-linecap:butt;stroke-linejoin:miter;stroke:rgb(0%,0%,0%);stroke-opacity:1;stroke-miterlimit:10;\" d=\"M 590 265.285156 C 590 270.804688 585.523438 275.285156 580 275.285156 C 574.476562 275.285156 570 270.804688 570 265.285156 C 570 259.761719 574.476562 255.285156 580 255.285156 C 585.523438 255.285156 590 259.761719 590 265.285156 \"/>\n<path style=\"fill-rule:nonzero;fill:rgb(100%,0%,0%);fill-opacity:1;stroke-width:1;stroke-linecap:butt;stroke-linejoin:miter;stroke:rgb(0%,0%,0%);stroke-opacity:1;stroke-miterlimit:10;\" d=\"M 200.441406 395.390625 C 200.441406 400.914062 195.964844 405.390625 190.441406 405.390625 C 184.917969 405.390625 180.441406 400.914062 180.441406 395.390625 C 180.441406 389.867188 184.917969 385.390625 190.441406 385.390625 C 195.964844 385.390625 200.441406 389.867188 200.441406 395.390625 \"/>\n<path style=\"fill-rule:nonzero;fill:rgb(100%,0%,0%);fill-opacity:1;stroke-width:1;stroke-linecap:butt;stroke-linejoin:miter;stroke:rgb(0%,0%,0%);stroke-opacity:1;stroke-miterlimit:10;\" d=\"M 95.667969 540.078125 C 95.667969 545.601562 91.191406 550.078125 85.667969 550.078125 C 80.144531 550.078125 75.667969 545.601562 75.667969 540.078125 C 75.667969 534.558594 80.144531 530.078125 85.667969 530.078125 C 91.191406 530.078125 95.667969 534.558594 95.667969 540.078125 \"/>\n<path style=\"fill-rule:nonzero;fill:rgb(100%,0%,0%);fill-opacity:1;stroke-width:1;stroke-linecap:butt;stroke-linejoin:miter;stroke:rgb(0%,0%,0%);stroke-opacity:1;stroke-miterlimit:10;\" d=\"M 498.863281 370.371094 C 498.863281 375.894531 494.386719 380.371094 488.863281 380.371094 C 483.339844 380.371094 478.863281 375.894531 478.863281 370.371094 C 478.863281 364.847656 483.339844 360.371094 488.863281 360.371094 C 494.386719 360.371094 498.863281 364.847656 498.863281 370.371094 \"/>\n<path style=\"fill-rule:nonzero;fill:rgb(100%,0%,0%);fill-opacity:1;stroke-width:1;stroke-linecap:butt;stroke-linejoin:miter;stroke:rgb(0%,0%,0%);stroke-opacity:1;stroke-miterlimit:10;\" d=\"M 386.941406 573.054688 C 386.941406 578.578125 382.464844 583.054688 376.941406 583.054688 C 371.417969 583.054688 366.941406 578.578125 366.941406 573.054688 C 366.941406 567.53125 371.417969 563.054688 376.941406 563.054688 C 382.464844 563.054688 386.941406 567.53125 386.941406 573.054688 \"/>\n<path style=\"fill-rule:nonzero;fill:rgb(100%,0%,0%);fill-opacity:1;stroke-width:1;stroke-linecap:butt;stroke-linejoin:miter;stroke:rgb(0%,0%,0%);stroke-opacity:1;stroke-miterlimit:10;\" d=\"M 497.882812 494.3125 C 497.882812 499.835938 493.402344 504.3125 487.882812 504.3125 C 482.359375 504.3125 477.882812 499.835938 477.882812 494.3125 C 477.882812 488.789062 482.359375 484.3125 487.882812 484.3125 C 493.402344 484.3125 497.882812 488.789062 497.882812 494.3125 \"/>\n<path style=\"fill-rule:nonzero;fill:rgb(100%,0%,0%);fill-opacity:1;stroke-width:1;stroke-linecap:butt;stroke-linejoin:miter;stroke:rgb(0%,0%,0%);stroke-opacity:1;stroke-miterlimit:10;\" d=\"M 295.28125 374.585938 C 295.28125 380.109375 290.804688 384.585938 285.28125 384.585938 C 279.757812 384.585938 275.28125 380.109375 275.28125 374.585938 C 275.28125 369.0625 279.757812 364.585938 285.28125 364.585938 C 290.804688 364.585938 295.28125 369.0625 295.28125 374.585938 \"/>\n<path style=\"fill-rule:nonzero;fill:rgb(100%,0%,0%);fill-opacity:1;stroke-width:1;stroke-linecap:butt;stroke-linejoin:miter;stroke:rgb(0%,0%,0%);stroke-opacity:1;stroke-miterlimit:10;\" d=\"M 294.03125 580 C 294.03125 585.523438 289.550781 590 284.03125 590 C 278.507812 590 274.03125 585.523438 274.03125 580 C 274.03125 574.476562 278.507812 570 284.03125 570 C 289.550781 570 294.03125 574.476562 294.03125 580 \"/>\n<path style=\"fill-rule:nonzero;fill:rgb(100%,0%,0%);fill-opacity:1;stroke-width:1;stroke-linecap:butt;stroke-linejoin:miter;stroke:rgb(0%,0%,0%);stroke-opacity:1;stroke-miterlimit:10;\" d=\"M 77.558594 149 C 77.558594 154.523438 73.082031 159 67.558594 159 C 62.039062 159 57.558594 154.523438 57.558594 149 C 57.558594 143.476562 62.039062 139 67.558594 139 C 73.082031 139 77.558594 143.476562 77.558594 149 \"/>\n<path style=\"fill-rule:nonzero;fill:rgb(100%,0%,0%);fill-opacity:1;stroke-width:1;stroke-linecap:butt;stroke-linejoin:miter;stroke:rgb(0%,0%,0%);stroke-opacity:1;stroke-miterlimit:10;\" d=\"M 203.078125 567.5625 C 203.078125 573.085938 198.601562 577.5625 193.078125 577.5625 C 187.554688 577.5625 183.078125 573.085938 183.078125 567.5625 C 183.078125 562.039062 187.554688 557.5625 193.078125 557.5625 C 198.601562 557.5625 203.078125 562.039062 203.078125 567.5625 \"/>\n<path style=\"fill-rule:nonzero;fill:rgb(100%,0%,0%);fill-opacity:1;stroke-width:1;stroke-linecap:butt;stroke-linejoin:miter;stroke:rgb(0%,0%,0%);stroke-opacity:1;stroke-miterlimit:10;\" d=\"M 384.550781 428.730469 C 384.550781 434.253906 380.074219 438.730469 374.550781 438.730469 C 369.027344 438.730469 364.550781 434.253906 364.550781 428.730469 C 364.550781 423.210938 369.027344 418.730469 374.550781 418.730469 C 380.074219 418.730469 384.550781 423.210938 384.550781 428.730469 \"/>\n<path style=\"fill-rule:nonzero;fill:rgb(100%,0%,0%);fill-opacity:1;stroke-width:1;stroke-linecap:butt;stroke-linejoin:miter;stroke:rgb(0%,0%,0%);stroke-opacity:1;stroke-miterlimit:10;\" d=\"M 385.996094 74.679688 C 385.996094 80.203125 381.519531 84.679688 375.996094 84.679688 C 370.472656 84.679688 365.996094 80.203125 365.996094 74.679688 C 365.996094 69.15625 370.472656 64.679688 375.996094 64.679688 C 381.519531 64.679688 385.996094 69.15625 385.996094 74.679688 \"/>\n<path style=\"fill-rule:nonzero;fill:rgb(100%,0%,0%);fill-opacity:1;stroke-width:1;stroke-linecap:butt;stroke-linejoin:miter;stroke:rgb(0%,0%,0%);stroke-opacity:1;stroke-miterlimit:10;\" d=\"M 297.648438 287.0625 C 297.648438 292.585938 293.167969 297.0625 287.648438 297.0625 C 282.125 297.0625 277.648438 292.585938 277.648438 287.0625 C 277.648438 281.542969 282.125 277.0625 287.648438 277.0625 C 293.167969 277.0625 297.648438 281.542969 297.648438 287.0625 \"/>\n<path style=\"fill-rule:nonzero;fill:rgb(100%,0%,0%);fill-opacity:1;stroke-width:1;stroke-linecap:butt;stroke-linejoin:miter;stroke:rgb(0%,0%,0%);stroke-opacity:1;stroke-miterlimit:10;\" d=\"M 183.707031 20 C 183.707031 25.523438 179.230469 30 173.707031 30 C 168.1875 30 163.707031 25.523438 163.707031 20 C 163.707031 14.476562 168.1875 10 173.707031 10 C 179.230469 10 183.707031 14.476562 183.707031 20 \"/>\n<path style=\"fill-rule:nonzero;fill:rgb(100%,0%,0%);fill-opacity:1;stroke-width:1;stroke-linecap:butt;stroke-linejoin:miter;stroke:rgb(0%,0%,0%);stroke-opacity:1;stroke-miterlimit:10;\" d=\"M 133.871094 305.253906 C 133.871094 310.773438 129.394531 315.253906 123.871094 315.253906 C 118.347656 315.253906 113.871094 310.773438 113.871094 305.253906 C 113.871094 299.730469 118.347656 295.253906 123.871094 295.253906 C 129.394531 295.253906 133.871094 299.730469 133.871094 305.253906 \"/>\n<path style=\"fill-rule:nonzero;fill:rgb(100%,0%,0%);fill-opacity:1;stroke-width:1;stroke-linecap:butt;stroke-linejoin:miter;stroke:rgb(0%,0%,0%);stroke-opacity:1;stroke-miterlimit:10;\" d=\"M 30 379.714844 C 30 385.238281 25.523438 389.714844 20 389.714844 C 14.476562 389.714844 10 385.238281 10 379.714844 C 10 374.191406 14.476562 369.714844 20 369.714844 C 25.523438 369.714844 30 374.191406 30 379.714844 \"/>\n</g>\n</svg>\n",
      "text/plain": [
       "<igraph.drawing.Plot at 0x7f49950416a0>"
      ]
     },
     "execution_count": 45,
     "metadata": {
      "image/svg+xml": {
       "isolated": true
      }
     },
     "output_type": "execute_result"
    }
   ],
   "source": [
    "## Random Seed \n",
    "SEED = np.random.seed(42)\n",
    "## variables \n",
    "N = 20\n",
    "PROBABILITY = round(np.random.uniform(0,1), 2)\n",
    "## instantiate\n",
    "graph = ErdosRenyiGraph(N, PROBABILITY)\n",
    "## call the constructor \n",
    "graph._build_graph()\n",
    "## visualize \n",
    "graph._plot_graph()"
   ]
  },
  {
   "cell_type": "code",
   "execution_count": 24,
   "metadata": {},
   "outputs": [
    {
     "data": {
      "image/png": "[encoded data removed]",
      "text/plain": [
       "<Figure size 432x288 with 1 Axes>"
      ]
     },
     "metadata": {
      "needs_background": "light"
     },
     "output_type": "display_data"
    }
   ],
   "source": [
    "\n",
    "g = sns.histplot(graph.degrees, kde=True)\n",
    "plt.show()\n",
    "#plt.hist(sorted(graph.degrees),bins=8)"
   ]
  },
  {
   "cell_type": "code",
   "execution_count": 124,
   "metadata": {},
   "outputs": [
    {
     "name": "stdout",
     "output_type": "stream",
     "text": [
      "[(0, [1, 2, 3, 4, 5, 7, 8, 10, 11, 12, 14]), (1, [3, 6, 7, 8, 17]), (2, [3, 4, 6, 7, 9, 10, 13, 14, 17, 18, 19]), (3, [5, 6, 9, 10, 11, 12, 14, 15, 18]), (4, [9, 10, 11, 12, 13, 15, 16, 17, 18]), (5, [8, 9, 11, 12]), (6, [8, 10, 11, 12, 14, 15, 16, 17]), (7, [8, 9, 10, 11, 13, 16, 17]), (8, [9, 11, 13, 14, 19]), (9, [11, 13, 14, 15, 16, 17, 19]), (10, [11, 12, 14, 15, 18, 19]), (11, [12, 14, 18, 19]), (12, [13, 15, 16, 17, 18, 19]), (13, [14, 16, 17, 19]), (14, [15, 16, 17, 18]), (15, [16, 17]), (16, [17, 18, 19]), (17, [18, 19])]\n",
      "It took 0.0007574558258056641 seconds\n",
      "[11, 5, 11, 9, 9, 4, 8, 7, 5, 7, 6, 4, 6, 4, 4, 2, 3, 2]\n",
      "It took 0.00014472007751464844 seconds\n",
      "[11, 5, 11, 9, 9, 4, 8, 7, 5, 7, 6, 4, 6, 4, 4, 2, 3, 2]\n",
      "It took 8.440017700195312e-05 seconds\n"
     ]
    }
   ],
   "source": [
    "#Haciendo con un loop\n",
    "tic = time.time()\n",
    "l = []\n",
    "for x,y in d.items():\n",
    "    l.append((x,y))\n",
    "print(l)\n",
    "toc = time.time()\n",
    "print(f\"It took {toc-tic} seconds\")\n",
    "\n",
    "#Haciendo con comprension de lista\n",
    "tic = time.time()\n",
    "s = [len(x) for _,x in d.items()]\n",
    "print(s)\n",
    "toc = time.time()\n",
    "print(f\"It took {toc-tic} seconds\")\n",
    "\n",
    "#Haciendo con map\n",
    "tic = time.time()\n",
    "t = list(map(len,d.values()))\n",
    "print(t)\n",
    "toc = time.time()\n",
    "print(f\"It took {toc-tic} seconds\")"
   ]
  },
  {
   "cell_type": "code",
   "execution_count": 1,
   "metadata": {},
   "outputs": [
    {
     "ename": "NameError",
     "evalue": "name 'np' is not defined",
     "output_type": "error",
     "traceback": [
      "\u001b[0;31m---------------------------------------------------------------------------\u001b[0m",
      "\u001b[0;31mNameError\u001b[0m                                 Traceback (most recent call last)",
      "\u001b[0;32m/tmp/ipykernel_10973/567600038.py\u001b[0m in \u001b[0;36m<module>\u001b[0;34m\u001b[0m\n\u001b[1;32m      1\u001b[0m \u001b[0;31m## we set a seed\u001b[0m\u001b[0;34m\u001b[0m\u001b[0;34m\u001b[0m\u001b[0m\n\u001b[0;32m----> 2\u001b[0;31m \u001b[0;32mdef\u001b[0m \u001b[0mdeterministic\u001b[0m\u001b[0;34m(\u001b[0m\u001b[0mseed\u001b[0m\u001b[0;34m=\u001b[0m\u001b[0mint\u001b[0m\u001b[0;34m)\u001b[0m \u001b[0;34m->\u001b[0m \u001b[0mnp\u001b[0m\u001b[0;34m.\u001b[0m\u001b[0mrandom\u001b[0m\u001b[0;34m.\u001b[0m\u001b[0mseed\u001b[0m\u001b[0;34m:\u001b[0m\u001b[0;34m\u001b[0m\u001b[0;34m\u001b[0m\u001b[0m\n\u001b[0m\u001b[1;32m      3\u001b[0m     \u001b[0;32mreturn\u001b[0m \u001b[0mnp\u001b[0m\u001b[0;34m.\u001b[0m\u001b[0mrandom\u001b[0m\u001b[0;34m.\u001b[0m\u001b[0mseed\u001b[0m\u001b[0;34m(\u001b[0m\u001b[0mseed\u001b[0m\u001b[0;34m)\u001b[0m\u001b[0;34m\u001b[0m\u001b[0;34m\u001b[0m\u001b[0m\n\u001b[1;32m      4\u001b[0m \u001b[0mSEED\u001b[0m \u001b[0;34m=\u001b[0m \u001b[0mdeterministic\u001b[0m\u001b[0;34m(\u001b[0m\u001b[0;36m42\u001b[0m\u001b[0;34m)\u001b[0m\u001b[0;34m\u001b[0m\u001b[0;34m\u001b[0m\u001b[0m\n\u001b[1;32m      5\u001b[0m \u001b[0;31m## instantiate an empty graph\u001b[0m\u001b[0;34m\u001b[0m\u001b[0;34m\u001b[0m\u001b[0m\n",
      "\u001b[0;31mNameError\u001b[0m: name 'np' is not defined"
     ]
    }
   ],
   "source": [
    "\n",
    "## we set a seed \n",
    "def deterministic(seed=int) -> np.random.seed:\n",
    "    return np.random.seed(seed)\n",
    "SEED = deterministic(42)\n",
    "## instantiate an empty graph \n",
    "\n",
    "## number of nodes\n",
    "N = 5\n",
    "## number of edges \n",
    "M = 10\n",
    "## get a random probability \n",
    "link_exist = 0.5 > np.random.uniform(0,1)\n",
    "#print(link_exist)\n",
    "## \n",
    "from typing import List\n",
    "def generate_random_graph(number_of_nodes:int, probability:float) -> defaultdict(List[int]):\n",
    "    \"\"\"generates a random graph\"\"\"    \n",
    "    ## instantiate a random graph \n",
    "    g = defaultdict(list)\n",
    "    ## iterate through the number of nodes \n",
    "    for nodes in range(0,number_of_nodes):\n",
    "        ## iterate through the possible connections (Node to Node)\n",
    "        for edges in range(0,number_of_nodes):\n",
    "            ## define whether a link exists\n",
    "            if nodes < edges: \n",
    "                link_exist = np.random.uniform(0,1) > probability\n",
    "                ## if it exists we append a connection to node_i \n",
    "                if link_exist: \n",
    "                    g[nodes].append(edges)\n",
    "    return g\n",
    "\n",
    "def make_graph(graph:defaultdict(List[int])) -> igraph.Graph:\n",
    "    \"\"\"Convert a dictionary into an igraph.Graph\"\"\"\n",
    "    ## first we need to get the (nodes, edges) pairs \n",
    "    edges = [(node, edge) for node in graph.keys() for edge in graph[node]]\n",
    "    ## build the igraph.Graph \n",
    "    graph = igraph.Graph(edges=edges)\n",
    "    return graph \n"
   ]
  },
  {
   "cell_type": "markdown",
   "metadata": {},
   "source": [
    "## 2. Watts-Strogatz (WS) small-world model\n",
    "WS: different values of <k> and \"p\", including p=0, e.g. p=0.0, 0.1, 0.2, 0.5, 0.9, 1.0, and <k>=2, 4, 6"
   ]
  },
  {
   "cell_type": "code",
   "execution_count": null,
   "metadata": {},
   "outputs": [],
   "source": []
  },
  {
   "cell_type": "markdown",
   "metadata": {},
   "source": [
    "## 3. Barabási & Albert (BA) preferential attachment model\n",
    "BA: different values of \"m\" (number of edges that each new nodes forms with the existing nodes), e.g. m=1, 2, 5"
   ]
  },
  {
   "cell_type": "code",
   "execution_count": null,
   "metadata": {},
   "outputs": [],
   "source": []
  },
  {
   "cell_type": "markdown",
   "metadata": {},
   "source": [
    "## 4. Configuration Model (CM)\n",
    "\n",
    "CM: different degree distributions: Poisson (ER), e.g. <k>=2, 4; power-law (SF) with different exponents, e.g. gamma=2.2, 2.7, 3.5\n",
    "\n"
   ]
  },
  {
   "cell_type": "code",
   "execution_count": null,
   "metadata": {},
   "outputs": [],
   "source": [
    "## 2."
   ]
  }
 ],
 "metadata": {
  "interpreter": {
   "hash": "4074c6767ec73ea69747b656614144d24721785b8df68decaa3fba3b2e9c6c00"
  },
  "kernelspec": {
   "display_name": "Python 3.9.7 ('base')",
   "language": "python",
   "name": "python3"
  },
  "language_info": {
   "codemirror_mode": {
    "name": "ipython",
    "version": 3
   },
   "file_extension": ".py",
   "mimetype": "text/x-python",
   "name": "python",
   "nbconvert_exporter": "python",
   "pygments_lexer": "ipython3",
   "version": "3.9.7"
  },
  "orig_nbformat": 4
 },
 "nbformat": 4,
 "nbformat_minor": 2
}

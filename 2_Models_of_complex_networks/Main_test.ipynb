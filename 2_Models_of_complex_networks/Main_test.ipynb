{
 "cells": [
  {
   "cell_type": "markdown",
   "metadata": {},
   "source": [
    "# A2. Models of complex networks\n",
    "\n",
    "### Implementation of models of complex networks.\n",
    "Implement generators of complex networks for, at least, two of the following models of complex networks (sorted by increasing difficulty), which must include at least one of the two last ones (BA or CM):\n",
    "\n",
    "- Erdös-Rényi (ER) networks, either G(N,K) or G(N,p)\n",
    "\n",
    "- Watts-Strogatz (WS) small-world model\n",
    "\n",
    "- Barabási & Albert (BA) preferential attachment model\n",
    "\n",
    "- Configuration Model (CM)"
   ]
  },
  {
   "cell_type": "code",
   "execution_count": 4,
   "metadata": {},
   "outputs": [
    {
     "name": "stdout",
     "output_type": "stream",
     "text": [
      "Note: you may need to restart the kernel to use updated packages.\n"
     ]
    }
   ],
   "source": [
    "%pip install igraph -q"
   ]
  },
  {
   "cell_type": "code",
   "execution_count": 25,
   "metadata": {},
   "outputs": [],
   "source": [
    "#Libraries\n",
    "import igraph\n",
    "import matplotlib.pyplot as plt\n",
    "import time \n",
    "from collections import defaultdict\n",
    "import numpy as np \n",
    "from typing import List\n",
    "import seaborn as sns \n"
   ]
  },
  {
   "cell_type": "code",
   "execution_count": 2,
   "metadata": {},
   "outputs": [],
   "source": [
    "#Variables\n",
    "N = 50 \n",
    "#N = 100\n",
    "#N = 1000\n",
    "P = 0.003\n",
    "K =  3"
   ]
  },
  {
   "cell_type": "markdown",
   "metadata": {},
   "source": [
    "## 1. Erdös-Rényi (ER) networks, either G(N,K) or G(N,p)\n",
    "ER: different values of \"K\" for G(N,K), or of \"p\" for G(N,p), such that e.g. k=3, 6, 10"
   ]
  },
  {
   "cell_type": "code",
   "execution_count": 44,
   "metadata": {},
   "outputs": [],
   "source": [
    "\n",
    "#Erdos-Rènyi (ER) networks G(N,p)\n",
    "class ErdosRenyiGraph: \n",
    "    \"\"\"\n",
    "    Function which implements a random Erdös-Rényi (ER) Graph with the given parameters\n",
    "    \n",
    "    PARAMS: \n",
    "    -------\n",
    "    number_of_nodes : the total number of nodes in the graph \n",
    "    \n",
    "    number_of_edges : total number of edges??\n",
    "    \n",
    "    degrees : degrees (k)\n",
    "    \n",
    "    probabilities : the probability that will be assigned to each new node \n",
    "    \n",
    "    RETRUNS:\n",
    "    --------\n",
    "    \n",
    "    ER_graph : A randomly generated Erdös-Rényi Graph with the defined parameters above. \n",
    "    \n",
    "    \"\"\"\n",
    "\n",
    "    ## class for the randomly generated graphs like ER\n",
    "    def __init__(self, number_of_nodes:int = 5, probabilities:float = 0.2):\n",
    "        self.nodes = number_of_nodes\n",
    "        self.probas = probabilities\n",
    "        self.graph = self._start_network()\n",
    "        self.edges = self._get_edges()\n",
    "        self.igraph = igraph.Graph(edges=self.edges)\n",
    "        self.degrees = self._calculate_degrees()\n",
    "\n",
    "    \n",
    "    def _plot_graph(self):\n",
    "        return igraph.plot(self.igraph) \n",
    "    \n",
    "    def _get_edges(self):\n",
    "        return [(node, edge) for node in self.graph.keys() for edge in self.graph[node]]\n",
    "\n",
    "    def _start_network(self):\n",
    "        g = defaultdict(list)\n",
    "        ## iterate through the number of nodes \n",
    "        for nodes in range(0,self.nodes):\n",
    "            ## iterate through the possible connections (Node to Node)\n",
    "            for edges in range(0,self.nodes):\n",
    "                ## define whether a link exists\n",
    "                if nodes < edges: \n",
    "                    link_exist = np.random.uniform(0,1) > self.probas\n",
    "                    ## if it exists we append a connection to node_i \n",
    "                    if link_exist: \n",
    "                        g[nodes].append(edges)\n",
    "        return g\n",
    "\n",
    "    def _build_graph(self):\n",
    "        ## start the network \n",
    "        self._start_network()\n",
    "        print(f\"Build the graph with {self.nodes} and {len(self.edges)} edges with a probability of {self.probas} and assigned the iGraph variable\")\n",
    "\n",
    "    ## calculate descriptors \n",
    "    # Degrees, Power Law Distribution\n",
    "    def _calculate_degrees(self):\n",
    "        return list(map(len,self.graph.values()))\n",
    "\n",
    "    # theoretical graph\n",
    "    def _plot_theoretical(self, graph):\n",
    "        pass \n",
    "    # experimental graph \n",
    "    def _plot_experimental(self, graph):\n",
    "        pass"
   ]
  },
  {
   "cell_type": "code",
   "metadata": {},
   "outputs": [
    {
     "name": "stdout",
     "output_type": "stream",
     "text": [
      "[1, 4, 9, 16]\n",
      "[7, 8, 9, 99, 999]\n"
     ]
    }
   ],
   "source": [
    "\n",
    "## apply a function quickly \n",
    "f = lambda x: x**2\n",
    "l = [1,2,3,4]\n",
    "k = list(map(f,l))\n",
    "print(k)\n",
    "\n",
    "\n",
    "## Filter a list of values or array quickly\n",
    "f = lambda x: x > 5\n",
    "l = [7,8,9,99,999,1,1,1,1,2]\n",
    "k = list(filter(f, l))\n",
    "print(k)"
   ]
  },
  {
   "cell_type": "code",

   "metadata": {},
   "outputs": [
    {
     "name": "stdout",
     "output_type": "stream",
     "text": [
      "Build the graph with 20 and 105 edges with a probability of 0.37 and assigned the iGraph variable\n"
     ]
    },
    {
     "data": {
     "metadata": {
      "image/svg+xml": {
       "isolated": true
      }
     },
     "output_type": "execute_result"
    }
   ],
   "source": [
    "## Random Seed \n",
    "SEED = np.random.seed(42)\n",
    "## variables \n",
    "N = 20\n",
    "PROBABILITY = round(np.random.uniform(0,1), 2)\n",
    "## instantiate\n",
    "graph = ErdosRenyiGraph(N, PROBABILITY)\n",
    "## call the constructor \n",
    "graph._build_graph()\n",
    "## visualize \n",
    "graph._plot_graph()"
   ]
  },
  {
   "cell_type": "code",

   "source": [
    "\n",
    "g = sns.histplot(graph.degrees, kde=True)\n",
    "plt.show()\n",
    "#plt.hist(sorted(graph.degrees),bins=8)"
   ]
  },
  {
   "cell_type": "code",
   "execution_count": 124,
   "metadata": {},
   "outputs": [
    {
     "name": "stdout",
     "output_type": "stream",
     "text": [
      "[(0, [1, 2, 3, 4, 5, 7, 8, 10, 11, 12, 14]), (1, [3, 6, 7, 8, 17]), (2, [3, 4, 6, 7, 9, 10, 13, 14, 17, 18, 19]), (3, [5, 6, 9, 10, 11, 12, 14, 15, 18]), (4, [9, 10, 11, 12, 13, 15, 16, 17, 18]), (5, [8, 9, 11, 12]), (6, [8, 10, 11, 12, 14, 15, 16, 17]), (7, [8, 9, 10, 11, 13, 16, 17]), (8, [9, 11, 13, 14, 19]), (9, [11, 13, 14, 15, 16, 17, 19]), (10, [11, 12, 14, 15, 18, 19]), (11, [12, 14, 18, 19]), (12, [13, 15, 16, 17, 18, 19]), (13, [14, 16, 17, 19]), (14, [15, 16, 17, 18]), (15, [16, 17]), (16, [17, 18, 19]), (17, [18, 19])]\n",
      "It took 0.0007574558258056641 seconds\n",
      "[11, 5, 11, 9, 9, 4, 8, 7, 5, 7, 6, 4, 6, 4, 4, 2, 3, 2]\n",
      "It took 0.00014472007751464844 seconds\n",
      "[11, 5, 11, 9, 9, 4, 8, 7, 5, 7, 6, 4, 6, 4, 4, 2, 3, 2]\n",
      "It took 8.440017700195312e-05 seconds\n"
     ]
    }
   ],
   "source": [
    "#Haciendo con un loop\n",
    "tic = time.time()\n",
    "l = []\n",
    "for x,y in d.items():\n",
    "    l.append((x,y))\n",
    "print(l)\n",
    "toc = time.time()\n",
    "print(f\"It took {toc-tic} seconds\")\n",
    "\n",
    "#Haciendo con comprension de lista\n",
    "tic = time.time()\n",
    "s = [len(x) for _,x in d.items()]\n",
    "print(s)\n",
    "toc = time.time()\n",
    "print(f\"It took {toc-tic} seconds\")\n",
    "\n",
    "#Haciendo con map\n",
    "tic = time.time()\n",
    "t = list(map(len,d.values()))\n",
    "print(t)\n",
    "toc = time.time()\n",
    "print(f\"It took {toc-tic} seconds\")"
   ]
  },
  {
   "cell_type": "code",
   "execution_count": 1,
   "metadata": {},
   "outputs": [
    {
     "ename": "NameError",
     "evalue": "name 'np' is not defined",
     "output_type": "error",
     "traceback": [
      "\u001b[0;31m---------------------------------------------------------------------------\u001b[0m",
      "\u001b[0;31mNameError\u001b[0m                                 Traceback (most recent call last)",
      "\u001b[0;32m/tmp/ipykernel_10973/567600038.py\u001b[0m in \u001b[0;36m<module>\u001b[0;34m\u001b[0m\n\u001b[1;32m      1\u001b[0m \u001b[0;31m## we set a seed\u001b[0m\u001b[0;34m\u001b[0m\u001b[0;34m\u001b[0m\u001b[0m\n\u001b[0;32m----> 2\u001b[0;31m \u001b[0;32mdef\u001b[0m \u001b[0mdeterministic\u001b[0m\u001b[0;34m(\u001b[0m\u001b[0mseed\u001b[0m\u001b[0;34m=\u001b[0m\u001b[0mint\u001b[0m\u001b[0;34m)\u001b[0m \u001b[0;34m->\u001b[0m \u001b[0mnp\u001b[0m\u001b[0;34m.\u001b[0m\u001b[0mrandom\u001b[0m\u001b[0;34m.\u001b[0m\u001b[0mseed\u001b[0m\u001b[0;34m:\u001b[0m\u001b[0;34m\u001b[0m\u001b[0;34m\u001b[0m\u001b[0m\n\u001b[0m\u001b[1;32m      3\u001b[0m     \u001b[0;32mreturn\u001b[0m \u001b[0mnp\u001b[0m\u001b[0;34m.\u001b[0m\u001b[0mrandom\u001b[0m\u001b[0;34m.\u001b[0m\u001b[0mseed\u001b[0m\u001b[0;34m(\u001b[0m\u001b[0mseed\u001b[0m\u001b[0;34m)\u001b[0m\u001b[0;34m\u001b[0m\u001b[0;34m\u001b[0m\u001b[0m\n\u001b[1;32m      4\u001b[0m \u001b[0mSEED\u001b[0m \u001b[0;34m=\u001b[0m \u001b[0mdeterministic\u001b[0m\u001b[0;34m(\u001b[0m\u001b[0;36m42\u001b[0m\u001b[0;34m)\u001b[0m\u001b[0;34m\u001b[0m\u001b[0;34m\u001b[0m\u001b[0m\n\u001b[1;32m      5\u001b[0m \u001b[0;31m## instantiate an empty graph\u001b[0m\u001b[0;34m\u001b[0m\u001b[0;34m\u001b[0m\u001b[0m\n",
      "\u001b[0;31mNameError\u001b[0m: name 'np' is not defined"
     ]
    }
   ],
   "source": [
    "\n",
    "## we set a seed \n",
    "def deterministic(seed=int) -> np.random.seed:\n",
    "    return np.random.seed(seed)\n",
    "SEED = deterministic(42)\n",
    "## instantiate an empty graph \n",
    "\n",
    "## number of nodes\n",
    "N = 5\n",
    "## number of edges \n",
    "M = 10\n",
    "## get a random probability \n",
    "link_exist = 0.5 > np.random.uniform(0,1)\n",
    "#print(link_exist)\n",
    "## \n",
    "from typing import List\n",
    "def generate_random_graph(number_of_nodes:int, probability:float) -> defaultdict(List[int]):\n",
    "    \"\"\"generates a random graph\"\"\"    \n",
    "    ## instantiate a random graph \n",
    "    g = defaultdict(list)\n",
    "    ## iterate through the number of nodes \n",
    "    for nodes in range(0,number_of_nodes):\n",
    "        ## iterate through the possible connections (Node to Node)\n",
    "        for edges in range(0,number_of_nodes):\n",
    "            ## define whether a link exists\n",
    "            if nodes < edges: \n",
    "                link_exist = np.random.uniform(0,1) > probability\n",
    "                ## if it exists we append a connection to node_i \n",
    "                if link_exist: \n",
    "                    g[nodes].append(edges)\n",
    "    return g\n",
    "\n",
    "def make_graph(graph:defaultdict(List[int])) -> igraph.Graph:\n",
    "    \"\"\"Convert a dictionary into an igraph.Graph\"\"\"\n",
    "    ## first we need to get the (nodes, edges) pairs \n",
    "    edges = [(node, edge) for node in graph.keys() for edge in graph[node]]\n",
    "    ## build the igraph.Graph \n",
    "    graph = igraph.Graph(edges=edges)\n",
    "    return graph \n"
   ]
  },
  {
   "cell_type": "markdown",
   "metadata": {},
   "source": [
    "## 2. Watts-Strogatz (WS) small-world model\n",
    "WS: different values of <k> and \"p\", including p=0, e.g. p=0.0, 0.1, 0.2, 0.5, 0.9, 1.0, and <k>=2, 4, 6"
   ]
  },
  {
   "cell_type": "code",
   "execution_count": null,
   "metadata": {},
   "outputs": [],
   "source": []
  },
  {
   "cell_type": "markdown",
   "metadata": {},
   "source": [
    "## 3. Barabási & Albert (BA) preferential attachment model\n",
    "BA: different values of \"m\" (number of edges that each new nodes forms with the existing nodes), e.g. m=1, 2, 5"
   ]
  },
  {
   "cell_type": "code",
   "execution_count": null,
   "metadata": {},
   "outputs": [],
   "source": []
  },
  {
   "cell_type": "markdown",
   "metadata": {},
   "source": [
    "## 4. Configuration Model (CM)\n",
    "\n",
    "CM: different degree distributions: Poisson (ER), e.g. <k>=2, 4; power-law (SF) with different exponents, e.g. gamma=2.2, 2.7, 3.5\n",
    "\n"
   ]
  },
  {
   "cell_type": "code",
   "execution_count": null,
   "metadata": {},
   "outputs": [],
   "source": [
    "## 2."
   ]
  }
 ],
 "metadata": {
  "interpreter": {
   "hash": "4074c6767ec73ea69747b656614144d24721785b8df68decaa3fba3b2e9c6c00"
  },
  "kernelspec": {
   "display_name": "Python 3.9.7 ('base')",
   "language": "python",
   "name": "python3"
  },
  "language_info": {
   "codemirror_mode": {
    "name": "ipython",
    "version": 3
   },
   "file_extension": ".py",
   "mimetype": "text/x-python",
   "name": "python",
   "nbconvert_exporter": "python",
   "pygments_lexer": "ipython3",
   "version": "3.9.7"
  },
  "orig_nbformat": 4
 },
 "nbformat": 4,
 "nbformat_minor": 2
}

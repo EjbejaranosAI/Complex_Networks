{
 "cells": [
  {
   "cell_type": "markdown",
   "metadata": {},
   "source": [
    "# A4. Epidemic spreading on complex networks\n",
    "## Epidemic spreading using the SIS model\n",
    "\n",
    "Monte Carlo simulation of an epidemic spreading dynamics in complex networks, using the SIS model in which each node represents an individual which can be in two possible states: Susceptible (S), i.e., healthy but can get infected; Infected (I), i.e., has the disease and can spread it to its neighbors.\n",
    "\n",
    "We are interested in the calculation of the fraction of infected nodes, ρ, in the stationary state, as a function of the infection probability of the disease β (at least 51 values between β=0 and β=1, Δβ=0.02), for different values of the recovery probability μ (e.g. 0.1, 0.5, 0.9). Try different undirected networks (e.g., Erdös-Rényi, scale-free, real), different sizes (at least 500 nodes), average degrees, exponents, etc. Do not make all the combinations, about 10 plots ρ(β) are enough.\n",
    "\n",
    "Optionally (but mandatory if you want to opt to the maximum grade), compare the ρ(β) result from Monte Carlo simulations with the theoretical prediction provided by the Microscopic Markov Chain Approach (MMCA) model.\n",
    "\n",
    "### The delivery must include:\n",
    "\n",
    "Source code\n",
    "\n",
    "Networks used in Pajek format\n",
    "\n",
    "Results files\n",
    "\n",
    "Document (in PDF) including:\n",
    "\n",
    "Short explanations on how have you done the required work (software, decisions, etc.)\n",
    "Plots, pointing out “all” the parameters of the corresponding simulation.\n",
    "\n",
    "Monte Carlo simulations may require a lot of computing time, thus it is recommended the use of compiled languages. In general, and mainly if you are using interpreted languages (e.g., python, Matlab, octave, R), first make tests with small networks, few time steps, and few repetitions, before making the definitive simulations.\n",
    "\n",
    "Observation: in the original paper on MMCA, the modeled SIS dynamic allows for \"one-step reinfections\", which are not present in our description of the Monte Carlo simulations. Thus, the last term in Eq. (1) of the paper published in Europhys. Lett. must be removed in order that simulation and theoretical model be comparable. For a comparison of dynamics with and without one-step reinfections, please check the paper published in Int. J. Complex Sys. Sci.\n"
   ]
  },
  {
   "cell_type": "code",
   "execution_count": 9,
   "metadata": {},
   "outputs": [],
   "source": [
    "## Imports \n",
    "import igraph as ig\n",
    "import matplotlib.pylab as plt\n",
    "from termcolor import colored\n",
    "import numpy as np \n",
    "import random\n",
    "seed1 = np.random.seed(4234)\n",
    "seed2 = random.seed(4234)"
   ]
  },
  {
   "cell_type": "code",
   "execution_count": 10,
   "metadata": {},
   "outputs": [
    {
     "name": "stdout",
     "output_type": "stream",
     "text": [
      "The autoreload extension is already loaded. To reload it, use:\n",
      "  %reload_ext autoreload\n"
     ]
    }
   ],
   "source": [
    "## reloading \n",
    "%load_ext autoreload\n",
    "%autoreload 2"
   ]
  },
  {
   "cell_type": "markdown",
   "metadata": {},
   "source": [
    "## Simple SIS Model (NOT FOR THE DELIVERY)"
   ]
  },
  {
   "cell_type": "markdown",
   "metadata": {},
   "source": [
    "### Defining it "
   ]
  },
  {
   "cell_type": "code",
   "execution_count": null,
   "metadata": {},
   "outputs": [],
   "source": [
    "\n",
    "## Implementing a simple SIS model with\n",
    "def sis_infection(susceptible_people:int,       ## Susceptible (S)\n",
    "                  infected_people:int,          ## Infected    (I)\n",
    "                  population:int,               ## Population  (N)\n",
    "                  beta:float,                   ## Transmission Rate prior to change (beta)\n",
    "                  gamma:float,                  ## Recovery Rate (gamma)\n",
    "                  n_iterations:int,             ## Number of iterations\n",
    "                  n_batch:int,                  ## Number of batches\n",
    "                  verbosity:bool=True,          ## Whether to show every 50th iteration the results \n",
    "                  _plot:bool=False) -> list:    ## Whether to plot the final results \n",
    "    \"\"\"\n",
    "    \n",
    "    Calculates the SIS model by the following equation: \n",
    "    \n",
    "    INITIAL CONFIGURATION: \n",
    "    \n",
    "    Population  (N) = 100\n",
    "    Susceptible (S) = N - 1  (100 - 1 = 99)\n",
    "    Infected    (I) = 1\n",
    "    \n",
    "    MODEL: \n",
    "    \n",
    "    For every timeperiod t_{i}, the susceptible and infected populations\n",
    "    will be recalculated using a set recovery rate ($\\gamma$) and a \n",
    "    transmission rate prior to change. \n",
    "    \n",
    "    gamma = 0.2 ## recovery rate \n",
    "    beta = 0.3  ## transmission rate \n",
    "    \n",
    "    S = (S - beta * S * I/N) + gamma * I\n",
    "    S = (I - beta * S * I/N) + gamma * I\n",
    "    \n",
    "    \"\"\"\n",
    "    ## holders \n",
    "    sholder = [None] * population\n",
    "    iholder = [None] * population\n",
    "    ## text \n",
    "    for idx,t in enumerate(range (0, n_iterations)):\n",
    "        ## update the susceptible population \n",
    "        susceptible_people = susceptible_people - (beta * susceptible_people * infected_people / population) + gamma * infected_people\n",
    "        ## update the infected population \n",
    "        infected_people = infected_people + (beta * susceptible_people * infected_people / population) - gamma * infected_people\n",
    "        ## update the holders \n",
    "        sholder[idx] = susceptible_people\n",
    "        iholder[idx] = infected_people\n",
    "        ## some feedback\n",
    "        if verbosity: \n",
    "            if t%n_batch == 0:\n",
    "                it_txt = f\"| Iteration = {t} | \"\n",
    "                s_txt = f\"Susceptible = {round(susceptible_people,0)} ({susceptible_people/population*100:.2f}%) | \"\n",
    "                i_txt = f\"Infected = {round(infected_people,0)} ({infected_people/population*100:.2f}%)|\"\n",
    "                print(it_txt, colored(s_txt, 'green'), colored(i_txt,'red'))\n",
    "                \n",
    "    if _plot:\n",
    "        ## show the plots \n",
    "        figure = plt.figure()  ## creating the figure \n",
    "        figure.canvas.manager.set_window_title ('SIS model') ## set a title \n",
    "        plt.plot(iholder, label='Infected - I(t)') ## plot the I \n",
    "        plt.plot(sholder, label='Susceptible - S(t)') ## plot the S \n",
    "        plt.legend() ## add legend \n",
    "        plt.ticklabel_format(style='sci', axis='y', scilimits=(0,0)) ## scientificnotation \n",
    "        plt.xlabel('Timepoint (t)') ## labels \n",
    "        plt.ylabel('Percentage of Individuals (N in %)') ## labels \n",
    "        plt.show()\n",
    "    ## return the variables \n",
    "    return sholder, iholder"
   ]
  },
  {
   "cell_type": "markdown",
   "metadata": {},
   "source": [
    "### Running it "
   ]
  },
  {
   "cell_type": "code",
   "execution_count": 11,
   "metadata": {},
   "outputs": [
    {
     "name": "stdout",
     "output_type": "stream",
     "text": [
      "| Iteration = 0 |  \u001b[32mSusceptible = 999999.0 (100.00%) | \u001b[0m \u001b[31mInfected = 1.0 (0.00%)|\u001b[0m\n",
      "| Iteration = 25 |  \u001b[32mSusceptible = 999084.0 (99.91%) | \u001b[0m \u001b[31mInfected = 916.0 (0.09%)|\u001b[0m\n",
      "| Iteration = 50 |  \u001b[32mSusceptible = 673217.0 (67.32%) | \u001b[0m \u001b[31mInfected = 303485.0 (30.35%)|\u001b[0m\n",
      "| Iteration = 75 |  \u001b[32mSusceptible = 400288.0 (40.03%) | \u001b[0m \u001b[31mInfected = 521302.0 (52.13%)|\u001b[0m\n",
      "| Iteration = 100 |  \u001b[32mSusceptible = 400000.0 (40.00%) | \u001b[0m \u001b[31mInfected = 521515.0 (52.15%)|\u001b[0m\n",
      "| Iteration = 125 |  \u001b[32mSusceptible = 400000.0 (40.00%) | \u001b[0m \u001b[31mInfected = 521515.0 (52.15%)|\u001b[0m\n"
     ]
    },
    {
     "data": {
      "image/png": "[encoded data removed]",
      "text/plain": [
       "<Figure size 432x288 with 1 Axes>"
      ]
     },
     "metadata": {
      "needs_background": "light"
     },
     "output_type": "display_data"
    }
   ],
   "source": [
    "## Initial Population \n",
    "N = 1000000\n",
    "N_ITER = 150\n",
    "## Number of Susceptible people\n",
    "S = N - 1\n",
    "## Number of Infected people \n",
    "I = 1\n",
    "## Parameters \n",
    "## Transmission rate prior to change\n",
    "BETA = 0.5\n",
    "## Recovery rate\n",
    "GAMMA = 0.2\n",
    "## number of batches for feedback \n",
    "N_BATCH = 25\n",
    "## Verbosity \n",
    "VERBOSITY = True \n",
    "## plotting \n",
    "PLOTTING = True\n",
    "## kwargs\n",
    "config = {\n",
    "        \"susceptible_people\" : S,\n",
    "        \"infected_people\"    : I,\n",
    "        \"population\"         : N,\n",
    "        \"beta\"               : BETA, \n",
    "        \"gamma\"              : GAMMA, \n",
    "        \"n_iterations\"       : N_ITER,\n",
    "        \"n_batch\"            : N_BATCH,\n",
    "        \"verbosity\"          : VERBOSITY,\n",
    "        \"_plot\"              : PLOTTING\n",
    "        }\n",
    "\n",
    "## running \n",
    "sus, inf = sis_infection(**config)"
   ]
  },
  {
   "cell_type": "markdown",
   "metadata": {},
   "source": [
    "## Task at hand"
   ]
  },
  {
   "cell_type": "markdown",
   "metadata": {},
   "source": [
    "### Steps to do: \n",
    "\n",
    "0. Implement a simple SIS model [DONE]\n",
    "1. Perform the SIS modelling on igraph or graph-tools \n",
    "2. Implement the Monte Carlo Method for the simulation \n",
    "3. Evaluate and average out the results "
   ]
  },
  {
   "cell_type": "markdown",
   "metadata": {},
   "source": [
    "#### Read Bibliography Files"
   ]
  },
  {
   "cell_type": "code",
   "execution_count": 12,
   "metadata": {},
   "outputs": [],
   "source": [
    "import glob\n",
    "import pybtex\n",
    "from pybtex.database.input import bibtex\n",
    "def load_parse_bib(bib_path:str) -> pybtex.database.BibliographyData:\n",
    "    \"\"\"\n",
    "    Loads the bib files in the directory and returns the given data format\n",
    "    for the bibliography files. \n",
    "    \"\"\"\n",
    "\n",
    "    ## start the parser \n",
    "    parser = bibtex.Parser()\n",
    "    ## get the bib files \n",
    "    bib_files = glob.glob(bib_path+\"/*.bib\")\n",
    "    ## read the files\n",
    "    bib_data = [parser.parse_file(x) for x in bib_files]\n",
    "    ## since they are all parsed, we can return the first element \n",
    "    ret_bib_data = bib_data[0]\n",
    "    return ret_bib_data\n"
   ]
  },
  {
   "cell_type": "code",
   "execution_count": 13,
   "metadata": {},
   "outputs": [],
   "source": [
    "from collections import defaultdict\n",
    "def get_bib_data(path_to_file:str, verbose:bool) -> dict:\n",
    "    \"\"\"\n",
    "    Prints the following information about the citation:\n",
    "    Title, Journal, Year, Author(s)\n",
    "    \"\"\"\n",
    "    bib_data = load_parse_bib(bib_path = path_to_file)\n",
    "    holder = defaultdict(dict)\n",
    "    ## article\n",
    "    papers = list(bib_data.entries.keys())\n",
    "    ## info \n",
    "    for idx,ids in enumerate(papers):\n",
    "        c_data = bib_data.entries[ids]\n",
    "        title = c_data.fields['title']\n",
    "        journal = c_data.fields['journal']\n",
    "        year = c_data.fields['year']\n",
    "        ## authors \n",
    "        authors = [\" \".join(x.first_names + x.last_names)  for x in c_data.persons['author']][:3]\n",
    "        ## joined on a string \n",
    "        ret_authors = ' '.join((x for x in authors))\n",
    "        ## update tracker\n",
    "        holder[idx]['title'] = title\n",
    "        holder[idx]['journal'] = journal\n",
    "        holder[idx]['year'] = year\n",
    "        holder[idx]['author'] = authors[0]\n",
    "        if verbose:\n",
    "            print(colored(f'Source {idx+1}','green'))\n",
    "            print(colored(\"Title:\",attrs=['bold']),f\"{title}\")\n",
    "            print(colored(\"Journal:\",attrs=['bold']),f\"{journal}\")\n",
    "            print(colored(\"Year:\",attrs=['bold']),f\"{year}\")\n",
    "            print(colored(\"Authors:\",attrs=['bold']),f\"{ret_authors}\\n\")\n",
    "    return holder"
   ]
  },
  {
   "cell_type": "code",
   "execution_count": 14,
   "metadata": {},
   "outputs": [
    {
     "name": "stdout",
     "output_type": "stream",
     "text": [
      "\u001b[32mSource 1\u001b[0m\n",
      "\u001b[1mTitle:\u001b[0m Simulation and Analysis Methods for Stochastic Compartmental Epidemic Models\n",
      "\u001b[1mJournal:\u001b[0m Annual Review of Statistics and Its Application\n",
      "\u001b[1mYear:\u001b[0m 2021\n",
      "\u001b[1mAuthors:\u001b[0m Tapiwa Ganyani Christel Faes Niel Hens\n",
      "\n",
      "\u001b[32mSource 2\u001b[0m\n",
      "\u001b[1mTitle:\u001b[0m A comparison of five epidemiological models for transmission of SARS-CoV-2 in India\n",
      "\u001b[1mJournal:\u001b[0m BMC Infectious Diseases\n",
      "\u001b[1mYear:\u001b[0m 2021\n",
      "\u001b[1mAuthors:\u001b[0m Soumik Purkayastha Rupam Bhattacharyya Ritwik Bhaduri\n",
      "\n"
     ]
    }
   ],
   "source": [
    "## where the citation (.bib) files are located\n",
    "CITATIONS = \"./citations\"\n",
    "VERBOSITY = True\n",
    "## returns a dictionary \n",
    "info = get_bib_data(path_to_file=CITATIONS,verbose=VERBOSITY)"
   ]
  },
  {
   "cell_type": "markdown",
   "metadata": {},
   "source": [
    "### SIS Model\n",
    "\n",
    "## Introduction: Epidemiological Models\n",
    "\n",
    "Epidemic modelling is a field which has come under a lot of attention ever since the onset of COVID-19, at a much larger scale than before. In order to depict the spread of the disease, it is necessary \n",
    "\n",
    "The Susceptible (S) Infected (I) Susceptible (S) (SIS) Model is a used"
   ]
  },
  {
   "cell_type": "markdown",
   "metadata": {},
   "source": [
    "##### SIS SETUP PARAMETERS"
   ]
  },
  {
   "cell_type": "code",
   "execution_count": 15,
   "metadata": {},
   "outputs": [],
   "source": [
    "VERBOSITY = True ## Verbosity\n",
    "SEED = 4234 ## seed for the random number generator\n",
    "## ------- ------- ------- -------\n",
    "## -------  SIS PARAMETERS -------\n",
    "## ------- ------- ------- -------\n",
    "\n",
    "P = 0.2                       ## initial infected population \n",
    "MU = 0.1                      ## mu: spontaneous recovery probability \n",
    "BETA = 0.02                   ## beta: infection probability, when S in contact with I (Transmission Rate)\n",
    "N = 500                       ## we will also need an initial population\n",
    "T_MAX = 1000                  ## time step\n",
    "T_TRANS = 900                 ## transition \n",
    "STEPS4CALC = T_MAX - T_TRANS  ## number of steps to calculate the average\n",
    "\n",
    "## ------- ------- ------- -------\n",
    "## -------  SIS DICTIONARY -------\n",
    "## ------- ------- ------- -------\n",
    "SIS_CONFIG = {\n",
    "            \"initial_population\":N,\n",
    "            \"initial_infected_population\":P,\n",
    "            \"mu\":MU,\n",
    "            \"beta\":BETA,\n",
    "            \"n_iter\":T_MAX,\n",
    "            \"seed\":SEED,\n",
    "            \"verbose\":VERBOSITY,\n",
    "            }"
   ]
  },
  {
   "cell_type": "code",
   "execution_count": 16,
   "metadata": {},
   "outputs": [],
   "source": [
    "## ------- ------- ------- -------\n",
    "## -------  MC PARAMETERS  -------\n",
    "## ------- ------- ------- -------\n",
    "\n",
    "T_MAX = 1000 ## time step\n",
    "T_TRANS = 900 ## transition \n",
    "STEPS4CALC = T_MAX - T_TRANS ## number of steps to calculate the average\n",
    "\n",
    "## ------- ------- ------- -------\n",
    "## -------  NC DICTIONARY  -------\n",
    "## ------- ------- ------- -------\n",
    "SIS_MC_CONFIG = {\n",
    "            \"initial_population\":N,\n",
    "            \"initial_infected_population\":P,\n",
    "            \"mu\":MU,\n",
    "            \"beta\":BETA,\n",
    "            \"timesteps\":T_MAX,\n",
    "            \"transition\":T_TRANS,\n",
    "            \"verbose\":VERBOSITY,\n",
    "            }"
   ]
  },
  {
   "cell_type": "markdown",
   "metadata": {},
   "source": [
    "### Running the SIS-Numpy Based "
   ]
  },
  {
   "cell_type": "code",
   "execution_count": 17,
   "metadata": {},
   "outputs": [],
   "source": [
    "## visual styles for plotting igraph graphs \n",
    "visual_style = {}\n",
    "visual_style[\"edge_width\"] = 0.01 ## EDGE WIDTH\n",
    "visual_style[\"vertex_size\"] = 4 ## SIZE OF THE NODEs\n",
    "visual_style[\"bbox\"] = (200,200) ## SIZE OF GRAPH (MAINTAINS DPI)\n",
    "visual_style[\"margin\"] = 10      ## MARGIN of the graph"
   ]
  },
  {
   "cell_type": "code",
   "execution_count": 18,
   "metadata": {},
   "outputs": [
    {
     "data": {
      "text/plain": [
       "0.8923311111111111"
      ]
     },
     "execution_count": 18,
     "metadata": {},
     "output_type": "execute_result"
    }
   ],
   "source": [
    "from src.SIS import SIS ## import the module \n",
    "import gc  ## trash collect \n",
    "gc.collect()\n",
    "## instantiate the SIS model \n",
    "sis = SIS(**SIS_CONFIG) ## pass the config dictionary (use ** to unpack the dictionary)\n",
    "## start the random network \n",
    "#g = sis._start_network()\n",
    "## \n",
    "sis._run_simulation()"
   ]
  },
  {
   "cell_type": "code",
   "execution_count": 32,
   "metadata": {},
   "outputs": [
    {
     "name": "stdout",
     "output_type": "stream",
     "text": [
      "Number of Mu values: 1 | Number of Beta values: 51 | Total combinations: 51\n"
     ]
    }
   ],
   "source": [
    "import itertools\n",
    "mus = [0.1] ## generate the mu list \n",
    "betas = np.arange(0,1.02,0.02) ## generate the beta list \n",
    "## make a combination of all the mus and betas\n",
    "combs = list(itertools.product(mus,betas))\n",
    "print(f\"Number of Mu values: {len(mus)} | Number of Beta values: {len(betas)} | Total combinations: {len(combs)}\")"
   ]
  },
  {
   "cell_type": "code",
   "execution_count": 43,
   "metadata": {},
   "outputs": [],
   "source": [
    "VERBOSITY = False ## Verbosity\n",
    "SEED = 4234 ## seed for the random number generator\n",
    "## ------- ------- ------- -------\n",
    "## -------  SIS PARAMETERS -------\n",
    "## ------- ------- ------- -------\n",
    "\n",
    "P = 0.2                       ## initial infected population \n",
    "MU = 0.1                      ## mu: spontaneous recovery probability \n",
    "BETA = 0.02                   ## beta: infection probability, when S in contact with I (Transmission Rate)\n",
    "N = 500                       ## we will also need an initial population\n",
    "T_MAX = 1000                  ## time step\n",
    "T_TRANS = 900                 ## transition \n",
    "STEPS4CALC = T_MAX - T_TRANS  ## number of steps to calculate the average\n",
    "\n",
    "## ------- ------- ------- -------\n",
    "## -------  SIS DICTIONARY -------\n",
    "## ------- ------- ------- -------\n",
    "SIS_CONFIG = {\n",
    "            \"initial_population\":N,\n",
    "            \"initial_infected_population\":P,\n",
    "            \"mu\":MU,\n",
    "            \"beta\":BETA,\n",
    "            \"n_iter\":T_MAX,\n",
    "            \"seed\":SEED,\n",
    "            \"verbose\":VERBOSITY,\n",
    "            }"
   ]
  },
  {
   "cell_type": "code",
   "execution_count": 47,
   "metadata": {},
   "outputs": [],
   "source": [
    "import time \n",
    "from termcolor import colored\n",
    "def MC_SIS(mu_beta_comb:list,n_reps:int,params):\n",
    "    ## save all the results \n",
    "    all_results = dict()\n",
    "    ## iterate over the list of mus\n",
    "    for i in range(n_reps):\n",
    "        big_tic = time.time()\n",
    "        for mu0, beta0 in mu_beta_comb:\n",
    "            params['mu'] = mu0      ## set the mu to the config file \n",
    "            params['beta'] = beta0  ## set the beta to the config file\n",
    "            ## instantiate the model\n",
    "            gc.collect()\n",
    "            tic = time.time()\n",
    "            ## instantiate the SIS model\n",
    "            rho_,num = SIS(**params)._run_simulation() ## pass the config dictionary (use ** to unpack the dictionary)\n",
    "            ## start the random network \n",
    "            toc = time.time()\n",
    "            avg_rho = []\n",
    "            ## get the inputs \n",
    "            avg_rho.append(rho_)\n",
    "            all_results[num] = {}\n",
    "            all_results[num][mu0] = {}\n",
    "            all_results[num][mu0][beta0] = np.mean(avg_rho)\n",
    "            print(colored(f\" mu: {mu0} | beta: {beta0} | rho: {rho_:.2f} | time: {toc-tic:.2f}\",\"blue\"))\n",
    "        big_toc = time.time()\n",
    "        print(colored(f\"Iteration {i} | mu: {mu0} | beta: {beta0} | rho: {rho_:.2f} | time: {toc-tic:.2f} | Time: {big_toc-big_tic:.2f}\",\"red\"))\n",
    "    return all_results"
   ]
  },
  {
   "cell_type": "code",
   "execution_count": 48,
   "metadata": {},
   "outputs": [
    {
     "name": "stdout",
     "output_type": "stream",
     "text": [
      "\u001b[34m mu: 0.1 | beta: 0.0 | rho: 0.00 | time: 50.26\u001b[0m\n",
      "\u001b[34m mu: 0.1 | beta: 0.02 | rho: 0.91 | time: 22.27\u001b[0m\n",
      "\u001b[34m mu: 0.1 | beta: 0.04 | rho: 0.91 | time: 15.93\u001b[0m\n",
      "\u001b[34m mu: 0.1 | beta: 0.06 | rho: 0.91 | time: 13.94\u001b[0m\n",
      "\u001b[34m mu: 0.1 | beta: 0.08 | rho: 0.91 | time: 12.84\u001b[0m\n",
      "\u001b[34m mu: 0.1 | beta: 0.1 | rho: 0.91 | time: 12.30\u001b[0m\n",
      "\u001b[34m mu: 0.1 | beta: 0.12 | rho: 0.91 | time: 11.85\u001b[0m\n",
      "\u001b[34m mu: 0.1 | beta: 0.14 | rho: 0.91 | time: 11.57\u001b[0m\n",
      "\u001b[34m mu: 0.1 | beta: 0.16 | rho: 0.91 | time: 11.27\u001b[0m\n",
      "\u001b[34m mu: 0.1 | beta: 0.18 | rho: 0.91 | time: 11.16\u001b[0m\n",
      "\u001b[34m mu: 0.1 | beta: 0.2 | rho: 0.91 | time: 11.13\u001b[0m\n",
      "\u001b[34m mu: 0.1 | beta: 0.22 | rho: 0.91 | time: 10.85\u001b[0m\n",
      "\u001b[34m mu: 0.1 | beta: 0.24 | rho: 0.91 | time: 10.76\u001b[0m\n",
      "\u001b[34m mu: 0.1 | beta: 0.26 | rho: 0.91 | time: 10.83\u001b[0m\n"
     ]
    }
   ],
   "source": [
    "res=MC_SIS(combs, 50, SIS_CONFIG)"
   ]
  },
  {
   "cell_type": "code",
   "execution_count": null,
   "metadata": {},
   "outputs": [],
   "source": [
    "import multiprocessing as mp\n",
    "import time\n",
    "## define the function to be parallelized\n",
    "def MC_SIS_parallel(mu_beta_comb:list,n_reps:int):\n",
    "    ## save all the results\n",
    "    all_results = dict()\n",
    "    ## iterate over the list of mus\n",
    "    for i in range(n_reps):\n",
    "        big_tic = time.time()\n",
    "        for mu0, beta0 in mu_beta_comb:\n",
    "            SIS_CONFIG['mu'] = mu0\n",
    "            SIS_CONFIG['beta'] = beta0\n",
    "            ## instantiate the model\n",
    "            gc.collect()\n",
    "            ## instantiate the SIS model\n",
    "            sis = SIS(**SIS_CONFIG) ## pass the config dictionary (use ** to unpack the dictionary)\n",
    "            ## start the random network\n",
    "            tic = time.time()\n",
    "            rho_ = sis._run_simulation()\n",
    "            toc = time.time()\n",
    "            avg_rho = []\n",
    "            ## get the inputs\n",
    "            avg_rho.append(rho_)\n",
    "            all_results[mu0] = {}\n",
    "            all_results[mu0][beta0] = np.mean(avg_rho)\n",
    "            print(colored(f\" mu: {mu0} | beta: {beta0} | rho: {rho_:.2f} | time: {toc-tic:.2f}\"))\n",
    "        big_toc = time.time()\n",
    "        "
   ]
  }
 ],
 "metadata": {
  "interpreter": {
   "hash": "ac6858c3dbc49267e902ff986705b591b9d7b57befff84fd7d814fe16c4a8e1f"
  },
  "kernelspec": {
   "display_name": "Python 3.8.5",
   "language": "python",
   "name": "python3"
  },
  "language_info": {
   "codemirror_mode": {
    "name": "ipython",
    "version": 3
   },
   "file_extension": ".py",
   "mimetype": "text/x-python",
   "name": "python",
   "nbconvert_exporter": "python",
   "pygments_lexer": "ipython3",
   "version": "3.8.2"
  },
  "orig_nbformat": 4
 },
 "nbformat": 4,
 "nbformat_minor": 2
}

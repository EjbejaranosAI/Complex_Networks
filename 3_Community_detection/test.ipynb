{
 "cells": [
  {
   "cell_type": "code",
   "execution_count": null,
   "metadata": {},
   "outputs": [],
   "source": [
    "#take the graph g and identify the communities \n",
    "#using the label_propagation algorithm\n",
    "from networkx.algorithms.community import label_propagation\n",
    "#compute the communities\n",
    "communities = label_propagation.label_propagation_communities(g)\n",
    "#iterate over the communities and print the communities\n",
    "for comm in communities:\n",
    "    print(tuple(sorted(c) for c in comm))\n",
    "#plot the communities\n",
    "pos = nx.spring_layout(g)\n",
    "print(pos)\n",
    "#plot the nodes and edges with color green for the communities\n",
    "nx.draw(g, pos, with_labels=True)\n",
    "plt.show()\n",
    "#create a dict where extract the communities and assign a color to each community\n",
    "color_map = [c2 if node in cmms[0] else c1  for node in g.nodes()]\n",
    "#plot the graph with the color assigned to each community\n",
    "nx.draw(g, node_color=color_map, with_labels=True)\n",
    "plt.show()"
   ]
  },
  {
   "cell_type": "code",
   "execution_count": null,
   "metadata": {},
   "outputs": [],
   "source": [
    "from networkx.algorithms import community\n",
    "G = nx.barbell_graph(5, 1)\n",
    "communities_generator = community.girvan_newman(G)\n",
    "top_level_communities = next(communities_generator)\n",
    "next_level_communities = next(communities_generator)\n",
    "sorted(map(sorted, next_level_communities))"
   ]
  },
  {
   "cell_type": "code",
   "execution_count": null,
   "metadata": {},
   "outputs": [],
   "source": [
    "from networkx.algorithms.community import k_clique_communities\n",
    "k = 4\n",
    "\n",
    "com_labelpropagation = community.label_propagation_communities(g)\n",
    "print(com_labelpropagation)\n",
    "no_labelpropagation = len(list(com_labelpropagation))\n",
    "print(f\"Number of communities found by label propagation: {no_labelpropagation}\")\n",
    "\n",
    "\n",
    "kclique_con = list(community.k_clique_communities(g,k))\n",
    "print(kclique_con)\n",
    "no_kclique_con = len(list(kclique_con))\n",
    "print(f\"Number of kcliques found by label propagation: {no_kclique_con}\")"
   ]
  },
  {
   "cell_type": "code",
   "execution_count": null,
   "metadata": {},
   "outputs": [],
   "source": [
    "l3 = sorted(com_labelpropagation.values(),reverse=False)\n",
    "\n",
    "\n",
    "#get the colors of the com_labelpropagation comunities\n",
    "color_map = [c2 if node in com_labelpropagation else c1  for node in g.nodes()]\n",
    "\n",
    "#plot the graph with the communities\n",
    "nx.draw(g, node_color=color_map, with_labels=True)"
   ]
  },
  {
   "cell_type": "code",
   "execution_count": null,
   "metadata": {},
   "outputs": [],
   "source": [
    "print(com_labelpropagation)\n",
    "print(no_labelpropagation)\n",
    "\n",
    "print(list(kclique_con))\n",
    "print(no_kclique_con)   "
   ]
  }
 ],
 "metadata": {
  "language_info": {
   "name": "python"
  },
  "orig_nbformat": 4
 },
 "nbformat": 4,
 "nbformat_minor": 2
}

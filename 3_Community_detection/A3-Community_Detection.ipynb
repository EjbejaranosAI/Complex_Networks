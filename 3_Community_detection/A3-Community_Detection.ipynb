{
 "cells": [
  {
   "cell_type": "markdown",
   "metadata": {},
   "source": [
    "## A3. Community detection"
   ]
  },
  {
   "cell_type": "markdown",
   "metadata": {},
   "source": [
    "### INFO"
   ]
  },
  {
   "cell_type": "markdown",
   "metadata": {},
   "source": [
    "#### TASKS: \n",
    "\n",
    "\n",
    "[1] Apply at least three different community detection algorithms for the attached undirected networks\n",
    "\n",
    "[2] At least one of the algorithms must be based on the optimization of modularity\n",
    "\n",
    "[3] You must use at least two different programs\n",
    "\n",
    "#### Comparissons: \n",
    "[1] Partition of reference, obtained from external information. In these cases, you have to compare your partitions with them, using at least the following standard measures: Jaccard Index, Normalized Mutual Information (arithmetic normalization), and Normalized Variation of Information.\n",
    "\n",
    "#### DELIVERY\n",
    "[1] a plot with color-coded communities\n",
    "\n",
    "[2] Brief description of the algorithms and the programs used.\n",
    "\n",
    "[3] Selected parameters for each algorithm and/or network, and the scripts used (if any).\n",
    "\n",
    "[4] A table with the comparison measures between your partitions and the reference ones, grouped by network.\n",
    "\n",
    "[5] A table with the modularity values of all the partitions (including the reference ones), grouped by network.\n",
    "\n",
    "[6] The obtained partitions, in Pajek format (*.clu)\n",
    "\n",
    "\n",
    "\n",
    "#### CAVEATS: \n",
    "[1] The position of the nodes must not change for all the partitions of the same network.\n",
    "\n",
    "[2] If the network contains coordinates for the nodes (e.g. airports_UW.net), use them to establish the position of the nodes. Otherwise, use a layout algorithm to distribute the nodes in the plane trying to minimize the number of links crossings (e.g., Kamada-Kawai, ForceAtlas, etc.). Circular layouts must not be used.\n",
    "\n"
   ]
  },
  {
   "cell_type": "markdown",
   "metadata": {},
   "source": [
    "## Community \n",
    "\n",
    "- Groups of densely connected components in various networks. \n",
    "- Most widely used algorithm Girvan-Newman algorithm\n",
    "\n",
    "#### Techniques \n",
    "- **Agglomerative**: start only with the nodes of the original graph. Edges are added in a specific manner, if they have a weight, stronger ones are prioritized over weaker ones. \n",
    "\n",
    "- **Divisive**: Remove edges from the original graph iteratively. Stronger edges are removed before weaker ones. "
   ]
  },
  {
   "cell_type": "markdown",
   "metadata": {},
   "source": [
    "### Imports & Settings"
   ]
  },
  {
   "cell_type": "code",
   "execution_count": 1,
   "metadata": {},
   "outputs": [],
   "source": [
    "## get the community module \n",
    "!pip3 install -qq python-louvain"
   ]
  },
  {
   "cell_type": "code",
   "execution_count": 4,
   "metadata": {},
   "outputs": [],
   "source": [
    "## autoreload \n",
    "%load_ext autoreload\n",
    "%autoreload 2"
   ]
  },
  {
   "cell_type": "markdown",
   "metadata": {},
   "source": [
    "Description of Python-Louvain, it is the NetworkX's method for community detection. \n",
    "Description of NetworkX: Using different algorithms from them (3)\n"
   ]
  },
  {
   "cell_type": "code",
   "execution_count": 2,
   "metadata": {},
   "outputs": [],
   "source": [
    "## import libraries \n",
    "import numpy as np \n",
    "import glob \n",
    "import networkx as nx \n",
    "import matplotlib.pyplot as plt\n",
    "from community import community_louvain"
   ]
  },
  {
   "cell_type": "code",
   "execution_count": 32,
   "metadata": {},
   "outputs": [],
   "source": [
    "## helper functions \n",
    "from src.helpers.config import paths_dict\n",
    "from src.helpers.helpers import get_file_list_iter"
   ]
  },
  {
   "cell_type": "code",
   "execution_count": 33,
   "metadata": {},
   "outputs": [],
   "source": [
    "## get the paths of the files \n",
    "MODEL_DATA = paths_dict()\n",
    "## get all the files \n",
    "FILES = get_file_list_iter(MODEL_DATA)"
   ]
  },
  {
   "cell_type": "markdown",
   "metadata": {},
   "source": [
    "#### Code"
   ]
  },
  {
   "cell_type": "markdown",
   "metadata": {},
   "source": [
    "#### Community Detection Algorithm 1: Girvan-Newman algorithm"
   ]
  },
  {
   "cell_type": "markdown",
   "metadata": {},
   "source": [
    "https://networkx.org/documentation/stable/reference/algorithms/generated/networkx.algorithms.community.centrality.girvan_newman.html#networkx.algorithms.community.centrality.girvan_newman\n",
    "\n",
    "- Divisive method, progressively removes edges from the original graph. \n",
    "- Removes the \"most-valuable\" edge. \n",
    "    - Highest betweenness centrality.\n",
    "        - Highest number of shortest paths between nodes. \n",
    "        - definition is unclear but something as: \n",
    "            Number of shortest paths through V or E / Total shortest paths\n",
    "- Result can be shown as a dendrogram. "
   ]
  },
  {
   "cell_type": "code",
   "execution_count": 36,
   "metadata": {},
   "outputs": [
    {
     "data": {
      "text/plain": [
       "{'MODEL': ['./data/model/256_4_4_4_13_18_p.net',\n",
       "  './data/model/rb125-3.clu',\n",
       "  './data/model/rb125-2.clu',\n",
       "  './data/model/256_4_4_2_15_18_p.net',\n",
       "  './data/model/rb125-1.clu',\n",
       "  './data/model/rb125.net',\n",
       "  './data/model/256_4_4_4_13_18_p.clu',\n",
       "  './data/model/256_4_4_2_15_18_p.clu'],\n",
       " 'REAL': ['./data/real/cat_cortex_sim.net',\n",
       "  './data/real/zachary_unwh.net',\n",
       "  './data/real/dolphins.net',\n",
       "  './data/real/airports_UW.net',\n",
       "  './data/real/cat_cortex_sim.clu',\n",
       "  './data/real/zachary_unwh-real.clu',\n",
       "  './data/real/football-conferences.clu',\n",
       "  './data/real/dolphins-real.clu',\n",
       "  './data/real/football.net'],\n",
       " 'TOY': ['./data/toy/20x2+5x2.clu',\n",
       "  './data/toy/graph3+1+3.net',\n",
       "  './data/toy/graph4+4.clu',\n",
       "  './data/toy/20x2+5x2.net',\n",
       "  './data/toy/graph4+4.net',\n",
       "  './data/toy/graph3+1+3.clu',\n",
       "  './data/toy/grid-p-6x6.net',\n",
       "  './data/toy/star.net',\n",
       "  './data/toy/star.clu']}"
      ]
     },
     "execution_count": 36,
     "metadata": {},
     "output_type": "execute_result"
    }
   ],
   "source": [
    "FILES"
   ]
  },
  {
   "cell_type": "code",
   "execution_count": 46,
   "metadata": {},
   "outputs": [
    {
     "name": "stdout",
     "output_type": "stream",
     "text": [
      "graph4+4.net\n"
     ]
    },
    {
     "data": {
      "image/png": "[encoded data removed]",
      "text/plain": [
       "<Figure size 432x288 with 1 Axes>"
      ]
     },
     "metadata": {},
     "output_type": "display_data"
    }
   ],
   "source": [
    "## import\n",
    "from networkx.algorithms.community.centrality import girvan_newman\n",
    "## load a sample graph from the FILES\n",
    "sample = FILES['TOY'][4]\n",
    "## print the name of the file \n",
    "print(sample.split(\"/\")[-1])\n",
    "## read the file into nx \n",
    "g = nx.read_pajek(sample)\n",
    "## draw the graph \n",
    "nx.draw(g, with_labels=True)"
   ]
  },
  {
   "cell_type": "code",
   "execution_count": 47,
   "metadata": {},
   "outputs": [
    {
     "data": {
      "image/png": "[encoded data removed]",
      "text/plain": [
       "<Figure size 432x288 with 1 Axes>"
      ]
     },
     "metadata": {},
     "output_type": "display_data"
    },
    {
     "name": "stdout",
     "output_type": "stream",
     "text": [
      "4\n",
      "4\n"
     ]
    }
   ],
   "source": [
    "## apply the algorithm to the graph \n",
    "communities = girvan_newman(g) ## generator object \n",
    "## get the nodes belonging to the first community\n",
    "node_groups = [com for com in next(communities)]\n",
    "## loop over the nodes in the original graph \n",
    "## if they are the original assign a color to them\n",
    "c1 = 'red'\n",
    "c2 = 'blue'\n",
    "color_map = [c2 if node in node_groups[0] else c1  for node in g.nodes()]\n",
    "## draw it again \n",
    "nx.draw(g, node_color=color_map, with_labels=True)\n",
    "plt.show()\n",
    "## the first community is the largest one\n",
    "for groups in node_groups:\n",
    "    print(len(groups))"
   ]
  },
  {
   "cell_type": "code",
   "execution_count": 48,
   "metadata": {},
   "outputs": [
    {
     "name": "stdout",
     "output_type": "stream",
     "text": [
      "(['1'], ['2', '3', '4'], ['5', '6', '7', '8'])\n",
      "(['1'], ['2'], ['3', '4'], ['5', '6', '7', '8'])\n",
      "(['1'], ['2'], ['3'], ['4'], ['5', '6', '7', '8'])\n",
      "(['1'], ['2'], ['3'], ['4'], ['5'], ['6', '7', '8'])\n",
      "(['1'], ['2'], ['3'], ['4'], ['5'], ['6'], ['7', '8'])\n"
     ]
    }
   ],
   "source": [
    "## another approach to get the community\n",
    "import itertools \n",
    "## define the number of communities (tuple)\n",
    "k = 5\n",
    "for comm in itertools.islice(communities, k):\n",
    "    print(tuple(sorted(c) for c in comm))"
   ]
  },
  {
   "cell_type": "code",
   "execution_count": 54,
   "metadata": {},
   "outputs": [
    {
     "data": {
      "image/png": "[encoded data removed]",
      "text/plain": [
       "<Figure size 432x288 with 1 Axes>"
      ]
     },
     "metadata": {},
     "output_type": "display_data"
    }
   ],
   "source": [
    "## using another package \n",
    "from community import community_louvain\n",
    "import matplotlib.cm as cm\n",
    "\n",
    "# compute the best partition\n",
    "partition = community_louvain.best_partition(g)\n",
    "\n",
    "# draw the graph\n",
    "pos = nx.spring_layout(g)\n",
    "# color the nodes according to their partition\n",
    "cmap = cm.get_cmap('tab10', max(partition.values()) + 1)\n",
    "## draw the nodes\n",
    "nx.draw_networkx_nodes(g, pos, partition.keys(), node_size=40,\n",
    "                       cmap=cmap, node_color=list(partition.values()))\n",
    "## draw the edges \n",
    "nx.draw_networkx_edges(g, pos, alpha=0.5)\n",
    "plt.show()\n"
   ]
  },
  {
   "cell_type": "code",
   "execution_count": 73,
   "metadata": {},
   "outputs": [
    {
     "name": "stdout",
     "output_type": "stream",
     "text": [
      "NMI: 0.51\n",
      "Jaccard index: 0.14\n"
     ]
    }
   ],
   "source": [
    "l1 = sorted(partition.values(),reverse=False)\n",
    "l2 = [1,1,1,1,2,2,2,2]\n",
    "## calculate normalized mutual information (nmi)\n",
    "from sklearn.metrics import normalized_mutual_info_score\n",
    "nmi = normalized_mutual_info_score(l1,l2)\n",
    "\n",
    "print(f\"NMI: {nmi:.2f}\")\n",
    "## calculate the jaccard index \n",
    "## define a function to calculate the jaccard index\n",
    "def jaccard_index(list1, list2):\n",
    "    \"\"\"Calculate the jaccard index of two lists.\"\"\"\n",
    "    intersection = len(list(set(list1).intersection(list2)))\n",
    "    union = (len(list1) + len(list2)) - intersection\n",
    "    return float(intersection / union)\n",
    "## calculate the jaccard index \n",
    "jac_idx = jaccard_index(l1,l2)\n",
    "print(f\"Jaccard index: {jac_idx:.2f}\")"
   ]
  },
  {
   "cell_type": "markdown",
   "metadata": {},
   "source": [
    "#### Community Detection Algorithm 2: Fluid Communities algorithm"
   ]
  },
  {
   "cell_type": "markdown",
   "metadata": {},
   "source": [
    "https://networkx.org/documentation/stable/reference/algorithms/generated/networkx.algorithms.community.centrality.girvan_newman.html#networkx.algorithms.community.centrality.girvan_newman\n",
    "\n",
    "\n",
    "Very nice graphs \n",
    "https://arxiv.org/pdf/1703.09307.pdf\n",
    "\n",
    "- Based on \"fluids interacting with each other\" \n",
    "    - expanding and pushing each other. \n",
    "\n",
    "Mechanics: \n",
    "- Initial k communities initialized on a random vertex. \n",
    "- Iterate over all vertices in random order. \n",
    "- **Vertex move from one place to the other, different densities, shifts**\n"
   ]
  },
  {
   "cell_type": "code",
   "execution_count": null,
   "metadata": {},
   "outputs": [],
   "source": [
    "## import \n",
    "from networkx.algorithms.community import asyn_fluid\n",
    "## set parameters \n",
    "## K is the number of communities\n",
    "K = 5\n",
    "## max_iter is the maximum number of iterations\n",
    "max_iter = 100\n",
    "## assign fluids \n",
    "fluids = asyn_fluid.asyn_fluidc(G=g, k=K, max_iter=max_iter)\n",
    "## iterate over the fluids and print the communities\n",
    "cmms = [fluid for fluid in fluids]\n",
    "color_map = [c2 if node in cmms[0] else c1  for node in g.nodes()]\n",
    "\n",
    "## assign a color to each community\n",
    "for comm in itertools.islice(fluids, k):\n",
    "    print(tuple(sorted(c) for c in comm))\n",
    "    \n",
    "## drawing the graph\n",
    "nx.draw(g, node_color=color_map, with_labels=True)"
   ]
  },
  {
   "cell_type": "code",
   "execution_count": null,
   "metadata": {},
   "outputs": [],
   "source": []
  },
  {
   "cell_type": "code",
   "execution_count": null,
   "metadata": {},
   "outputs": [],
   "source": []
  },
  {
   "cell_type": "code",
   "execution_count": null,
   "metadata": {},
   "outputs": [],
   "source": []
  },
  {
   "cell_type": "code",
   "execution_count": null,
   "metadata": {},
   "outputs": [],
   "source": []
  },
  {
   "cell_type": "code",
   "execution_count": null,
   "metadata": {},
   "outputs": [],
   "source": []
  },
  {
   "cell_type": "code",
   "execution_count": null,
   "metadata": {},
   "outputs": [],
   "source": []
  },
  {
   "cell_type": "markdown",
   "metadata": {},
   "source": [
    "#### Community Detection Algorithm 3: Label Propagation algorithm"
   ]
  },
  {
   "cell_type": "code",
   "execution_count": null,
   "metadata": {},
   "outputs": [],
   "source": []
  },
  {
   "cell_type": "code",
   "execution_count": null,
   "metadata": {},
   "outputs": [],
   "source": []
  },
  {
   "cell_type": "code",
   "execution_count": null,
   "metadata": {},
   "outputs": [],
   "source": []
  },
  {
   "cell_type": "markdown",
   "metadata": {},
   "source": [
    "#### Community Detection Algorithm 4: Label Propagation algorithm"
   ]
  },
  {
   "cell_type": "code",
   "execution_count": null,
   "metadata": {},
   "outputs": [],
   "source": []
  },
  {
   "cell_type": "code",
   "execution_count": null,
   "metadata": {},
   "outputs": [],
   "source": []
  },
  {
   "cell_type": "code",
   "execution_count": null,
   "metadata": {},
   "outputs": [],
   "source": []
  },
  {
   "cell_type": "markdown",
   "metadata": {},
   "source": [
    "#### Community Detection Algorithm 5: Clique Percolation algorithm"
   ]
  },
  {
   "cell_type": "code",
   "execution_count": null,
   "metadata": {},
   "outputs": [],
   "source": []
  },
  {
   "cell_type": "code",
   "execution_count": null,
   "metadata": {},
   "outputs": [],
   "source": []
  },
  {
   "cell_type": "code",
   "execution_count": null,
   "metadata": {},
   "outputs": [],
   "source": []
  },
  {
   "cell_type": "code",
   "execution_count": null,
   "metadata": {},
   "outputs": [],
   "source": []
  },
  {
   "cell_type": "markdown",
   "metadata": {},
   "source": [
    "#### Community Detection Algorithm 6: Kernighan-Lin algorithm"
   ]
  },
  {
   "cell_type": "markdown",
   "metadata": {},
   "source": []
  }
 ],
 "metadata": {
  "interpreter": {
   "hash": "ac6858c3dbc49267e902ff986705b591b9d7b57befff84fd7d814fe16c4a8e1f"
  },
  "kernelspec": {
   "display_name": "Python 3.8.5",
   "language": "python",
   "name": "python3"
  },
  "language_info": {
   "codemirror_mode": {
    "name": "ipython",
    "version": 3
   },
   "file_extension": ".py",
   "mimetype": "text/x-python",
   "name": "python",
   "nbconvert_exporter": "python",
   "pygments_lexer": "ipython3",
   "version": "3.8.5"
  },
  "orig_nbformat": 4
 },
 "nbformat": 4,
 "nbformat_minor": 2
}

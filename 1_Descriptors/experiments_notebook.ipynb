{
 "cells": [
  {
   "cell_type": "markdown",
   "metadata": {},
   "source": [
    "# Experiments"
   ]
  },
  {
   "cell_type": "code",
   "execution_count": null,
   "metadata": {},
   "outputs": [],
   "source": [
    "print(\"\"\"Structural descriptors of complex networks\"\"\")\n",
    "print(\"\"\"Autors: Edison Bejarano - Eric Walzthöny\"\"\")"
   ]
  },
  {
   "cell_type": "markdown",
   "metadata": {},
   "source": [
    "### Issues 1: Average Degree"
   ]
  },
  {
   "cell_type": "code",
   "execution_count": null,
   "metadata": {},
   "outputs": [],
   "source": [
    "\"\"\"\n",
    "Checking el average degree \n",
    "tu formula de:\n",
    "\n",
    "    average_degree = \"{:.4f}\".format(\n",
    "                                    float(edges / nodes)\n",
    "                                    )  # Total Edges/Total Nodes=Average Degree\n",
    "\n",
    "Esta mal, porque solo toma en cuenta el numero total de nodos\n",
    "(asume que cada nodo tiene una sola conexion), y no las conexiones de cada nodo. \n",
    "\n",
    "Por ejemplo, el nodo, O2, abajo:     \n",
    "    O1-O2-O3\n",
    "       |\n",
    "       O4\n",
    "Hay 4 nodos, pero no todos tienen el degree igual\n",
    "Nodo 01, 03, 04 - Degree: 1 (una conexion)\n",
    "Nodo 02 - Degree: 3 (tres conexiones)\n",
    "\n",
    "Fijate en la implementacion de abajo de \"average_degree_graph\", que se copio del libro.\n",
    "\n",
    "\n",
    "\"\"\"\n",
    "\n",
    "import numpy as np\n",
    "import igraph\n",
    "from igraph import mean\n",
    "\n",
    "\n",
    "## loading a sample network\n",
    "g = net_files['toy']['rb25.net'][0]\n",
    "\n",
    "## Edges & Vertices (Nodes)\n",
    "edges = g.ecount()\n",
    "vertex = g.vcount()\n",
    "\n",
    "## Checking Degrees of the network\n",
    "## Tu implementacion \n",
    "edison_average_degree = edges / vertex  # Total Edges / Total Nodes =Average Degree\n",
    "# Manual Method 1\n",
    "avg_degree_calculated = sum(g.degree()) / vertex\n",
    "## Manual Method 2\n",
    "igraph_avg_degree_calculated = round(mean(g.degree()), 3)\n",
    "## Manual Method 3\n",
    "def average_degree_graph(graph:igraph.Graph) -> float:\n",
    "    \"\"\"\n",
    "    manually calculates the degree of each vertex\n",
    "    \n",
    "    from the textbook (CN, page 127):\n",
    "    \n",
    "    Average Degree = 1/n * sum(degree of vertex in g)\n",
    "    \n",
    "    \"\"\"\n",
    "    ## Degree (Connections) for each node in the graph \n",
    "    list_of_degrees = [x.degree() for x in graph.vs()]\n",
    "    ## Sum of all the degrees (Connections)\n",
    "    degree_sum = sum(list_of_degrees)\n",
    "    ## Sum_Degrees / (total number of nodes)\n",
    "    average_degree = degree_sum / graph.vcount()\n",
    "    return average_degree\n",
    "\n",
    "## Comparing the results \n",
    "print(edges, vertex)\n",
    "print(edison_average_degree, avg_degree_calculated, igraph_avg_degree_calculated, average_degree_graph(g))"
   ]
  },
  {
   "cell_type": "markdown",
   "metadata": {},
   "source": [
    "### Issues 2: Transitivity / Average Clustering coefficient"
   ]
  },
  {
   "cell_type": "code",
   "execution_count": null,
   "metadata": {},
   "outputs": [],
   "source": [
    "## Chapter 7 complex networks !!!!!!!!!!!!!!!!!!\n",
    "\n",
    "## The professor asks for this: \n",
    "## Average clustering coefficient (average of the clustering coefficient of each node)\n",
    "## This means:\n",
    "## For each node / vertex: calculate the transitivity \n",
    "## average the transitivty \n",
    "\n",
    "# transitivity for each node in the graph  \n",
    "trans_per_vertex = [round(g.transitivity_local_undirected(vertices=v['id']),4) for v in g.vs()]\n",
    "\n",
    "# average of all transitivities \n",
    "average_transitivty = round(np.mean(trans_per_vertex), 4)\n",
    "\n",
    "## check if they are the same \n",
    "assert average_transitivty == (round(sum(trans_per_vertex) / g.vcount(),4))\n",
    "## these two are equal \n",
    "print(round(sum(trans_per_vertex) / g.vcount(),4))\n",
    "print(average_transitivty)\n",
    "\n",
    "## These two are the same as above\n",
    "## this is the average transitivity of each node!\n",
    "print(round(g.transitivity_avglocal_undirected(), 4))\n",
    "## this as well \n",
    "print(round(np.mean(g.transitivity_local_undirected()),4))\n",
    "\n",
    "# only off one \n",
    "## this is the global transitivity for all the network\n",
    "## this will only take the global connectiveness of nodes\n",
    "## wvu - uvw, but not the individual nodes connections\n",
    "print(\"This is the weird one\")\n",
    "print(round(g.transitivity_undirected(),4))\n"
   ]
  },
  {
   "cell_type": "markdown",
   "metadata": {},
   "source": [
    "### Issues 3: Average Path Length"
   ]
  },
  {
   "cell_type": "code",
   "execution_count": null,
   "metadata": {},
   "outputs": [],
   "source": [
    "## Proff wants this:\n",
    "## Average path length (average distance between all pairs of nodes)\n",
    "## to do this: \n",
    "## length of paths for each node \n",
    "## average it out for all nodes \n",
    "avg_path_len = g.average_path_length()\n",
    "\n",
    "print(avg_path_len)\n",
    "\n",
    "# shortest paths \n",
    "## from the documentation:\n",
    "## Calculates shortest path lengths for given vertices in a graph.\n",
    "## this will return ONLY THE SHORTEST path for each node \n",
    "## if node A has 3 paths: 1.3, 4.5, 0.9, it will return 0.9 \n",
    "## and not the average(1.3, 4.5, 0.9) ~~ correct average length for each node \n",
    "sh_path = g.shortest_paths()\n",
    "\n",
    "## get all the paths \n",
    "print(np.mean(sh_path))"
   ]
  },
  {
   "cell_type": "markdown",
   "metadata": {},
   "source": [
    "### Testing"
   ]
  },
  {
   "cell_type": "code",
   "execution_count": null,
   "metadata": {},
   "outputs": [],
   "source": []
  },
  {
   "cell_type": "code",
   "execution_count": 1,
   "metadata": {},
   "outputs": [],
   "source": [
    "# imports \n",
    "from utils.utils import extract_zip, read_net_files\n",
    "from utils.utils import make_dataframe"
   ]
  },
  {
   "cell_type": "code",
   "execution_count": 2,
   "metadata": {},
   "outputs": [],
   "source": [
    "## Global Variables\n",
    "ZIP_PATH = './A1-networks.zip'\n",
    "OUTPUT = './A1-networks/'"
   ]
  },
  {
   "cell_type": "code",
   "execution_count": 3,
   "metadata": {},
   "outputs": [],
   "source": [
    "##### Part A: Numerical Descriptors of Networks ######\n",
    "# Extract the zipfile\n",
    "extract_zip(ZIP_PATH, OUTPUT)\n",
    "# reading the file\n",
    "net_files = read_net_files(OUTPUT, verbosity=False)\n",
    "# return data \n",
    "df = make_dataframe(net_files, \"new_Descriptors\", save_csv=True)"
   ]
  },
  {
   "cell_type": "code",
   "execution_count": 4,
   "metadata": {},
   "outputs": [],
   "source": [
    "# Airport real networks\n",
    "\n",
    "# define the airport graph, its already in net_files \n",
    "airports = net_files['real']['airports_UW.net'][0]\n",
    "airport_to_calculate = [\n",
    "    \"PAR\",\n",
    "    \"LON\",\n",
    "    \"FRA\",\n",
    "    \"AMS\",\n",
    "    \"MOW\",\n",
    "    \"NYC\",\n",
    "    \"ATL\",\n",
    "    \"BCN\",\n",
    "    \"WAW\",\n",
    "    \"CHC\",\n",
    "    \"DJE\",\n",
    "    \"ADA\",\n",
    "    \"AGU\",\n",
    "    \"TBO\",\n",
    "    \"ZVA\",\n",
    "]\n",
    "degrees = airports.degree(airport_to_calculate)\n",
    "# b) Numerical descriptors of the nodes of the network real/airports_UW.net\n",
    "#df2 = real_networks_airports(name_networks,networks_graph)\n",
    "\n",
    "# c) Plot the histograms of the degree distributions (PDF, probability distribution function) and the complementary cumulative degree distributions (CCDF) for the following networks:\n"
   ]
  },
  {
   "cell_type": "code",
   "execution_count": null,
   "metadata": {},
   "outputs": [],
   "source": [
    "[print(x) for x in airports.vs()]"
   ]
  },
  {
   "cell_type": "code",
   "execution_count": 5,
   "metadata": {},
   "outputs": [],
   "source": [
    "from utils.airport_descriptors import AirportDescriptor"
   ]
  },
  {
   "cell_type": "code",
   "execution_count": null,
   "metadata": {},
   "outputs": [],
   "source": [
    "## getting all the nodes \n",
    "nodes = [x['id'] for x in airports.vs()]\n",
    "\n",
    "## we want to get the degree for each node - DEGREE\n",
    "degrees_per_node = [round(airports.degree(vertices=v['id']), 8) for v in airports.vs()]\n",
    "\n",
    "## strength for each node - STRENGHT\n",
    "strenght = airports.strength()\n",
    "st_nodes = [round(airports.degree(vertices=v['id']), 8) for v in airports.vs()]\n",
    "\n",
    "## transitivity per node // cluster coefficient\n",
    "clust_coef_nodes = [round(airports.transitivity_local_undirected(vertices=v['id']),8) for v in airports.vs()]"
   ]
  },
  {
   "cell_type": "markdown",
   "metadata": {},
   "source": []
  },
  {
   "cell_type": "code",
   "execution_count": 14,
   "metadata": {},
   "outputs": [],
   "source": [
    "import matplotlib.pyplot as plt"
   ]
  },
  {
   "cell_type": "code",
   "execution_count": null,
   "metadata": {},
   "outputs": [],
   "source": [
    "import igraph\n",
    "k = airports.get_all_simple_paths(v=airport_to_calculate[0])"
   ]
  },
  {
   "cell_type": "code",
   "execution_count": 8,
   "metadata": {},
   "outputs": [
    {
     "ename": "KeyboardInterrupt",
     "evalue": "",
     "output_type": "error",
     "traceback": [
      "\u001b[0;31m---------------------------------------------------------------------------\u001b[0m",
      "\u001b[0;31mKeyboardInterrupt\u001b[0m                         Traceback (most recent call last)",
      "\u001b[0;32m/var/folders/bd/f5z4cc193xgdxq1yr1xpflmm0000gn/T/ipykernel_62051/2377969553.py\u001b[0m in \u001b[0;36m<module>\u001b[0;34m\u001b[0m\n\u001b[1;32m      3\u001b[0m \u001b[0;31m## this works\u001b[0m\u001b[0;34m\u001b[0m\u001b[0;34m\u001b[0m\u001b[0;34m\u001b[0m\u001b[0m\n\u001b[1;32m      4\u001b[0m \u001b[0;31m#AIR._summary()\u001b[0m\u001b[0;34m\u001b[0m\u001b[0;34m\u001b[0m\u001b[0;34m\u001b[0m\u001b[0m\n\u001b[0;32m----> 5\u001b[0;31m \u001b[0mpath_len\u001b[0m \u001b[0;34m=\u001b[0m \u001b[0;34m[\u001b[0m\u001b[0mround\u001b[0m\u001b[0;34m(\u001b[0m\u001b[0mairports\u001b[0m\u001b[0;34m.\u001b[0m\u001b[0maverage_path_length\u001b[0m\u001b[0;34m(\u001b[0m\u001b[0;34m)\u001b[0m\u001b[0;34m,\u001b[0m \u001b[0;36m8\u001b[0m\u001b[0;34m)\u001b[0m \u001b[0;32mfor\u001b[0m \u001b[0mv\u001b[0m \u001b[0;32min\u001b[0m \u001b[0mairports\u001b[0m\u001b[0;34m.\u001b[0m\u001b[0mvs\u001b[0m\u001b[0;34m(\u001b[0m\u001b[0;34m)\u001b[0m\u001b[0;34m]\u001b[0m\u001b[0;34m\u001b[0m\u001b[0;34m\u001b[0m\u001b[0m\n\u001b[0m",
      "\u001b[0;32m/var/folders/bd/f5z4cc193xgdxq1yr1xpflmm0000gn/T/ipykernel_62051/2377969553.py\u001b[0m in \u001b[0;36m<listcomp>\u001b[0;34m(.0)\u001b[0m\n\u001b[1;32m      3\u001b[0m \u001b[0;31m## this works\u001b[0m\u001b[0;34m\u001b[0m\u001b[0;34m\u001b[0m\u001b[0;34m\u001b[0m\u001b[0m\n\u001b[1;32m      4\u001b[0m \u001b[0;31m#AIR._summary()\u001b[0m\u001b[0;34m\u001b[0m\u001b[0;34m\u001b[0m\u001b[0;34m\u001b[0m\u001b[0m\n\u001b[0;32m----> 5\u001b[0;31m \u001b[0mpath_len\u001b[0m \u001b[0;34m=\u001b[0m \u001b[0;34m[\u001b[0m\u001b[0mround\u001b[0m\u001b[0;34m(\u001b[0m\u001b[0mairports\u001b[0m\u001b[0;34m.\u001b[0m\u001b[0maverage_path_length\u001b[0m\u001b[0;34m(\u001b[0m\u001b[0;34m)\u001b[0m\u001b[0;34m,\u001b[0m \u001b[0;36m8\u001b[0m\u001b[0;34m)\u001b[0m \u001b[0;32mfor\u001b[0m \u001b[0mv\u001b[0m \u001b[0;32min\u001b[0m \u001b[0mairports\u001b[0m\u001b[0;34m.\u001b[0m\u001b[0mvs\u001b[0m\u001b[0;34m(\u001b[0m\u001b[0;34m)\u001b[0m\u001b[0;34m]\u001b[0m\u001b[0;34m\u001b[0m\u001b[0;34m\u001b[0m\u001b[0m\n\u001b[0m",
      "\u001b[0;31mKeyboardInterrupt\u001b[0m: "
     ]
    }
   ],
   "source": [
    "#AIR = AirportDescriptor(airports, airport_to_calculate)\n",
    "\n",
    "## this works \n",
    "#AIR._summary()\n",
    "path_len = [round(airports.average_path_length(), 8) for v in airports.vs()]\n",
    "\n",
    "len(path_len)"
   ]
  },
  {
   "cell_type": "code",
   "execution_count": null,
   "metadata": {},
   "outputs": [],
   "source": [
    "# vertices \n",
    "print(airports.vcount())\n",
    "# edges \n",
    "print(airports.ecount())\n",
    "## degrees per nodes\n",
    "print(len(degrees_per_node))\n"
   ]
  },
  {
   "cell_type": "code",
   "execution_count": null,
   "metadata": {},
   "outputs": [],
   "source": [
    "airports.get_all_simple_paths(airport_to_calculate[0])"
   ]
  },
  {
   "cell_type": "code",
   "execution_count": null,
   "metadata": {},
   "outputs": [],
   "source": []
  }
 ],
 "metadata": {
  "interpreter": {
   "hash": "ac6858c3dbc49267e902ff986705b591b9d7b57befff84fd7d814fe16c4a8e1f"
  },
  "kernelspec": {
   "display_name": "Python 3.8.5 ('ci_covid')",
   "language": "python",
   "name": "python3"
  },
  "language_info": {
   "codemirror_mode": {
    "name": "ipython",
    "version": 3
   },
   "file_extension": ".py",
   "mimetype": "text/x-python",
   "name": "python",
   "nbconvert_exporter": "python",
   "pygments_lexer": "ipython3",
   "version": "3.8.5"
  },
  "orig_nbformat": 4
 },
 "nbformat": 4,
 "nbformat_minor": 2
}

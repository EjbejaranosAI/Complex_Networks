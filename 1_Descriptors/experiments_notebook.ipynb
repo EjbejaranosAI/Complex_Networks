{
 "cells": [
  {
   "cell_type": "markdown",
   "metadata": {},
   "source": [
    "# Experiments"
   ]
  },
  {
   "cell_type": "code",
   "execution_count": null,
   "metadata": {},
   "outputs": [],
   "source": [
    "print(\"\"\"Structural descriptors of complex networks\"\"\")\n",
    "print(\"\"\"Autors: Edison Bejarano - Eric Walzthöny\"\"\")"
   ]
  },
  {
   "cell_type": "markdown",
   "metadata": {},
   "source": [
    "### Issues 1: Average Degree"
   ]
  },
  {
   "cell_type": "code",
   "execution_count": null,
   "metadata": {},
   "outputs": [],
   "source": [
    "\"\"\"\n",
    "Checking el average degree \n",
    "tu formula de:\n",
    "\n",
    "    average_degree = \"{:.4f}\".format(\n",
    "                                    float(edges / nodes)\n",
    "                                    )  # Total Edges/Total Nodes=Average Degree\n",
    "\n",
    "Esta mal, porque solo toma en cuenta el numero total de nodos\n",
    "(asume que cada nodo tiene una sola conexion), y no las conexiones de cada nodo. \n",
    "\n",
    "Por ejemplo, el nodo, O2, abajo:     \n",
    "    O1-O2-O3\n",
    "       |\n",
    "       O4\n",
    "Hay 4 nodos, pero no todos tienen el degree igual\n",
    "Nodo 01, 03, 04 - Degree: 1 (una conexion)\n",
    "Nodo 02 - Degree: 3 (tres conexiones)\n",
    "\n",
    "Fijate en la implementacion de abajo de \"average_degree_graph\", que se copio del libro.\n",
    "\n",
    "\n",
    "\"\"\"\n",
    "\n",
    "import numpy as np\n",
    "import igraph\n",
    "from igraph import mean\n",
    "\n",
    "\n",
    "## loading a sample network\n",
    "g = net_files['toy']['rb25.net'][0]\n",
    "\n",
    "## Edges & Vertices (Nodes)\n",
    "edges = g.ecount()\n",
    "vertex = g.vcount()\n",
    "\n",
    "## Checking Degrees of the network\n",
    "## Tu implementacion \n",
    "edison_average_degree = edges / vertex  # Total Edges / Total Nodes =Average Degree\n",
    "# Manual Method 1\n",
    "avg_degree_calculated = sum(g.degree()) / vertex\n",
    "## Manual Method 2\n",
    "igraph_avg_degree_calculated = round(mean(g.degree()), 3)\n",
    "## Manual Method 3\n",
    "def average_degree_graph(graph:igraph.Graph) -> float:\n",
    "    \"\"\"\n",
    "    manually calculates the degree of each vertex\n",
    "    \n",
    "    from the textbook (CN, page 127):\n",
    "    \n",
    "    Average Degree = 1/n * sum(degree of vertex in g)\n",
    "    \n",
    "    \"\"\"\n",
    "    ## Degree (Connections) for each node in the graph \n",
    "    list_of_degrees = [x.degree() for x in graph.vs()]\n",
    "    ## Sum of all the degrees (Connections)\n",
    "    degree_sum = sum(list_of_degrees)\n",
    "    ## Sum_Degrees / (total number of nodes)\n",
    "    average_degree = degree_sum / graph.vcount()\n",
    "    return average_degree\n",
    "\n",
    "## Comparing the results \n",
    "print(edges, vertex)\n",
    "print(edison_average_degree, avg_degree_calculated, igraph_avg_degree_calculated, average_degree_graph(g))"
   ]
  },
  {
   "cell_type": "markdown",
   "metadata": {},
   "source": [
    "### Issues 2: Transitivity / Average Clustering coefficient"
   ]
  },
  {
   "cell_type": "code",
   "execution_count": null,
   "metadata": {},
   "outputs": [],
   "source": [
    "## Chapter 7 complex networks !!!!!!!!!!!!!!!!!!\n",
    "\n",
    "## The professor asks for this: \n",
    "## Average clustering coefficient (average of the clustering coefficient of each node)\n",
    "## This means:\n",
    "## For each node / vertex: calculate the transitivity \n",
    "## average the transitivty \n",
    "\n",
    "# transitivity for each node in the graph  \n",
    "trans_per_vertex = [round(g.transitivity_local_undirected(vertices=v['id']),4) for v in g.vs()]\n",
    "\n",
    "# average of all transitivities \n",
    "average_transitivty = round(np.mean(trans_per_vertex), 4)\n",
    "\n",
    "## check if they are the same \n",
    "assert average_transitivty == (round(sum(trans_per_vertex) / g.vcount(),4))\n",
    "## these two are equal \n",
    "print(round(sum(trans_per_vertex) / g.vcount(),4))\n",
    "print(average_transitivty)\n",
    "\n",
    "## These two are the same as above\n",
    "## this is the average transitivity of each node!\n",
    "print(round(g.transitivity_avglocal_undirected(), 4))\n",
    "## this as well \n",
    "print(round(np.mean(g.transitivity_local_undirected()),4))\n",
    "\n",
    "# only off one \n",
    "## this is the global transitivity for all the network\n",
    "## this will only take the global connectiveness of nodes\n",
    "## wvu - uvw, but not the individual nodes connections\n",
    "print(\"This is the weird one\")\n",
    "print(round(g.transitivity_undirected(),4))\n"
   ]
  },
  {
   "cell_type": "markdown",
   "metadata": {},
   "source": [
    "### Issues 3: Average Path Length"
   ]
  },
  {
   "cell_type": "code",
   "execution_count": null,
   "metadata": {},
   "outputs": [],
   "source": [
    "## Proff wants this:\n",
    "## Average path length (average distance between all pairs of nodes)\n",
    "## to do this: \n",
    "## length of paths for each node \n",
    "## average it out for all nodes \n",
    "avg_path_len = g.average_path_length()\n",
    "\n",
    "print(avg_path_len)\n",
    "\n",
    "# shortest paths \n",
    "## from the documentation:\n",
    "## Calculates shortest path lengths for given vertices in a graph.\n",
    "## this will return ONLY THE SHORTEST path for each node \n",
    "## if node A has 3 paths: 1.3, 4.5, 0.9, it will return 0.9 \n",
    "## and not the average(1.3, 4.5, 0.9) ~~ correct average length for each node \n",
    "sh_path = g.shortest_paths()\n",
    "\n",
    "## get all the paths \n",
    "print(np.mean(sh_path))"
   ]
  },
  {
   "cell_type": "markdown",
   "metadata": {},
   "source": [
    "### Testing"
   ]
  },
  {
   "cell_type": "code",
   "execution_count": 1,
   "metadata": {},
   "outputs": [],
   "source": [
    "# imports \n",
    "from utils.utils import extract_zip, read_net_files\n",
    "from utils.utils import extract_data_and_save"
   ]
  },
  {
   "cell_type": "code",
   "execution_count": 3,
   "metadata": {},
   "outputs": [],
   "source": [
    "## Global Variables\n",
    "ZIP_PATH = './A1-networks.zip'\n",
    "OUTPUT = './A1-networks/'"
   ]
  },
  {
   "cell_type": "code",
   "execution_count": 4,
   "metadata": {},
   "outputs": [
    {
     "name": "stdout",
     "output_type": "stream",
     "text": [
      "Folder already exists\n"
     ]
    }
   ],
   "source": [
    "##### Part A: Numerical Descriptors of Networks ######\n",
    "# Extract the zipfile\n",
    "extract_zip(ZIP_PATH, OUTPUT)\n",
    "# reading the file\n",
    "net_files = read_net_files(OUTPUT, verbosity=False)\n",
    "# return data \n",
    "df = extract_data_and_save(net_files, \"new_Descriptors\", save_csv=True)"
   ]
  },
  {
   "cell_type": "code",
   "execution_count": 5,
   "metadata": {},
   "outputs": [],
   "source": [
    "# Airport real networks\n",
    "\n",
    "# define the airport graph, its already in net_files \n",
    "airports = net_files['real']['airports_UW.net'][0]\n",
    "## these need to be shown in a table \n",
    "airport_to_calculate = [\n",
    "                        \"PAR\",\n",
    "                        \"LON\",\n",
    "                        \"FRA\",\n",
    "                        \"AMS\",\n",
    "                        \"MOW\",\n",
    "                        \"NYC\",\n",
    "                        \"ATL\",\n",
    "                        \"BCN\",\n",
    "                        \"WAW\",\n",
    "                        \"CHC\",\n",
    "                        \"DJE\",\n",
    "                        \"ADA\",\n",
    "                        \"AGU\",\n",
    "                        \"TBO\",\n",
    "                        \"ZVA\",\n",
    "                        ]"
   ]
  },
  {
   "cell_type": "code",
   "execution_count": 6,
   "metadata": {},
   "outputs": [
    {
     "data": {
      "text/plain": [
       "21"
      ]
     },
     "execution_count": 6,
     "metadata": {},
     "output_type": "execute_result"
    }
   ],
   "source": [
    "from utils.airport_descriptors import AirportDescriptor\n",
    "import gc \n",
    "gc.collect()"
   ]
  },
  {
   "cell_type": "code",
   "execution_count": 7,
   "metadata": {},
   "outputs": [],
   "source": [
    "port = AirportDescriptor(airports)"
   ]
  },
  {
   "cell_type": "code",
   "execution_count": 27,
   "metadata": {},
   "outputs": [],
   "source": [
    "\n",
    "## Checking!!\n",
    "df_edison = pd.read_csv(\"./results/Airports_Descriptors.csv\")\n",
    "df_report = df.loc[df['Airport'].isin(airport_to_calculate)]"
   ]
  },
  {
   "cell_type": "code",
   "execution_count": null,
   "metadata": {},
   "outputs": [],
   "source": [
    "\"\"\"\n",
    "Maybe increase efficiency with multithreading ?\n",
    "\n",
    "Yes multithreading pool can work !!\n",
    "\n",
    "\"\"\"\n",
    "import igraph \n",
    "import numpy as np\n",
    "def get_average_max_len(graph:igraph.Graph, node:int) -> float:\n",
    "    \"\"\" gets all the paths and gets averag and max\"\"\"\n",
    "    ## all the path lengths\n",
    "    path_len = [len(p) for p in graph.get_all_shortest_paths(v=node)]\n",
    "    ## average path \n",
    "    avg_path = round(np.mean(path_len), 8)\n",
    "    ## max \n",
    "    max_path = round(np.max(path_len), 8)\n",
    "    \n",
    "    return avg_path, max_path \n",
    "\n",
    "\n",
    "from collections import defaultdict\n",
    "import gc \n",
    "from tqdm import tqdm\n",
    "d = dict()\n",
    "for _, node in enumerate(tqdm(airports.vs())):\n",
    "    ## id of the node \n",
    "    node_id,node_name = node['id'], node['name']\n",
    "    #print(node_name)\n",
    "    ## get the distance \n",
    "    avg_len, max_len = get_average_max_len(airports, node=node_id)\n",
    "    d[node_name] = {\n",
    "                     \"avg_len\": avg_len,\n",
    "                     \"max_len\": max_len\n",
    "                     }\n",
    "    gc.collect()"
   ]
  },
  {
   "cell_type": "code",
   "execution_count": null,
   "metadata": {},
   "outputs": [],
   "source": []
  },
  {
   "cell_type": "code",
   "execution_count": null,
   "metadata": {},
   "outputs": [],
   "source": []
  }
 ],
 "metadata": {
  "interpreter": {
   "hash": "ac6858c3dbc49267e902ff986705b591b9d7b57befff84fd7d814fe16c4a8e1f"
  },
  "kernelspec": {
   "display_name": "Python 3.8.5 ('ci_covid')",
   "language": "python",
   "name": "python3"
  },
  "language_info": {
   "codemirror_mode": {
    "name": "ipython",
    "version": 3
   },
   "file_extension": ".py",
   "mimetype": "text/x-python",
   "name": "python",
   "nbconvert_exporter": "python",
   "pygments_lexer": "ipython3",
   "version": "3.8.5"
  },
  "orig_nbformat": 4
 },
 "nbformat": 4,
 "nbformat_minor": 2
}
